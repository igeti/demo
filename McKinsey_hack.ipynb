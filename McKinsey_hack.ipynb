{
 "cells": [
  {
   "cell_type": "code",
   "execution_count": 329,
   "metadata": {},
   "outputs": [],
   "source": [
    "import pandas as pd\n",
    "import numpy as np\n",
    "import seaborn as sns\n",
    "from math import sin, cos, sqrt, atan2, radians\n",
    "\n",
    "from sklearn.metrics import roc_auc_score\n",
    "\n",
    "from xgboost import XGBClassifier\n",
    "from sklearn.linear_model import LogisticRegression\n",
    "from sklearn.preprocessing import LabelEncoder, StandardScaler, PolynomialFeatures\n",
    "from sklearn.model_selection import cross_val_score, StratifiedKFold\n",
    "\n",
    "%matplotlib inline"
   ]
  },
  {
   "cell_type": "code",
   "execution_count": 304,
   "metadata": {
    "collapsed": true
   },
   "outputs": [],
   "source": [
    "data = pd.read_csv(\"CAX_TrainingData_McK.csv\")\n",
    "test_data = pd.read_csv(\"CAX_TestData_McK.csv\")"
   ]
  },
  {
   "cell_type": "code",
   "execution_count": 305,
   "metadata": {},
   "outputs": [
    {
     "data": {
      "text/html": [
       "<div>\n",
       "<style>\n",
       "    .dataframe thead tr:only-child th {\n",
       "        text-align: right;\n",
       "    }\n",
       "\n",
       "    .dataframe thead th {\n",
       "        text-align: left;\n",
       "    }\n",
       "\n",
       "    .dataframe tbody tr th {\n",
       "        vertical-align: top;\n",
       "    }\n",
       "</style>\n",
       "<table border=\"1\" class=\"dataframe\">\n",
       "  <thead>\n",
       "    <tr style=\"text-align: right;\">\n",
       "      <th></th>\n",
       "      <th>offer_gk</th>\n",
       "      <th>weekday_key</th>\n",
       "      <th>hour_key</th>\n",
       "      <th>driver_gk</th>\n",
       "      <th>order_gk</th>\n",
       "      <th>driver_latitude</th>\n",
       "      <th>driver_longitude</th>\n",
       "      <th>origin_order_latitude</th>\n",
       "      <th>origin_order_longitude</th>\n",
       "      <th>distance_km</th>\n",
       "      <th>duration_min</th>\n",
       "      <th>offer_class_group</th>\n",
       "      <th>ride_type_desc</th>\n",
       "      <th>driver_response</th>\n",
       "    </tr>\n",
       "  </thead>\n",
       "  <tbody>\n",
       "    <tr>\n",
       "      <th>0</th>\n",
       "      <td>1105373</td>\n",
       "      <td>5</td>\n",
       "      <td>20</td>\n",
       "      <td>6080</td>\n",
       "      <td>174182</td>\n",
       "      <td>55.818842</td>\n",
       "      <td>37.334562</td>\n",
       "      <td>55.814567</td>\n",
       "      <td>37.355010</td>\n",
       "      <td>-1.000</td>\n",
       "      <td>-1.000</td>\n",
       "      <td>Economy</td>\n",
       "      <td>private</td>\n",
       "      <td>0</td>\n",
       "    </tr>\n",
       "    <tr>\n",
       "      <th>1</th>\n",
       "      <td>759733</td>\n",
       "      <td>5</td>\n",
       "      <td>14</td>\n",
       "      <td>6080</td>\n",
       "      <td>358774</td>\n",
       "      <td>55.805342</td>\n",
       "      <td>37.515023</td>\n",
       "      <td>55.819329</td>\n",
       "      <td>37.466398</td>\n",
       "      <td>18.802</td>\n",
       "      <td>25.217</td>\n",
       "      <td>Standard</td>\n",
       "      <td>private</td>\n",
       "      <td>1</td>\n",
       "    </tr>\n",
       "    <tr>\n",
       "      <th>2</th>\n",
       "      <td>416977</td>\n",
       "      <td>6</td>\n",
       "      <td>14</td>\n",
       "      <td>6080</td>\n",
       "      <td>866260</td>\n",
       "      <td>55.813978</td>\n",
       "      <td>37.347688</td>\n",
       "      <td>55.814827</td>\n",
       "      <td>37.354074</td>\n",
       "      <td>6.747</td>\n",
       "      <td>9.800</td>\n",
       "      <td>Economy</td>\n",
       "      <td>private</td>\n",
       "      <td>0</td>\n",
       "    </tr>\n",
       "    <tr>\n",
       "      <th>3</th>\n",
       "      <td>889660</td>\n",
       "      <td>2</td>\n",
       "      <td>6</td>\n",
       "      <td>6080</td>\n",
       "      <td>163522</td>\n",
       "      <td>55.745922</td>\n",
       "      <td>37.421748</td>\n",
       "      <td>55.743469</td>\n",
       "      <td>37.431130</td>\n",
       "      <td>-1.000</td>\n",
       "      <td>-1.000</td>\n",
       "      <td>Economy</td>\n",
       "      <td>private</td>\n",
       "      <td>1</td>\n",
       "    </tr>\n",
       "    <tr>\n",
       "      <th>4</th>\n",
       "      <td>1120055</td>\n",
       "      <td>4</td>\n",
       "      <td>16</td>\n",
       "      <td>6080</td>\n",
       "      <td>506710</td>\n",
       "      <td>55.803578</td>\n",
       "      <td>37.521602</td>\n",
       "      <td>55.812559</td>\n",
       "      <td>37.527407</td>\n",
       "      <td>12.383</td>\n",
       "      <td>19.250</td>\n",
       "      <td>Economy</td>\n",
       "      <td>private</td>\n",
       "      <td>1</td>\n",
       "    </tr>\n",
       "  </tbody>\n",
       "</table>\n",
       "</div>"
      ],
      "text/plain": [
       "   offer_gk  weekday_key  hour_key  driver_gk  order_gk  driver_latitude  \\\n",
       "0   1105373            5        20       6080    174182        55.818842   \n",
       "1    759733            5        14       6080    358774        55.805342   \n",
       "2    416977            6        14       6080    866260        55.813978   \n",
       "3    889660            2         6       6080    163522        55.745922   \n",
       "4   1120055            4        16       6080    506710        55.803578   \n",
       "\n",
       "   driver_longitude  origin_order_latitude  origin_order_longitude  \\\n",
       "0         37.334562              55.814567               37.355010   \n",
       "1         37.515023              55.819329               37.466398   \n",
       "2         37.347688              55.814827               37.354074   \n",
       "3         37.421748              55.743469               37.431130   \n",
       "4         37.521602              55.812559               37.527407   \n",
       "\n",
       "   distance_km  duration_min offer_class_group ride_type_desc  driver_response  \n",
       "0       -1.000        -1.000           Economy        private                0  \n",
       "1       18.802        25.217          Standard        private                1  \n",
       "2        6.747         9.800           Economy        private                0  \n",
       "3       -1.000        -1.000           Economy        private                1  \n",
       "4       12.383        19.250           Economy        private                1  "
      ]
     },
     "execution_count": 305,
     "metadata": {},
     "output_type": "execute_result"
    }
   ],
   "source": [
    "data.head()"
   ]
  },
  {
   "cell_type": "code",
   "execution_count": 306,
   "metadata": {},
   "outputs": [
    {
     "data": {
      "text/html": [
       "<div>\n",
       "<style>\n",
       "    .dataframe thead tr:only-child th {\n",
       "        text-align: right;\n",
       "    }\n",
       "\n",
       "    .dataframe thead th {\n",
       "        text-align: left;\n",
       "    }\n",
       "\n",
       "    .dataframe tbody tr th {\n",
       "        vertical-align: top;\n",
       "    }\n",
       "</style>\n",
       "<table border=\"1\" class=\"dataframe\">\n",
       "  <thead>\n",
       "    <tr style=\"text-align: right;\">\n",
       "      <th></th>\n",
       "      <th>offer_gk</th>\n",
       "      <th>weekday_key</th>\n",
       "      <th>hour_key</th>\n",
       "      <th>driver_gk</th>\n",
       "      <th>order_gk</th>\n",
       "      <th>driver_latitude</th>\n",
       "      <th>driver_longitude</th>\n",
       "      <th>origin_order_latitude</th>\n",
       "      <th>origin_order_longitude</th>\n",
       "      <th>distance_km</th>\n",
       "      <th>duration_min</th>\n",
       "      <th>driver_response</th>\n",
       "    </tr>\n",
       "  </thead>\n",
       "  <tbody>\n",
       "    <tr>\n",
       "      <th>count</th>\n",
       "      <td>8.925570e+05</td>\n",
       "      <td>892557.000000</td>\n",
       "      <td>892557.000000</td>\n",
       "      <td>892557.000000</td>\n",
       "      <td>892557.000000</td>\n",
       "      <td>892557.000000</td>\n",
       "      <td>892557.000000</td>\n",
       "      <td>892557.000000</td>\n",
       "      <td>892557.000000</td>\n",
       "      <td>892557.000000</td>\n",
       "      <td>892557.000000</td>\n",
       "      <td>892557.000000</td>\n",
       "    </tr>\n",
       "    <tr>\n",
       "      <th>mean</th>\n",
       "      <td>5.654042e+05</td>\n",
       "      <td>3.162056</td>\n",
       "      <td>13.986734</td>\n",
       "      <td>3400.320598</td>\n",
       "      <td>460220.056013</td>\n",
       "      <td>55.574894</td>\n",
       "      <td>37.454412</td>\n",
       "      <td>55.739000</td>\n",
       "      <td>37.567568</td>\n",
       "      <td>13.473961</td>\n",
       "      <td>18.926885</td>\n",
       "      <td>0.740231</td>\n",
       "    </tr>\n",
       "    <tr>\n",
       "      <th>std</th>\n",
       "      <td>3.263001e+05</td>\n",
       "      <td>2.008709</td>\n",
       "      <td>6.626351</td>\n",
       "      <td>1981.507779</td>\n",
       "      <td>265817.226979</td>\n",
       "      <td>3.164886</td>\n",
       "      <td>2.154339</td>\n",
       "      <td>0.809843</td>\n",
       "      <td>0.563207</td>\n",
       "      <td>57.430386</td>\n",
       "      <td>44.656258</td>\n",
       "      <td>0.438508</td>\n",
       "    </tr>\n",
       "    <tr>\n",
       "      <th>min</th>\n",
       "      <td>0.000000e+00</td>\n",
       "      <td>0.000000</td>\n",
       "      <td>0.000000</td>\n",
       "      <td>0.000000</td>\n",
       "      <td>2.000000</td>\n",
       "      <td>-1.000000</td>\n",
       "      <td>-1.000000</td>\n",
       "      <td>-1.000000</td>\n",
       "      <td>-1.000000</td>\n",
       "      <td>-1.000000</td>\n",
       "      <td>-1.000000</td>\n",
       "      <td>0.000000</td>\n",
       "    </tr>\n",
       "    <tr>\n",
       "      <th>25%</th>\n",
       "      <td>2.825600e+05</td>\n",
       "      <td>1.000000</td>\n",
       "      <td>9.000000</td>\n",
       "      <td>1627.000000</td>\n",
       "      <td>229847.000000</td>\n",
       "      <td>55.704058</td>\n",
       "      <td>37.480870</td>\n",
       "      <td>55.703518</td>\n",
       "      <td>37.481393</td>\n",
       "      <td>-1.000000</td>\n",
       "      <td>-1.000000</td>\n",
       "      <td>0.000000</td>\n",
       "    </tr>\n",
       "    <tr>\n",
       "      <th>50%</th>\n",
       "      <td>5.655940e+05</td>\n",
       "      <td>3.000000</td>\n",
       "      <td>15.000000</td>\n",
       "      <td>3416.000000</td>\n",
       "      <td>460171.000000</td>\n",
       "      <td>55.755692</td>\n",
       "      <td>37.581135</td>\n",
       "      <td>55.756354</td>\n",
       "      <td>37.580863</td>\n",
       "      <td>6.923000</td>\n",
       "      <td>15.383000</td>\n",
       "      <td>1.000000</td>\n",
       "    </tr>\n",
       "    <tr>\n",
       "      <th>75%</th>\n",
       "      <td>8.481040e+05</td>\n",
       "      <td>5.000000</td>\n",
       "      <td>19.000000</td>\n",
       "      <td>5110.000000</td>\n",
       "      <td>690461.000000</td>\n",
       "      <td>55.802803</td>\n",
       "      <td>37.640188</td>\n",
       "      <td>55.803056</td>\n",
       "      <td>37.640674</td>\n",
       "      <td>18.199000</td>\n",
       "      <td>28.933000</td>\n",
       "      <td>1.000000</td>\n",
       "    </tr>\n",
       "    <tr>\n",
       "      <th>max</th>\n",
       "      <td>1.130369e+06</td>\n",
       "      <td>6.000000</td>\n",
       "      <td>23.000000</td>\n",
       "      <td>6822.000000</td>\n",
       "      <td>920378.000000</td>\n",
       "      <td>56.367198</td>\n",
       "      <td>38.987458</td>\n",
       "      <td>56.418035</td>\n",
       "      <td>38.988119</td>\n",
       "      <td>9137.747000</td>\n",
       "      <td>6752.483000</td>\n",
       "      <td>1.000000</td>\n",
       "    </tr>\n",
       "  </tbody>\n",
       "</table>\n",
       "</div>"
      ],
      "text/plain": [
       "           offer_gk    weekday_key       hour_key      driver_gk  \\\n",
       "count  8.925570e+05  892557.000000  892557.000000  892557.000000   \n",
       "mean   5.654042e+05       3.162056      13.986734    3400.320598   \n",
       "std    3.263001e+05       2.008709       6.626351    1981.507779   \n",
       "min    0.000000e+00       0.000000       0.000000       0.000000   \n",
       "25%    2.825600e+05       1.000000       9.000000    1627.000000   \n",
       "50%    5.655940e+05       3.000000      15.000000    3416.000000   \n",
       "75%    8.481040e+05       5.000000      19.000000    5110.000000   \n",
       "max    1.130369e+06       6.000000      23.000000    6822.000000   \n",
       "\n",
       "            order_gk  driver_latitude  driver_longitude  \\\n",
       "count  892557.000000    892557.000000     892557.000000   \n",
       "mean   460220.056013        55.574894         37.454412   \n",
       "std    265817.226979         3.164886          2.154339   \n",
       "min         2.000000        -1.000000         -1.000000   \n",
       "25%    229847.000000        55.704058         37.480870   \n",
       "50%    460171.000000        55.755692         37.581135   \n",
       "75%    690461.000000        55.802803         37.640188   \n",
       "max    920378.000000        56.367198         38.987458   \n",
       "\n",
       "       origin_order_latitude  origin_order_longitude    distance_km  \\\n",
       "count          892557.000000           892557.000000  892557.000000   \n",
       "mean               55.739000               37.567568      13.473961   \n",
       "std                 0.809843                0.563207      57.430386   \n",
       "min                -1.000000               -1.000000      -1.000000   \n",
       "25%                55.703518               37.481393      -1.000000   \n",
       "50%                55.756354               37.580863       6.923000   \n",
       "75%                55.803056               37.640674      18.199000   \n",
       "max                56.418035               38.988119    9137.747000   \n",
       "\n",
       "        duration_min  driver_response  \n",
       "count  892557.000000    892557.000000  \n",
       "mean       18.926885         0.740231  \n",
       "std        44.656258         0.438508  \n",
       "min        -1.000000         0.000000  \n",
       "25%        -1.000000         0.000000  \n",
       "50%        15.383000         1.000000  \n",
       "75%        28.933000         1.000000  \n",
       "max      6752.483000         1.000000  "
      ]
     },
     "execution_count": 306,
     "metadata": {},
     "output_type": "execute_result"
    }
   ],
   "source": [
    "data.describe()"
   ]
  },
  {
   "cell_type": "code",
   "execution_count": 307,
   "metadata": {},
   "outputs": [
    {
     "data": {
      "text/plain": [
       "<matplotlib.axes._subplots.AxesSubplot at 0x7f3e6a48d048>"
      ]
     },
     "execution_count": 307,
     "metadata": {},
     "output_type": "execute_result"
    },
    {
     "data": {
      "image/png": "[encoded data removed]",
      "text/plain": [
       "<matplotlib.figure.Figure at 0x7f3e877ce160>"
      ]
     },
     "metadata": {},
     "output_type": "display_data"
    }
   ],
   "source": [
    "sns.distplot(data.weekday_key)"
   ]
  },
  {
   "cell_type": "code",
   "execution_count": 308,
   "metadata": {},
   "outputs": [
    {
     "data": {
      "text/plain": [
       "<matplotlib.axes._subplots.AxesSubplot at 0x7f3e6a43ccc0>"
      ]
     },
     "execution_count": 308,
     "metadata": {},
     "output_type": "execute_result"
    },
    {
     "data": {
      "image/png": "[encoded data removed]",
      "text/plain": [
       "<matplotlib.figure.Figure at 0x7f3e6a418fd0>"
      ]
     },
     "metadata": {},
     "output_type": "display_data"
    }
   ],
   "source": [
    "sns.distplot(data.hour_key)"
   ]
  },
  {
   "cell_type": "code",
   "execution_count": 309,
   "metadata": {},
   "outputs": [
    {
     "data": {
      "text/plain": [
       "<matplotlib.axes._subplots.AxesSubplot at 0x7f3e877ce198>"
      ]
     },
     "execution_count": 309,
     "metadata": {},
     "output_type": "execute_result"
    },
    {
     "data": {
      "image/png": "[encoded data removed]",
      "text/plain": [
       "<matplotlib.figure.Figure at 0x7f3e6a5a5a20>"
      ]
     },
     "metadata": {},
     "output_type": "display_data"
    }
   ],
   "source": [
    "sns.distplot(np.log((data.driver_latitude.values+9))/5)"
   ]
  },
  {
   "cell_type": "code",
   "execution_count": 310,
   "metadata": {},
   "outputs": [
    {
     "data": {
      "text/plain": [
       "<matplotlib.axes._subplots.AxesSubplot at 0x7f3e65eed4e0>"
      ]
     },
     "execution_count": 310,
     "metadata": {},
     "output_type": "execute_result"
    },
    {
     "data": {
      "image/png": "[encoded data removed]",
      "text/plain": [
       "<matplotlib.figure.Figure at 0x7f3e65e96908>"
      ]
     },
     "metadata": {},
     "output_type": "display_data"
    }
   ],
   "source": [
    "sns.distplot(data.driver_longitude)"
   ]
  },
  {
   "cell_type": "code",
   "execution_count": 311,
   "metadata": {},
   "outputs": [
    {
     "data": {
      "text/html": [
       "<div>\n",
       "<style>\n",
       "    .dataframe thead tr:only-child th {\n",
       "        text-align: right;\n",
       "    }\n",
       "\n",
       "    .dataframe thead th {\n",
       "        text-align: left;\n",
       "    }\n",
       "\n",
       "    .dataframe tbody tr th {\n",
       "        vertical-align: top;\n",
       "    }\n",
       "</style>\n",
       "<table border=\"1\" class=\"dataframe\">\n",
       "  <thead>\n",
       "    <tr style=\"text-align: right;\">\n",
       "      <th></th>\n",
       "      <th>offer_gk</th>\n",
       "      <th>weekday_key</th>\n",
       "      <th>hour_key</th>\n",
       "      <th>driver_gk</th>\n",
       "      <th>order_gk</th>\n",
       "      <th>driver_latitude</th>\n",
       "      <th>driver_longitude</th>\n",
       "      <th>origin_order_latitude</th>\n",
       "      <th>origin_order_longitude</th>\n",
       "      <th>distance_km</th>\n",
       "      <th>duration_min</th>\n",
       "      <th>offer_class_group</th>\n",
       "      <th>ride_type_desc</th>\n",
       "      <th>driver_response</th>\n",
       "    </tr>\n",
       "  </thead>\n",
       "  <tbody>\n",
       "    <tr>\n",
       "      <th>0</th>\n",
       "      <td>152446</td>\n",
       "      <td>5</td>\n",
       "      <td>0</td>\n",
       "      <td>5021</td>\n",
       "      <td>648419</td>\n",
       "      <td>55.763302</td>\n",
       "      <td>37.593368</td>\n",
       "      <td>55.758230</td>\n",
       "      <td>37.613689</td>\n",
       "      <td>17.445</td>\n",
       "      <td>24.367</td>\n",
       "      <td>Premium</td>\n",
       "      <td>private</td>\n",
       "      <td>NaN</td>\n",
       "    </tr>\n",
       "    <tr>\n",
       "      <th>1</th>\n",
       "      <td>281031</td>\n",
       "      <td>5</td>\n",
       "      <td>7</td>\n",
       "      <td>5817</td>\n",
       "      <td>405907</td>\n",
       "      <td>55.755470</td>\n",
       "      <td>37.648689</td>\n",
       "      <td>55.741544</td>\n",
       "      <td>37.622868</td>\n",
       "      <td>-1.000</td>\n",
       "      <td>-1.000</td>\n",
       "      <td>Economy</td>\n",
       "      <td>private</td>\n",
       "      <td>NaN</td>\n",
       "    </tr>\n",
       "    <tr>\n",
       "      <th>2</th>\n",
       "      <td>779964</td>\n",
       "      <td>5</td>\n",
       "      <td>1</td>\n",
       "      <td>3870</td>\n",
       "      <td>894998</td>\n",
       "      <td>55.619002</td>\n",
       "      <td>37.596140</td>\n",
       "      <td>55.615923</td>\n",
       "      <td>37.607872</td>\n",
       "      <td>-1.000</td>\n",
       "      <td>-1.000</td>\n",
       "      <td>Standard</td>\n",
       "      <td>business</td>\n",
       "      <td>NaN</td>\n",
       "    </tr>\n",
       "    <tr>\n",
       "      <th>3</th>\n",
       "      <td>16720</td>\n",
       "      <td>5</td>\n",
       "      <td>13</td>\n",
       "      <td>5607</td>\n",
       "      <td>505054</td>\n",
       "      <td>55.620905</td>\n",
       "      <td>37.606550</td>\n",
       "      <td>55.614517</td>\n",
       "      <td>37.591161</td>\n",
       "      <td>-1.000</td>\n",
       "      <td>-1.000</td>\n",
       "      <td>Standard</td>\n",
       "      <td>private</td>\n",
       "      <td>NaN</td>\n",
       "    </tr>\n",
       "    <tr>\n",
       "      <th>4</th>\n",
       "      <td>492087</td>\n",
       "      <td>5</td>\n",
       "      <td>13</td>\n",
       "      <td>3786</td>\n",
       "      <td>459994</td>\n",
       "      <td>55.893228</td>\n",
       "      <td>37.673552</td>\n",
       "      <td>55.888084</td>\n",
       "      <td>37.662087</td>\n",
       "      <td>-1.000</td>\n",
       "      <td>-1.000</td>\n",
       "      <td>Standard</td>\n",
       "      <td>private</td>\n",
       "      <td>NaN</td>\n",
       "    </tr>\n",
       "  </tbody>\n",
       "</table>\n",
       "</div>"
      ],
      "text/plain": [
       "   offer_gk  weekday_key  hour_key  driver_gk  order_gk  driver_latitude  \\\n",
       "0    152446            5         0       5021    648419        55.763302   \n",
       "1    281031            5         7       5817    405907        55.755470   \n",
       "2    779964            5         1       3870    894998        55.619002   \n",
       "3     16720            5        13       5607    505054        55.620905   \n",
       "4    492087            5        13       3786    459994        55.893228   \n",
       "\n",
       "   driver_longitude  origin_order_latitude  origin_order_longitude  \\\n",
       "0         37.593368              55.758230               37.613689   \n",
       "1         37.648689              55.741544               37.622868   \n",
       "2         37.596140              55.615923               37.607872   \n",
       "3         37.606550              55.614517               37.591161   \n",
       "4         37.673552              55.888084               37.662087   \n",
       "\n",
       "   distance_km  duration_min offer_class_group ride_type_desc  driver_response  \n",
       "0       17.445        24.367           Premium        private              NaN  \n",
       "1       -1.000        -1.000           Economy        private              NaN  \n",
       "2       -1.000        -1.000          Standard       business              NaN  \n",
       "3       -1.000        -1.000          Standard        private              NaN  \n",
       "4       -1.000        -1.000          Standard        private              NaN  "
      ]
     },
     "execution_count": 311,
     "metadata": {},
     "output_type": "execute_result"
    }
   ],
   "source": [
    "test_data.head()"
   ]
  },
  {
   "cell_type": "code",
   "execution_count": 312,
   "metadata": {},
   "outputs": [
    {
     "data": {
      "text/plain": [
       "(892557, 14)"
      ]
     },
     "execution_count": 312,
     "metadata": {},
     "output_type": "execute_result"
    }
   ],
   "source": [
    "data.shape"
   ]
  },
  {
   "cell_type": "code",
   "execution_count": 313,
   "metadata": {},
   "outputs": [
    {
     "data": {
      "text/plain": [
       "(237813, 14)"
      ]
     },
     "execution_count": 313,
     "metadata": {},
     "output_type": "execute_result"
    }
   ],
   "source": [
    "test_data.shape"
   ]
  },
  {
   "cell_type": "markdown",
   "metadata": {},
   "source": [
    "### Add feature distance between driver and offer "
   ]
  },
  {
   "cell_type": "code",
   "execution_count": 314,
   "metadata": {
    "collapsed": true
   },
   "outputs": [],
   "source": [
    "def distance_between_two_points(lat1 = 52.2296756, lon1 = 21.0122287, lat2 = 52.406374, lon2 = 16.9251681):\n",
    "    # approximate radius of earth in km\n",
    "    R = 6373.0\n",
    "\n",
    "    lat1 = radians(lat1)\n",
    "    lon1 = radians(lon1)\n",
    "    lat2 = radians(lat2)\n",
    "    lon2 = radians(lon2)\n",
    "\n",
    "    dlon = lon2 - lon1\n",
    "    dlat = lat2 - lat1\n",
    "\n",
    "    a = sin(dlat / 2)**2 + cos(lat1) * cos(lat2) * sin(dlon / 2)**2\n",
    "    c = 2 * atan2(sqrt(a), sqrt(1 - a))\n",
    "\n",
    "    distance = R * c\n",
    "\n",
    "    return distance #in km"
   ]
  },
  {
   "cell_type": "code",
   "execution_count": 315,
   "metadata": {
    "collapsed": true
   },
   "outputs": [],
   "source": [
    "dist_between_driver_offer = []"
   ]
  },
  {
   "cell_type": "code",
   "execution_count": 316,
   "metadata": {},
   "outputs": [],
   "source": [
    "for d_lat, d_lon, o_lat, o_lon in zip(data.driver_latitude.values,data.driver_longitude.values,data.origin_order_latitude.values,data.origin_order_longitude.values):\n",
    "    dist_between_driver_offer += [distance_between_two_points(d_lat, d_lon, o_lat, o_lon)]"
   ]
  },
  {
   "cell_type": "code",
   "execution_count": 317,
   "metadata": {
    "collapsed": true
   },
   "outputs": [],
   "source": [
    "data[\"dist_between_driver_offer\"] = dist_between_driver_offer"
   ]
  },
  {
   "cell_type": "code",
   "execution_count": 318,
   "metadata": {},
   "outputs": [
    {
     "data": {
      "text/plain": [
       "1    0.740231\n",
       "0    0.259769\n",
       "Name: driver_response, dtype: float64"
      ]
     },
     "execution_count": 318,
     "metadata": {},
     "output_type": "execute_result"
    }
   ],
   "source": [
    "data.driver_response.value_counts()/data.shape[0]"
   ]
  },
  {
   "cell_type": "code",
   "execution_count": 319,
   "metadata": {},
   "outputs": [
    {
     "data": {
      "text/plain": [
       "Economy     424022\n",
       "Standard    399867\n",
       "Premium      38726\n",
       "Delivery     14631\n",
       "Kids          7935\n",
       "VIP           4940\n",
       "XL            1797\n",
       "VIP+           606\n",
       "Test            33\n",
       "Name: offer_class_group, dtype: int64"
      ]
     },
     "execution_count": 319,
     "metadata": {},
     "output_type": "execute_result"
    }
   ],
   "source": [
    "data.offer_class_group.value_counts()"
   ]
  },
  {
   "cell_type": "code",
   "execution_count": 320,
   "metadata": {},
   "outputs": [
    {
     "data": {
      "text/plain": [
       "Standard    119104\n",
       "Economy      98197\n",
       "Premium      11080\n",
       "Delivery      4733\n",
       "Kids          2586\n",
       "VIP           1479\n",
       "XL             431\n",
       "VIP+           193\n",
       "Test            10\n",
       "Name: offer_class_group, dtype: int64"
      ]
     },
     "execution_count": 320,
     "metadata": {},
     "output_type": "execute_result"
    }
   ],
   "source": [
    "test_data.offer_class_group.value_counts()"
   ]
  },
  {
   "cell_type": "code",
   "execution_count": 321,
   "metadata": {
    "collapsed": true
   },
   "outputs": [],
   "source": [
    "le = LabelEncoder()\n",
    "le.fit([\"Test\", \"Economy\", \"Delivery\",\"Standard\",\"Kids\", \"XL\",\"Premium\",\"VIP\",\"VIP+\"])   \n",
    "data.offer_class_group = le.transform(data.offer_class_group.values)"
   ]
  },
  {
   "cell_type": "code",
   "execution_count": 322,
   "metadata": {},
   "outputs": [
    {
     "data": {
      "text/plain": [
       "private      805166\n",
       "business      85346\n",
       "affiliate      1756\n",
       "SMB             289\n",
       "Name: ride_type_desc, dtype: int64"
      ]
     },
     "execution_count": 322,
     "metadata": {},
     "output_type": "execute_result"
    }
   ],
   "source": [
    "data.ride_type_desc.value_counts()"
   ]
  },
  {
   "cell_type": "code",
   "execution_count": 323,
   "metadata": {},
   "outputs": [
    {
     "data": {
      "text/plain": [
       "private      208983\n",
       "business      28265\n",
       "affiliate       466\n",
       "SMB              99\n",
       "Name: ride_type_desc, dtype: int64"
      ]
     },
     "execution_count": 323,
     "metadata": {},
     "output_type": "execute_result"
    }
   ],
   "source": [
    "test_data.ride_type_desc.value_counts()"
   ]
  },
  {
   "cell_type": "code",
   "execution_count": 324,
   "metadata": {},
   "outputs": [
    {
     "data": {
      "text/plain": [
       "LabelEncoder()"
      ]
     },
     "execution_count": 324,
     "metadata": {},
     "output_type": "execute_result"
    }
   ],
   "source": [
    "le = LabelEncoder()\n",
    "le.fit([\"private\", \"affiliate\",\"SMB\", \"business\"])"
   ]
  },
  {
   "cell_type": "code",
   "execution_count": 325,
   "metadata": {},
   "outputs": [],
   "source": [
    "data.ride_type_desc = le.transform(data.ride_type_desc.values)"
   ]
  },
  {
   "cell_type": "code",
   "execution_count": 326,
   "metadata": {},
   "outputs": [
    {
     "data": {
      "text/html": [
       "<div>\n",
       "<style>\n",
       "    .dataframe thead tr:only-child th {\n",
       "        text-align: right;\n",
       "    }\n",
       "\n",
       "    .dataframe thead th {\n",
       "        text-align: left;\n",
       "    }\n",
       "\n",
       "    .dataframe tbody tr th {\n",
       "        vertical-align: top;\n",
       "    }\n",
       "</style>\n",
       "<table border=\"1\" class=\"dataframe\">\n",
       "  <thead>\n",
       "    <tr style=\"text-align: right;\">\n",
       "      <th></th>\n",
       "      <th>offer_gk</th>\n",
       "      <th>weekday_key</th>\n",
       "      <th>hour_key</th>\n",
       "      <th>driver_gk</th>\n",
       "      <th>order_gk</th>\n",
       "      <th>driver_latitude</th>\n",
       "      <th>driver_longitude</th>\n",
       "      <th>origin_order_latitude</th>\n",
       "      <th>origin_order_longitude</th>\n",
       "      <th>distance_km</th>\n",
       "      <th>duration_min</th>\n",
       "      <th>offer_class_group</th>\n",
       "      <th>ride_type_desc</th>\n",
       "      <th>driver_response</th>\n",
       "      <th>dist_between_driver_offer</th>\n",
       "    </tr>\n",
       "  </thead>\n",
       "  <tbody>\n",
       "    <tr>\n",
       "      <th>offer_gk</th>\n",
       "      <td>1.000000</td>\n",
       "      <td>-0.000261</td>\n",
       "      <td>0.000022</td>\n",
       "      <td>0.000566</td>\n",
       "      <td>0.000373</td>\n",
       "      <td>0.000542</td>\n",
       "      <td>0.000598</td>\n",
       "      <td>-0.000462</td>\n",
       "      <td>-0.000257</td>\n",
       "      <td>-0.000169</td>\n",
       "      <td>-0.000330</td>\n",
       "      <td>0.001015</td>\n",
       "      <td>-0.000048</td>\n",
       "      <td>-0.000485</td>\n",
       "      <td>-0.000451</td>\n",
       "    </tr>\n",
       "    <tr>\n",
       "      <th>weekday_key</th>\n",
       "      <td>-0.000261</td>\n",
       "      <td>1.000000</td>\n",
       "      <td>0.036483</td>\n",
       "      <td>0.001148</td>\n",
       "      <td>0.001151</td>\n",
       "      <td>0.004840</td>\n",
       "      <td>0.004596</td>\n",
       "      <td>0.001668</td>\n",
       "      <td>0.000132</td>\n",
       "      <td>-0.006715</td>\n",
       "      <td>-0.007784</td>\n",
       "      <td>0.010219</td>\n",
       "      <td>-0.000377</td>\n",
       "      <td>0.011200</td>\n",
       "      <td>-0.004999</td>\n",
       "    </tr>\n",
       "    <tr>\n",
       "      <th>hour_key</th>\n",
       "      <td>0.000022</td>\n",
       "      <td>0.036483</td>\n",
       "      <td>1.000000</td>\n",
       "      <td>-0.004313</td>\n",
       "      <td>0.001909</td>\n",
       "      <td>0.008520</td>\n",
       "      <td>0.006137</td>\n",
       "      <td>0.001086</td>\n",
       "      <td>-0.008854</td>\n",
       "      <td>-0.014732</td>\n",
       "      <td>-0.017460</td>\n",
       "      <td>0.000417</td>\n",
       "      <td>0.012388</td>\n",
       "      <td>0.012912</td>\n",
       "      <td>-0.006560</td>\n",
       "    </tr>\n",
       "    <tr>\n",
       "      <th>driver_gk</th>\n",
       "      <td>0.000566</td>\n",
       "      <td>0.001148</td>\n",
       "      <td>-0.004313</td>\n",
       "      <td>1.000000</td>\n",
       "      <td>0.000605</td>\n",
       "      <td>-0.005280</td>\n",
       "      <td>-0.003800</td>\n",
       "      <td>-0.000348</td>\n",
       "      <td>0.005843</td>\n",
       "      <td>-0.000265</td>\n",
       "      <td>-0.000222</td>\n",
       "      <td>0.004382</td>\n",
       "      <td>-0.001463</td>\n",
       "      <td>-0.000124</td>\n",
       "      <td>0.003963</td>\n",
       "    </tr>\n",
       "    <tr>\n",
       "      <th>order_gk</th>\n",
       "      <td>0.000373</td>\n",
       "      <td>0.001151</td>\n",
       "      <td>0.001909</td>\n",
       "      <td>0.000605</td>\n",
       "      <td>1.000000</td>\n",
       "      <td>0.002055</td>\n",
       "      <td>0.001724</td>\n",
       "      <td>0.000026</td>\n",
       "      <td>-0.001370</td>\n",
       "      <td>-0.002020</td>\n",
       "      <td>-0.001778</td>\n",
       "      <td>-0.001832</td>\n",
       "      <td>0.003777</td>\n",
       "      <td>0.000007</td>\n",
       "      <td>-0.001739</td>\n",
       "    </tr>\n",
       "    <tr>\n",
       "      <th>driver_latitude</th>\n",
       "      <td>0.000542</td>\n",
       "      <td>0.004840</td>\n",
       "      <td>0.008520</td>\n",
       "      <td>-0.005280</td>\n",
       "      <td>0.002055</td>\n",
       "      <td>1.000000</td>\n",
       "      <td>0.996190</td>\n",
       "      <td>0.023132</td>\n",
       "      <td>-0.029789</td>\n",
       "      <td>0.008740</td>\n",
       "      <td>0.017304</td>\n",
       "      <td>-0.045967</td>\n",
       "      <td>0.151539</td>\n",
       "      <td>-0.035317</td>\n",
       "      <td>-0.968665</td>\n",
       "    </tr>\n",
       "    <tr>\n",
       "      <th>driver_longitude</th>\n",
       "      <td>0.000598</td>\n",
       "      <td>0.004596</td>\n",
       "      <td>0.006137</td>\n",
       "      <td>-0.003800</td>\n",
       "      <td>0.001724</td>\n",
       "      <td>0.996190</td>\n",
       "      <td>1.000000</td>\n",
       "      <td>0.013472</td>\n",
       "      <td>-0.009625</td>\n",
       "      <td>0.011477</td>\n",
       "      <td>0.021536</td>\n",
       "      <td>-0.046578</td>\n",
       "      <td>0.152339</td>\n",
       "      <td>-0.027817</td>\n",
       "      <td>-0.967150</td>\n",
       "    </tr>\n",
       "    <tr>\n",
       "      <th>origin_order_latitude</th>\n",
       "      <td>-0.000462</td>\n",
       "      <td>0.001668</td>\n",
       "      <td>0.001086</td>\n",
       "      <td>-0.000348</td>\n",
       "      <td>0.000026</td>\n",
       "      <td>0.023132</td>\n",
       "      <td>0.013472</td>\n",
       "      <td>1.000000</td>\n",
       "      <td>0.939795</td>\n",
       "      <td>-0.004398</td>\n",
       "      <td>-0.006577</td>\n",
       "      <td>0.000831</td>\n",
       "      <td>0.000314</td>\n",
       "      <td>-0.012823</td>\n",
       "      <td>-0.260833</td>\n",
       "    </tr>\n",
       "    <tr>\n",
       "      <th>origin_order_longitude</th>\n",
       "      <td>-0.000257</td>\n",
       "      <td>0.000132</td>\n",
       "      <td>-0.008854</td>\n",
       "      <td>0.005843</td>\n",
       "      <td>-0.001370</td>\n",
       "      <td>-0.029789</td>\n",
       "      <td>-0.009625</td>\n",
       "      <td>0.939795</td>\n",
       "      <td>1.000000</td>\n",
       "      <td>0.006427</td>\n",
       "      <td>0.009837</td>\n",
       "      <td>0.000888</td>\n",
       "      <td>-0.002418</td>\n",
       "      <td>0.017114</td>\n",
       "      <td>-0.212953</td>\n",
       "    </tr>\n",
       "    <tr>\n",
       "      <th>distance_km</th>\n",
       "      <td>-0.000169</td>\n",
       "      <td>-0.006715</td>\n",
       "      <td>-0.014732</td>\n",
       "      <td>-0.000265</td>\n",
       "      <td>-0.002020</td>\n",
       "      <td>0.008740</td>\n",
       "      <td>0.011477</td>\n",
       "      <td>-0.004398</td>\n",
       "      <td>0.006427</td>\n",
       "      <td>1.000000</td>\n",
       "      <td>0.985412</td>\n",
       "      <td>-0.029239</td>\n",
       "      <td>0.077875</td>\n",
       "      <td>-0.055966</td>\n",
       "      <td>-0.009837</td>\n",
       "    </tr>\n",
       "    <tr>\n",
       "      <th>duration_min</th>\n",
       "      <td>-0.000330</td>\n",
       "      <td>-0.007784</td>\n",
       "      <td>-0.017460</td>\n",
       "      <td>-0.000222</td>\n",
       "      <td>-0.001778</td>\n",
       "      <td>0.017304</td>\n",
       "      <td>0.021536</td>\n",
       "      <td>-0.006577</td>\n",
       "      <td>0.009837</td>\n",
       "      <td>0.985412</td>\n",
       "      <td>1.000000</td>\n",
       "      <td>-0.062219</td>\n",
       "      <td>0.138320</td>\n",
       "      <td>-0.064212</td>\n",
       "      <td>-0.018554</td>\n",
       "    </tr>\n",
       "    <tr>\n",
       "      <th>offer_class_group</th>\n",
       "      <td>0.001015</td>\n",
       "      <td>0.010219</td>\n",
       "      <td>0.000417</td>\n",
       "      <td>0.004382</td>\n",
       "      <td>-0.001832</td>\n",
       "      <td>-0.045967</td>\n",
       "      <td>-0.046578</td>\n",
       "      <td>0.000831</td>\n",
       "      <td>0.000888</td>\n",
       "      <td>-0.029239</td>\n",
       "      <td>-0.062219</td>\n",
       "      <td>1.000000</td>\n",
       "      <td>-0.181235</td>\n",
       "      <td>0.088551</td>\n",
       "      <td>0.044724</td>\n",
       "    </tr>\n",
       "    <tr>\n",
       "      <th>ride_type_desc</th>\n",
       "      <td>-0.000048</td>\n",
       "      <td>-0.000377</td>\n",
       "      <td>0.012388</td>\n",
       "      <td>-0.001463</td>\n",
       "      <td>0.003777</td>\n",
       "      <td>0.151539</td>\n",
       "      <td>0.152339</td>\n",
       "      <td>0.000314</td>\n",
       "      <td>-0.002418</td>\n",
       "      <td>0.077875</td>\n",
       "      <td>0.138320</td>\n",
       "      <td>-0.181235</td>\n",
       "      <td>1.000000</td>\n",
       "      <td>-0.038646</td>\n",
       "      <td>-0.147828</td>\n",
       "    </tr>\n",
       "    <tr>\n",
       "      <th>driver_response</th>\n",
       "      <td>-0.000485</td>\n",
       "      <td>0.011200</td>\n",
       "      <td>0.012912</td>\n",
       "      <td>-0.000124</td>\n",
       "      <td>0.000007</td>\n",
       "      <td>-0.035317</td>\n",
       "      <td>-0.027817</td>\n",
       "      <td>-0.012823</td>\n",
       "      <td>0.017114</td>\n",
       "      <td>-0.055966</td>\n",
       "      <td>-0.064212</td>\n",
       "      <td>0.088551</td>\n",
       "      <td>-0.038646</td>\n",
       "      <td>1.000000</td>\n",
       "      <td>0.032892</td>\n",
       "    </tr>\n",
       "    <tr>\n",
       "      <th>dist_between_driver_offer</th>\n",
       "      <td>-0.000451</td>\n",
       "      <td>-0.004999</td>\n",
       "      <td>-0.006560</td>\n",
       "      <td>0.003963</td>\n",
       "      <td>-0.001739</td>\n",
       "      <td>-0.968665</td>\n",
       "      <td>-0.967150</td>\n",
       "      <td>-0.260833</td>\n",
       "      <td>-0.212953</td>\n",
       "      <td>-0.009837</td>\n",
       "      <td>-0.018554</td>\n",
       "      <td>0.044724</td>\n",
       "      <td>-0.147828</td>\n",
       "      <td>0.032892</td>\n",
       "      <td>1.000000</td>\n",
       "    </tr>\n",
       "  </tbody>\n",
       "</table>\n",
       "</div>"
      ],
      "text/plain": [
       "                           offer_gk  weekday_key  hour_key  driver_gk  \\\n",
       "offer_gk                   1.000000    -0.000261  0.000022   0.000566   \n",
       "weekday_key               -0.000261     1.000000  0.036483   0.001148   \n",
       "hour_key                   0.000022     0.036483  1.000000  -0.004313   \n",
       "driver_gk                  0.000566     0.001148 -0.004313   1.000000   \n",
       "order_gk                   0.000373     0.001151  0.001909   0.000605   \n",
       "driver_latitude            0.000542     0.004840  0.008520  -0.005280   \n",
       "driver_longitude           0.000598     0.004596  0.006137  -0.003800   \n",
       "origin_order_latitude     -0.000462     0.001668  0.001086  -0.000348   \n",
       "origin_order_longitude    -0.000257     0.000132 -0.008854   0.005843   \n",
       "distance_km               -0.000169    -0.006715 -0.014732  -0.000265   \n",
       "duration_min              -0.000330    -0.007784 -0.017460  -0.000222   \n",
       "offer_class_group          0.001015     0.010219  0.000417   0.004382   \n",
       "ride_type_desc            -0.000048    -0.000377  0.012388  -0.001463   \n",
       "driver_response           -0.000485     0.011200  0.012912  -0.000124   \n",
       "dist_between_driver_offer -0.000451    -0.004999 -0.006560   0.003963   \n",
       "\n",
       "                           order_gk  driver_latitude  driver_longitude  \\\n",
       "offer_gk                   0.000373         0.000542          0.000598   \n",
       "weekday_key                0.001151         0.004840          0.004596   \n",
       "hour_key                   0.001909         0.008520          0.006137   \n",
       "driver_gk                  0.000605        -0.005280         -0.003800   \n",
       "order_gk                   1.000000         0.002055          0.001724   \n",
       "driver_latitude            0.002055         1.000000          0.996190   \n",
       "driver_longitude           0.001724         0.996190          1.000000   \n",
       "origin_order_latitude      0.000026         0.023132          0.013472   \n",
       "origin_order_longitude    -0.001370        -0.029789         -0.009625   \n",
       "distance_km               -0.002020         0.008740          0.011477   \n",
       "duration_min              -0.001778         0.017304          0.021536   \n",
       "offer_class_group         -0.001832        -0.045967         -0.046578   \n",
       "ride_type_desc             0.003777         0.151539          0.152339   \n",
       "driver_response            0.000007        -0.035317         -0.027817   \n",
       "dist_between_driver_offer -0.001739        -0.968665         -0.967150   \n",
       "\n",
       "                           origin_order_latitude  origin_order_longitude  \\\n",
       "offer_gk                               -0.000462               -0.000257   \n",
       "weekday_key                             0.001668                0.000132   \n",
       "hour_key                                0.001086               -0.008854   \n",
       "driver_gk                              -0.000348                0.005843   \n",
       "order_gk                                0.000026               -0.001370   \n",
       "driver_latitude                         0.023132               -0.029789   \n",
       "driver_longitude                        0.013472               -0.009625   \n",
       "origin_order_latitude                   1.000000                0.939795   \n",
       "origin_order_longitude                  0.939795                1.000000   \n",
       "distance_km                            -0.004398                0.006427   \n",
       "duration_min                           -0.006577                0.009837   \n",
       "offer_class_group                       0.000831                0.000888   \n",
       "ride_type_desc                          0.000314               -0.002418   \n",
       "driver_response                        -0.012823                0.017114   \n",
       "dist_between_driver_offer              -0.260833               -0.212953   \n",
       "\n",
       "                           distance_km  duration_min  offer_class_group  \\\n",
       "offer_gk                     -0.000169     -0.000330           0.001015   \n",
       "weekday_key                  -0.006715     -0.007784           0.010219   \n",
       "hour_key                     -0.014732     -0.017460           0.000417   \n",
       "driver_gk                    -0.000265     -0.000222           0.004382   \n",
       "order_gk                     -0.002020     -0.001778          -0.001832   \n",
       "driver_latitude               0.008740      0.017304          -0.045967   \n",
       "driver_longitude              0.011477      0.021536          -0.046578   \n",
       "origin_order_latitude        -0.004398     -0.006577           0.000831   \n",
       "origin_order_longitude        0.006427      0.009837           0.000888   \n",
       "distance_km                   1.000000      0.985412          -0.029239   \n",
       "duration_min                  0.985412      1.000000          -0.062219   \n",
       "offer_class_group            -0.029239     -0.062219           1.000000   \n",
       "ride_type_desc                0.077875      0.138320          -0.181235   \n",
       "driver_response              -0.055966     -0.064212           0.088551   \n",
       "dist_between_driver_offer    -0.009837     -0.018554           0.044724   \n",
       "\n",
       "                           ride_type_desc  driver_response  \\\n",
       "offer_gk                        -0.000048        -0.000485   \n",
       "weekday_key                     -0.000377         0.011200   \n",
       "hour_key                         0.012388         0.012912   \n",
       "driver_gk                       -0.001463        -0.000124   \n",
       "order_gk                         0.003777         0.000007   \n",
       "driver_latitude                  0.151539        -0.035317   \n",
       "driver_longitude                 0.152339        -0.027817   \n",
       "origin_order_latitude            0.000314        -0.012823   \n",
       "origin_order_longitude          -0.002418         0.017114   \n",
       "distance_km                      0.077875        -0.055966   \n",
       "duration_min                     0.138320        -0.064212   \n",
       "offer_class_group               -0.181235         0.088551   \n",
       "ride_type_desc                   1.000000        -0.038646   \n",
       "driver_response                 -0.038646         1.000000   \n",
       "dist_between_driver_offer       -0.147828         0.032892   \n",
       "\n",
       "                           dist_between_driver_offer  \n",
       "offer_gk                                   -0.000451  \n",
       "weekday_key                                -0.004999  \n",
       "hour_key                                   -0.006560  \n",
       "driver_gk                                   0.003963  \n",
       "order_gk                                   -0.001739  \n",
       "driver_latitude                            -0.968665  \n",
       "driver_longitude                           -0.967150  \n",
       "origin_order_latitude                      -0.260833  \n",
       "origin_order_longitude                     -0.212953  \n",
       "distance_km                                -0.009837  \n",
       "duration_min                               -0.018554  \n",
       "offer_class_group                           0.044724  \n",
       "ride_type_desc                             -0.147828  \n",
       "driver_response                             0.032892  \n",
       "dist_between_driver_offer                   1.000000  "
      ]
     },
     "execution_count": 326,
     "metadata": {},
     "output_type": "execute_result"
    }
   ],
   "source": [
    "data.corr()"
   ]
  },
  {
   "cell_type": "markdown",
   "metadata": {},
   "source": [
    "## Logistic Regression"
   ]
  },
  {
   "cell_type": "code",
   "execution_count": 172,
   "metadata": {
    "collapsed": true
   },
   "outputs": [],
   "source": [
    "log_reg = LogisticRegression(C=1,class_weight=None,random_state=777,n_jobs=-1)"
   ]
  },
  {
   "cell_type": "code",
   "execution_count": 173,
   "metadata": {
    "collapsed": true
   },
   "outputs": [],
   "source": [
    "skf = StratifiedKFold(n_splits=5,shuffle=True,random_state=777)"
   ]
  },
  {
   "cell_type": "code",
   "execution_count": 174,
   "metadata": {
    "collapsed": true
   },
   "outputs": [],
   "source": [
    "X = data.drop(\"driver_response\",1).values\n",
    "y = data[\"driver_response\"].values"
   ]
  },
  {
   "cell_type": "code",
   "execution_count": 175,
   "metadata": {},
   "outputs": [
    {
     "name": "stderr",
     "output_type": "stream",
     "text": [
      "/home/konstantin/anaconda3/lib/python3.6/site-packages/sklearn/linear_model/logistic.py:1228: UserWarning: 'n_jobs' > 1 does not have any effect when 'solver' is set to 'liblinear'. Got 'n_jobs' = -1.\n",
      "  \" = {}.\".format(self.n_jobs))\n",
      "/home/konstantin/anaconda3/lib/python3.6/site-packages/sklearn/linear_model/logistic.py:1228: UserWarning: 'n_jobs' > 1 does not have any effect when 'solver' is set to 'liblinear'. Got 'n_jobs' = -1.\n",
      "  \" = {}.\".format(self.n_jobs))\n",
      "/home/konstantin/anaconda3/lib/python3.6/site-packages/sklearn/linear_model/logistic.py:1228: UserWarning: 'n_jobs' > 1 does not have any effect when 'solver' is set to 'liblinear'. Got 'n_jobs' = -1.\n",
      "  \" = {}.\".format(self.n_jobs))\n",
      "/home/konstantin/anaconda3/lib/python3.6/site-packages/sklearn/linear_model/logistic.py:1228: UserWarning: 'n_jobs' > 1 does not have any effect when 'solver' is set to 'liblinear'. Got 'n_jobs' = -1.\n",
      "  \" = {}.\".format(self.n_jobs))\n",
      "/home/konstantin/anaconda3/lib/python3.6/site-packages/sklearn/linear_model/logistic.py:1228: UserWarning: 'n_jobs' > 1 does not have any effect when 'solver' is set to 'liblinear'. Got 'n_jobs' = -1.\n",
      "  \" = {}.\".format(self.n_jobs))\n"
     ]
    },
    {
     "data": {
      "text/plain": [
       "array([ 0.50248511,  0.50074471,  0.59412227,  0.51235368,  0.59457325])"
      ]
     },
     "execution_count": 175,
     "metadata": {},
     "output_type": "execute_result"
    }
   ],
   "source": [
    "cv_scores=cross_val_score(log_reg,X,y, scoring=\"roc_auc\",cv=skf,n_jobs=-1)\n",
    "cv_scores"
   ]
  },
  {
   "cell_type": "code",
   "execution_count": 176,
   "metadata": {},
   "outputs": [
    {
     "data": {
      "text/plain": [
       "0.54085580467080696"
      ]
     },
     "execution_count": 176,
     "metadata": {},
     "output_type": "execute_result"
    }
   ],
   "source": [
    "np.mean(cv_scores) "
   ]
  },
  {
   "cell_type": "code",
   "execution_count": 177,
   "metadata": {},
   "outputs": [
    {
     "name": "stderr",
     "output_type": "stream",
     "text": [
      "/home/konstantin/anaconda3/lib/python3.6/site-packages/sklearn/linear_model/logistic.py:1228: UserWarning: 'n_jobs' > 1 does not have any effect when 'solver' is set to 'liblinear'. Got 'n_jobs' = -1.\n",
      "  \" = {}.\".format(self.n_jobs))\n",
      "/home/konstantin/anaconda3/lib/python3.6/site-packages/sklearn/linear_model/logistic.py:1228: UserWarning: 'n_jobs' > 1 does not have any effect when 'solver' is set to 'liblinear'. Got 'n_jobs' = -1.\n",
      "  \" = {}.\".format(self.n_jobs))\n",
      "/home/konstantin/anaconda3/lib/python3.6/site-packages/sklearn/linear_model/logistic.py:1228: UserWarning: 'n_jobs' > 1 does not have any effect when 'solver' is set to 'liblinear'. Got 'n_jobs' = -1.\n",
      "  \" = {}.\".format(self.n_jobs))\n",
      "/home/konstantin/anaconda3/lib/python3.6/site-packages/sklearn/linear_model/logistic.py:1228: UserWarning: 'n_jobs' > 1 does not have any effect when 'solver' is set to 'liblinear'. Got 'n_jobs' = -1.\n",
      "  \" = {}.\".format(self.n_jobs))\n",
      "/home/konstantin/anaconda3/lib/python3.6/site-packages/sklearn/linear_model/logistic.py:1228: UserWarning: 'n_jobs' > 1 does not have any effect when 'solver' is set to 'liblinear'. Got 'n_jobs' = -1.\n",
      "  \" = {}.\".format(self.n_jobs))\n"
     ]
    },
    {
     "data": {
      "text/plain": [
       "array([ 0.50874124,  0.50721625,  0.50996649,  0.57023808,  0.509447  ])"
      ]
     },
     "execution_count": 177,
     "metadata": {},
     "output_type": "execute_result"
    }
   ],
   "source": [
    "log_reg = LogisticRegression(C=1,class_weight=None,random_state=777,n_jobs=-1)\n",
    "skf = StratifiedKFold(n_splits=5,shuffle=True,random_state=777)\n",
    "X = data.drop([\"driver_response\",\"offer_gk\"],1).values\n",
    "y = data[\"driver_response\"].values\n",
    "cv_scores=cross_val_score(log_reg,X,y, scoring=\"roc_auc\",cv=skf,n_jobs=-1)\n",
    "cv_scores"
   ]
  },
  {
   "cell_type": "code",
   "execution_count": 21,
   "metadata": {},
   "outputs": [
    {
     "data": {
      "text/plain": [
       "0.59076364687603489"
      ]
     },
     "execution_count": 21,
     "metadata": {},
     "output_type": "execute_result"
    }
   ],
   "source": [
    "np.mean(cv_scores) #правидбно дропнул offer_gk качество лкчше"
   ]
  },
  {
   "cell_type": "code",
   "execution_count": 22,
   "metadata": {},
   "outputs": [
    {
     "name": "stderr",
     "output_type": "stream",
     "text": [
      "/home/konstantin/anaconda3/lib/python3.6/site-packages/sklearn/linear_model/logistic.py:1228: UserWarning: 'n_jobs' > 1 does not have any effect when 'solver' is set to 'liblinear'. Got 'n_jobs' = -1.\n",
      "  \" = {}.\".format(self.n_jobs))\n",
      "/home/konstantin/anaconda3/lib/python3.6/site-packages/sklearn/linear_model/logistic.py:1228: UserWarning: 'n_jobs' > 1 does not have any effect when 'solver' is set to 'liblinear'. Got 'n_jobs' = -1.\n",
      "  \" = {}.\".format(self.n_jobs))\n",
      "/home/konstantin/anaconda3/lib/python3.6/site-packages/sklearn/linear_model/logistic.py:1228: UserWarning: 'n_jobs' > 1 does not have any effect when 'solver' is set to 'liblinear'. Got 'n_jobs' = -1.\n",
      "  \" = {}.\".format(self.n_jobs))\n",
      "/home/konstantin/anaconda3/lib/python3.6/site-packages/sklearn/linear_model/logistic.py:1228: UserWarning: 'n_jobs' > 1 does not have any effect when 'solver' is set to 'liblinear'. Got 'n_jobs' = -1.\n",
      "  \" = {}.\".format(self.n_jobs))\n",
      "/home/konstantin/anaconda3/lib/python3.6/site-packages/sklearn/linear_model/logistic.py:1228: UserWarning: 'n_jobs' > 1 does not have any effect when 'solver' is set to 'liblinear'. Got 'n_jobs' = -1.\n",
      "  \" = {}.\".format(self.n_jobs))\n"
     ]
    },
    {
     "data": {
      "text/plain": [
       "array([ 0.49805663,  0.49878331,  0.49908225,  0.50162474,  0.50377799])"
      ]
     },
     "execution_count": 22,
     "metadata": {},
     "output_type": "execute_result"
    }
   ],
   "source": [
    "log_reg = LogisticRegression(C=1,class_weight=None,random_state=777,n_jobs=-1)\n",
    "skf = StratifiedKFold(n_splits=5,shuffle=True,random_state=777)\n",
    "X = data.drop([\"driver_response\",\"order_gk\"], 1).values \n",
    "y = data[\"driver_response\"].values\n",
    "cv_scores=cross_val_score(log_reg,X,y, scoring=\"roc_auc\",cv=skf,n_jobs=-1)\n",
    "cv_scores\n",
    "\n"
   ]
  },
  {
   "cell_type": "code",
   "execution_count": 23,
   "metadata": {},
   "outputs": [
    {
     "data": {
      "text/plain": [
       "0.50026498238946404"
      ]
     },
     "execution_count": 23,
     "metadata": {},
     "output_type": "execute_result"
    }
   ],
   "source": [
    "np.mean(cv_scores) #order_gk не дропать"
   ]
  },
  {
   "cell_type": "code",
   "execution_count": 24,
   "metadata": {},
   "outputs": [
    {
     "name": "stderr",
     "output_type": "stream",
     "text": [
      "/home/konstantin/anaconda3/lib/python3.6/site-packages/sklearn/linear_model/logistic.py:1228: UserWarning: 'n_jobs' > 1 does not have any effect when 'solver' is set to 'liblinear'. Got 'n_jobs' = -1.\n",
      "  \" = {}.\".format(self.n_jobs))\n",
      "/home/konstantin/anaconda3/lib/python3.6/site-packages/sklearn/linear_model/logistic.py:1228: UserWarning: 'n_jobs' > 1 does not have any effect when 'solver' is set to 'liblinear'. Got 'n_jobs' = -1.\n",
      "  \" = {}.\".format(self.n_jobs))\n",
      "/home/konstantin/anaconda3/lib/python3.6/site-packages/sklearn/linear_model/logistic.py:1228: UserWarning: 'n_jobs' > 1 does not have any effect when 'solver' is set to 'liblinear'. Got 'n_jobs' = -1.\n",
      "  \" = {}.\".format(self.n_jobs))\n",
      "/home/konstantin/anaconda3/lib/python3.6/site-packages/sklearn/linear_model/logistic.py:1228: UserWarning: 'n_jobs' > 1 does not have any effect when 'solver' is set to 'liblinear'. Got 'n_jobs' = -1.\n",
      "  \" = {}.\".format(self.n_jobs))\n",
      "/home/konstantin/anaconda3/lib/python3.6/site-packages/sklearn/linear_model/logistic.py:1228: UserWarning: 'n_jobs' > 1 does not have any effect when 'solver' is set to 'liblinear'. Got 'n_jobs' = -1.\n",
      "  \" = {}.\".format(self.n_jobs))\n"
     ]
    },
    {
     "data": {
      "text/plain": [
       "array([ 0.5142246 ,  0.51327243,  0.51214975,  0.51563199,  0.51400341])"
      ]
     },
     "execution_count": 24,
     "metadata": {},
     "output_type": "execute_result"
    }
   ],
   "source": [
    "log_reg = LogisticRegression(C=1,class_weight=None,random_state=777,n_jobs=-1)\n",
    "skf = StratifiedKFold(n_splits=5,shuffle=True,random_state=777)\n",
    "X = data.drop([\"driver_response\",\"driver_gk\", \"order_gk\"], 1).values \n",
    "y = data[\"driver_response\"].values\n",
    "cv_scores=cross_val_score(log_reg,X,y, scoring=\"roc_auc\",cv=skf,n_jobs=-1)\n",
    "cv_scores\n",
    "\n"
   ]
  },
  {
   "cell_type": "code",
   "execution_count": 25,
   "metadata": {},
   "outputs": [
    {
     "data": {
      "text/plain": [
       "0.51385643588795293"
      ]
     },
     "execution_count": 25,
     "metadata": {},
     "output_type": "execute_result"
    }
   ],
   "source": [
    "np.mean(cv_scores) # driver_gk не дропать"
   ]
  },
  {
   "cell_type": "code",
   "execution_count": 75,
   "metadata": {},
   "outputs": [
    {
     "name": "stderr",
     "output_type": "stream",
     "text": [
      "/home/konstantin/anaconda3/lib/python3.6/site-packages/sklearn/linear_model/logistic.py:1228: UserWarning: 'n_jobs' > 1 does not have any effect when 'solver' is set to 'liblinear'. Got 'n_jobs' = -1.\n",
      "  \" = {}.\".format(self.n_jobs))\n",
      "/home/konstantin/anaconda3/lib/python3.6/site-packages/sklearn/linear_model/logistic.py:1228: UserWarning: 'n_jobs' > 1 does not have any effect when 'solver' is set to 'liblinear'. Got 'n_jobs' = -1.\n",
      "  \" = {}.\".format(self.n_jobs))\n",
      "/home/konstantin/anaconda3/lib/python3.6/site-packages/sklearn/linear_model/logistic.py:1228: UserWarning: 'n_jobs' > 1 does not have any effect when 'solver' is set to 'liblinear'. Got 'n_jobs' = -1.\n",
      "  \" = {}.\".format(self.n_jobs))\n",
      "/home/konstantin/anaconda3/lib/python3.6/site-packages/sklearn/linear_model/logistic.py:1228: UserWarning: 'n_jobs' > 1 does not have any effect when 'solver' is set to 'liblinear'. Got 'n_jobs' = -1.\n",
      "  \" = {}.\".format(self.n_jobs))\n",
      "/home/konstantin/anaconda3/lib/python3.6/site-packages/sklearn/linear_model/logistic.py:1228: UserWarning: 'n_jobs' > 1 does not have any effect when 'solver' is set to 'liblinear'. Got 'n_jobs' = -1.\n",
      "  \" = {}.\".format(self.n_jobs))\n"
     ]
    },
    {
     "data": {
      "text/plain": [
       "array([ 0.6460309 ,  0.64773435,  0.6424511 ,  0.64554739,  0.64825134])"
      ]
     },
     "execution_count": 75,
     "metadata": {},
     "output_type": "execute_result"
    }
   ],
   "source": [
    "log_reg = LogisticRegression(C=1,class_weight={0:0.75,1:0.25},random_state=777,n_jobs=-1)\n",
    "skf = StratifiedKFold(n_splits=5,shuffle=True,random_state=777)\n",
    "X = data.drop([\"driver_response\",\"offer_gk\",\"order_gk\",\"driver_gk\",\\\n",
    "              \"driver_latitude\",\"origin_order_latitude\"],1).values\n",
    "y = data[\"driver_response\"].values\n",
    "cv_scores=cross_val_score(log_reg,X,y, scoring=\"roc_auc\",cv=skf,n_jobs=-1)\n",
    "cv_scores"
   ]
  },
  {
   "cell_type": "code",
   "execution_count": 76,
   "metadata": {},
   "outputs": [
    {
     "data": {
      "text/plain": [
       "0.64600301413204941"
      ]
     },
     "execution_count": 76,
     "metadata": {},
     "output_type": "execute_result"
    }
   ],
   "source": [
    "np.mean(cv_scores)"
   ]
  },
  {
   "cell_type": "markdown",
   "metadata": {},
   "source": []
  },
  {
   "cell_type": "markdown",
   "metadata": {},
   "source": [
    "# XGBoost"
   ]
  },
  {
   "cell_type": "code",
   "execution_count": 254,
   "metadata": {
    "collapsed": true
   },
   "outputs": [],
   "source": [
    "xgb = XGBClassifier()"
   ]
  },
  {
   "cell_type": "code",
   "execution_count": 255,
   "metadata": {
    "collapsed": true
   },
   "outputs": [],
   "source": [
    "data.hour_key = data.hour_key.values \n",
    "X = data.drop(\"driver_response\",1).values\n",
    "y = data[\"driver_response\"].values"
   ]
  },
  {
   "cell_type": "code",
   "execution_count": 256,
   "metadata": {},
   "outputs": [
    {
     "data": {
      "text/plain": [
       "array([ 0.74974994,  0.75154697,  0.74937618,  0.75393102,  0.75074619])"
      ]
     },
     "execution_count": 256,
     "metadata": {},
     "output_type": "execute_result"
    }
   ],
   "source": [
    "cv_scores=cross_val_score(xgb,X,y, scoring=\"roc_auc\",cv=skf,n_jobs=-1)\n",
    "cv_scores"
   ]
  },
  {
   "cell_type": "code",
   "execution_count": 257,
   "metadata": {},
   "outputs": [
    {
     "data": {
      "text/plain": [
       "0.75107006042223023"
      ]
     },
     "execution_count": 257,
     "metadata": {},
     "output_type": "execute_result"
    }
   ],
   "source": [
    "np.mean(cv_scores) #0.75071952099949091"
   ]
  },
  {
   "cell_type": "code",
   "execution_count": 182,
   "metadata": {},
   "outputs": [
    {
     "name": "stderr",
     "output_type": "stream",
     "text": [
      "Process ForkPoolWorker-183:\n",
      "Process ForkPoolWorker-184:\n"
     ]
    },
    {
     "ename": "KeyboardInterrupt",
     "evalue": "",
     "output_type": "error",
     "traceback": [
      "\u001b[0;31m---------------------------------------------------------------------------\u001b[0m",
      "\u001b[0;31mKeyboardInterrupt\u001b[0m                         Traceback (most recent call last)",
      "\u001b[0;32m<ipython-input-182-bb5a9000faef>\u001b[0m in \u001b[0;36m<module>\u001b[0;34m()\u001b[0m\n\u001b[1;32m      4\u001b[0m \u001b[0mX\u001b[0m \u001b[0;34m=\u001b[0m \u001b[0mdata\u001b[0m\u001b[0;34m.\u001b[0m\u001b[0mdrop\u001b[0m\u001b[0;34m(\u001b[0m\u001b[0;34m[\u001b[0m\u001b[0;34m\"driver_response\"\u001b[0m\u001b[0;34m,\u001b[0m\u001b[0;34m\"offer_gk\"\u001b[0m\u001b[0;34m]\u001b[0m\u001b[0;34m,\u001b[0m\u001b[0;36m1\u001b[0m\u001b[0;34m)\u001b[0m\u001b[0;34m.\u001b[0m\u001b[0mvalues\u001b[0m\u001b[0;34m\u001b[0m\u001b[0m\n\u001b[1;32m      5\u001b[0m \u001b[0my\u001b[0m \u001b[0;34m=\u001b[0m \u001b[0mdata\u001b[0m\u001b[0;34m[\u001b[0m\u001b[0;34m\"driver_response\"\u001b[0m\u001b[0;34m]\u001b[0m\u001b[0;34m.\u001b[0m\u001b[0mvalues\u001b[0m\u001b[0;34m\u001b[0m\u001b[0m\n\u001b[0;32m----> 6\u001b[0;31m \u001b[0mcv_scores\u001b[0m\u001b[0;34m=\u001b[0m\u001b[0mcross_val_score\u001b[0m\u001b[0;34m(\u001b[0m\u001b[0mxgb\u001b[0m\u001b[0;34m,\u001b[0m\u001b[0mX\u001b[0m\u001b[0;34m,\u001b[0m\u001b[0my\u001b[0m\u001b[0;34m,\u001b[0m \u001b[0mscoring\u001b[0m\u001b[0;34m=\u001b[0m\u001b[0;34m\"roc_auc\"\u001b[0m\u001b[0;34m,\u001b[0m\u001b[0mcv\u001b[0m\u001b[0;34m=\u001b[0m\u001b[0mskf\u001b[0m\u001b[0;34m,\u001b[0m\u001b[0mn_jobs\u001b[0m\u001b[0;34m=\u001b[0m\u001b[0;34m-\u001b[0m\u001b[0;36m1\u001b[0m\u001b[0;34m)\u001b[0m\u001b[0;34m\u001b[0m\u001b[0m\n\u001b[0m\u001b[1;32m      7\u001b[0m \u001b[0mcv_scores\u001b[0m\u001b[0;34m\u001b[0m\u001b[0m\n",
      "\u001b[0;32m/home/konstantin/anaconda3/lib/python3.6/site-packages/sklearn/model_selection/_validation.py\u001b[0m in \u001b[0;36mcross_val_score\u001b[0;34m(estimator, X, y, groups, scoring, cv, n_jobs, verbose, fit_params, pre_dispatch)\u001b[0m\n\u001b[1;32m    319\u001b[0m                                 \u001b[0mn_jobs\u001b[0m\u001b[0;34m=\u001b[0m\u001b[0mn_jobs\u001b[0m\u001b[0;34m,\u001b[0m \u001b[0mverbose\u001b[0m\u001b[0;34m=\u001b[0m\u001b[0mverbose\u001b[0m\u001b[0;34m,\u001b[0m\u001b[0;34m\u001b[0m\u001b[0m\n\u001b[1;32m    320\u001b[0m                                 \u001b[0mfit_params\u001b[0m\u001b[0;34m=\u001b[0m\u001b[0mfit_params\u001b[0m\u001b[0;34m,\u001b[0m\u001b[0;34m\u001b[0m\u001b[0m\n\u001b[0;32m--> 321\u001b[0;31m                                 pre_dispatch=pre_dispatch)\n\u001b[0m\u001b[1;32m    322\u001b[0m     \u001b[0;32mreturn\u001b[0m \u001b[0mcv_results\u001b[0m\u001b[0;34m[\u001b[0m\u001b[0;34m'test_score'\u001b[0m\u001b[0;34m]\u001b[0m\u001b[0;34m\u001b[0m\u001b[0m\n\u001b[1;32m    323\u001b[0m \u001b[0;34m\u001b[0m\u001b[0m\n",
      "\u001b[0;32m/home/konstantin/anaconda3/lib/python3.6/site-packages/sklearn/model_selection/_validation.py\u001b[0m in \u001b[0;36mcross_validate\u001b[0;34m(estimator, X, y, groups, scoring, cv, n_jobs, verbose, fit_params, pre_dispatch, return_train_score)\u001b[0m\n\u001b[1;32m    193\u001b[0m             \u001b[0mfit_params\u001b[0m\u001b[0;34m,\u001b[0m \u001b[0mreturn_train_score\u001b[0m\u001b[0;34m=\u001b[0m\u001b[0mreturn_train_score\u001b[0m\u001b[0;34m,\u001b[0m\u001b[0;34m\u001b[0m\u001b[0m\n\u001b[1;32m    194\u001b[0m             return_times=True)\n\u001b[0;32m--> 195\u001b[0;31m         for train, test in cv.split(X, y, groups))\n\u001b[0m\u001b[1;32m    196\u001b[0m \u001b[0;34m\u001b[0m\u001b[0m\n\u001b[1;32m    197\u001b[0m     \u001b[0;32mif\u001b[0m \u001b[0mreturn_train_score\u001b[0m\u001b[0;34m:\u001b[0m\u001b[0;34m\u001b[0m\u001b[0m\n",
      "\u001b[0;32m/home/konstantin/anaconda3/lib/python3.6/site-packages/sklearn/externals/joblib/parallel.py\u001b[0m in \u001b[0;36m__call__\u001b[0;34m(self, iterable)\u001b[0m\n\u001b[1;32m    787\u001b[0m                 \u001b[0;31m# consumption.\u001b[0m\u001b[0;34m\u001b[0m\u001b[0;34m\u001b[0m\u001b[0m\n\u001b[1;32m    788\u001b[0m                 \u001b[0mself\u001b[0m\u001b[0;34m.\u001b[0m\u001b[0m_iterating\u001b[0m \u001b[0;34m=\u001b[0m \u001b[0;32mFalse\u001b[0m\u001b[0;34m\u001b[0m\u001b[0m\n\u001b[0;32m--> 789\u001b[0;31m             \u001b[0mself\u001b[0m\u001b[0;34m.\u001b[0m\u001b[0mretrieve\u001b[0m\u001b[0;34m(\u001b[0m\u001b[0;34m)\u001b[0m\u001b[0;34m\u001b[0m\u001b[0m\n\u001b[0m\u001b[1;32m    790\u001b[0m             \u001b[0;31m# Make sure that we get a last message telling us we are done\u001b[0m\u001b[0;34m\u001b[0m\u001b[0;34m\u001b[0m\u001b[0m\n\u001b[1;32m    791\u001b[0m             \u001b[0melapsed_time\u001b[0m \u001b[0;34m=\u001b[0m \u001b[0mtime\u001b[0m\u001b[0;34m.\u001b[0m\u001b[0mtime\u001b[0m\u001b[0;34m(\u001b[0m\u001b[0;34m)\u001b[0m \u001b[0;34m-\u001b[0m \u001b[0mself\u001b[0m\u001b[0;34m.\u001b[0m\u001b[0m_start_time\u001b[0m\u001b[0;34m\u001b[0m\u001b[0m\n",
      "\u001b[0;32m/home/konstantin/anaconda3/lib/python3.6/site-packages/sklearn/externals/joblib/parallel.py\u001b[0m in \u001b[0;36mretrieve\u001b[0;34m(self)\u001b[0m\n\u001b[1;32m    697\u001b[0m             \u001b[0;32mtry\u001b[0m\u001b[0;34m:\u001b[0m\u001b[0;34m\u001b[0m\u001b[0m\n\u001b[1;32m    698\u001b[0m                 \u001b[0;32mif\u001b[0m \u001b[0mgetattr\u001b[0m\u001b[0;34m(\u001b[0m\u001b[0mself\u001b[0m\u001b[0;34m.\u001b[0m\u001b[0m_backend\u001b[0m\u001b[0;34m,\u001b[0m \u001b[0;34m'supports_timeout'\u001b[0m\u001b[0;34m,\u001b[0m \u001b[0;32mFalse\u001b[0m\u001b[0;34m)\u001b[0m\u001b[0;34m:\u001b[0m\u001b[0;34m\u001b[0m\u001b[0m\n\u001b[0;32m--> 699\u001b[0;31m                     \u001b[0mself\u001b[0m\u001b[0;34m.\u001b[0m\u001b[0m_output\u001b[0m\u001b[0;34m.\u001b[0m\u001b[0mextend\u001b[0m\u001b[0;34m(\u001b[0m\u001b[0mjob\u001b[0m\u001b[0;34m.\u001b[0m\u001b[0mget\u001b[0m\u001b[0;34m(\u001b[0m\u001b[0mtimeout\u001b[0m\u001b[0;34m=\u001b[0m\u001b[0mself\u001b[0m\u001b[0;34m.\u001b[0m\u001b[0mtimeout\u001b[0m\u001b[0;34m)\u001b[0m\u001b[0;34m)\u001b[0m\u001b[0;34m\u001b[0m\u001b[0m\n\u001b[0m\u001b[1;32m    700\u001b[0m                 \u001b[0;32melse\u001b[0m\u001b[0;34m:\u001b[0m\u001b[0;34m\u001b[0m\u001b[0m\n\u001b[1;32m    701\u001b[0m                     \u001b[0mself\u001b[0m\u001b[0;34m.\u001b[0m\u001b[0m_output\u001b[0m\u001b[0;34m.\u001b[0m\u001b[0mextend\u001b[0m\u001b[0;34m(\u001b[0m\u001b[0mjob\u001b[0m\u001b[0;34m.\u001b[0m\u001b[0mget\u001b[0m\u001b[0;34m(\u001b[0m\u001b[0;34m)\u001b[0m\u001b[0;34m)\u001b[0m\u001b[0;34m\u001b[0m\u001b[0m\n",
      "\u001b[0;32m/home/konstantin/anaconda3/lib/python3.6/multiprocessing/pool.py\u001b[0m in \u001b[0;36mget\u001b[0;34m(self, timeout)\u001b[0m\n\u001b[1;32m    600\u001b[0m \u001b[0;34m\u001b[0m\u001b[0m\n\u001b[1;32m    601\u001b[0m     \u001b[0;32mdef\u001b[0m \u001b[0mget\u001b[0m\u001b[0;34m(\u001b[0m\u001b[0mself\u001b[0m\u001b[0;34m,\u001b[0m \u001b[0mtimeout\u001b[0m\u001b[0;34m=\u001b[0m\u001b[0;32mNone\u001b[0m\u001b[0;34m)\u001b[0m\u001b[0;34m:\u001b[0m\u001b[0;34m\u001b[0m\u001b[0m\n\u001b[0;32m--> 602\u001b[0;31m         \u001b[0mself\u001b[0m\u001b[0;34m.\u001b[0m\u001b[0mwait\u001b[0m\u001b[0;34m(\u001b[0m\u001b[0mtimeout\u001b[0m\u001b[0;34m)\u001b[0m\u001b[0;34m\u001b[0m\u001b[0m\n\u001b[0m\u001b[1;32m    603\u001b[0m         \u001b[0;32mif\u001b[0m \u001b[0;32mnot\u001b[0m \u001b[0mself\u001b[0m\u001b[0;34m.\u001b[0m\u001b[0mready\u001b[0m\u001b[0;34m(\u001b[0m\u001b[0;34m)\u001b[0m\u001b[0;34m:\u001b[0m\u001b[0;34m\u001b[0m\u001b[0m\n\u001b[1;32m    604\u001b[0m             \u001b[0;32mraise\u001b[0m \u001b[0mTimeoutError\u001b[0m\u001b[0;34m\u001b[0m\u001b[0m\n",
      "\u001b[0;32m/home/konstantin/anaconda3/lib/python3.6/multiprocessing/pool.py\u001b[0m in \u001b[0;36mwait\u001b[0;34m(self, timeout)\u001b[0m\n\u001b[1;32m    597\u001b[0m \u001b[0;34m\u001b[0m\u001b[0m\n\u001b[1;32m    598\u001b[0m     \u001b[0;32mdef\u001b[0m \u001b[0mwait\u001b[0m\u001b[0;34m(\u001b[0m\u001b[0mself\u001b[0m\u001b[0;34m,\u001b[0m \u001b[0mtimeout\u001b[0m\u001b[0;34m=\u001b[0m\u001b[0;32mNone\u001b[0m\u001b[0;34m)\u001b[0m\u001b[0;34m:\u001b[0m\u001b[0;34m\u001b[0m\u001b[0m\n\u001b[0;32m--> 599\u001b[0;31m         \u001b[0mself\u001b[0m\u001b[0;34m.\u001b[0m\u001b[0m_event\u001b[0m\u001b[0;34m.\u001b[0m\u001b[0mwait\u001b[0m\u001b[0;34m(\u001b[0m\u001b[0mtimeout\u001b[0m\u001b[0;34m)\u001b[0m\u001b[0;34m\u001b[0m\u001b[0m\n\u001b[0m\u001b[1;32m    600\u001b[0m \u001b[0;34m\u001b[0m\u001b[0m\n\u001b[1;32m    601\u001b[0m     \u001b[0;32mdef\u001b[0m \u001b[0mget\u001b[0m\u001b[0;34m(\u001b[0m\u001b[0mself\u001b[0m\u001b[0;34m,\u001b[0m \u001b[0mtimeout\u001b[0m\u001b[0;34m=\u001b[0m\u001b[0;32mNone\u001b[0m\u001b[0;34m)\u001b[0m\u001b[0;34m:\u001b[0m\u001b[0;34m\u001b[0m\u001b[0m\n",
      "\u001b[0;32m/home/konstantin/anaconda3/lib/python3.6/threading.py\u001b[0m in \u001b[0;36mwait\u001b[0;34m(self, timeout)\u001b[0m\n\u001b[1;32m    549\u001b[0m             \u001b[0msignaled\u001b[0m \u001b[0;34m=\u001b[0m \u001b[0mself\u001b[0m\u001b[0;34m.\u001b[0m\u001b[0m_flag\u001b[0m\u001b[0;34m\u001b[0m\u001b[0m\n\u001b[1;32m    550\u001b[0m             \u001b[0;32mif\u001b[0m \u001b[0;32mnot\u001b[0m \u001b[0msignaled\u001b[0m\u001b[0;34m:\u001b[0m\u001b[0;34m\u001b[0m\u001b[0m\n\u001b[0;32m--> 551\u001b[0;31m                 \u001b[0msignaled\u001b[0m \u001b[0;34m=\u001b[0m \u001b[0mself\u001b[0m\u001b[0;34m.\u001b[0m\u001b[0m_cond\u001b[0m\u001b[0;34m.\u001b[0m\u001b[0mwait\u001b[0m\u001b[0;34m(\u001b[0m\u001b[0mtimeout\u001b[0m\u001b[0;34m)\u001b[0m\u001b[0;34m\u001b[0m\u001b[0m\n\u001b[0m\u001b[1;32m    552\u001b[0m             \u001b[0;32mreturn\u001b[0m \u001b[0msignaled\u001b[0m\u001b[0;34m\u001b[0m\u001b[0m\n\u001b[1;32m    553\u001b[0m \u001b[0;34m\u001b[0m\u001b[0m\n",
      "\u001b[0;32m/home/konstantin/anaconda3/lib/python3.6/threading.py\u001b[0m in \u001b[0;36mwait\u001b[0;34m(self, timeout)\u001b[0m\n\u001b[1;32m    293\u001b[0m         \u001b[0;32mtry\u001b[0m\u001b[0;34m:\u001b[0m    \u001b[0;31m# restore state no matter what (e.g., KeyboardInterrupt)\u001b[0m\u001b[0;34m\u001b[0m\u001b[0m\n\u001b[1;32m    294\u001b[0m             \u001b[0;32mif\u001b[0m \u001b[0mtimeout\u001b[0m \u001b[0;32mis\u001b[0m \u001b[0;32mNone\u001b[0m\u001b[0;34m:\u001b[0m\u001b[0;34m\u001b[0m\u001b[0m\n\u001b[0;32m--> 295\u001b[0;31m                 \u001b[0mwaiter\u001b[0m\u001b[0;34m.\u001b[0m\u001b[0macquire\u001b[0m\u001b[0;34m(\u001b[0m\u001b[0;34m)\u001b[0m\u001b[0;34m\u001b[0m\u001b[0m\n\u001b[0m\u001b[1;32m    296\u001b[0m                 \u001b[0mgotit\u001b[0m \u001b[0;34m=\u001b[0m \u001b[0;32mTrue\u001b[0m\u001b[0;34m\u001b[0m\u001b[0m\n\u001b[1;32m    297\u001b[0m             \u001b[0;32melse\u001b[0m\u001b[0;34m:\u001b[0m\u001b[0;34m\u001b[0m\u001b[0m\n",
      "\u001b[0;31mKeyboardInterrupt\u001b[0m: "
     ]
    }
   ],
   "source": [
    "xgb = XGBClassifier(nthread=-1)\n",
    "skf = StratifiedKFold(n_splits=5,shuffle=True,random_state=777)\n",
    "X = data.drop([\"driver_response\",\"offer_gk\"],1).values\n",
    "y = data[\"driver_response\"].values\n",
    "cv_scores=cross_val_score(xgb,X,y, scoring=\"roc_auc\",cv=skf,n_jobs=-1)\n",
    "cv_scores"
   ]
  },
  {
   "cell_type": "code",
   "execution_count": 31,
   "metadata": {},
   "outputs": [
    {
     "data": {
      "text/plain": [
       "0.74441335312285595"
      ]
     },
     "execution_count": 31,
     "metadata": {},
     "output_type": "execute_result"
    }
   ],
   "source": [
    "np.mean(cv_scores) #не дропать order_gk качество чуть лкчше"
   ]
  },
  {
   "cell_type": "code",
   "execution_count": 27,
   "metadata": {},
   "outputs": [
    {
     "data": {
      "text/plain": [
       "array([ 0.74291494,  0.74396427,  0.74394017,  0.74681535,  0.74436726])"
      ]
     },
     "execution_count": 27,
     "metadata": {},
     "output_type": "execute_result"
    }
   ],
   "source": [
    "xgb = XGBClassifier(nthread=-1)\n",
    "skf = StratifiedKFold(n_splits=5,shuffle=True,random_state=777)\n",
    "X = data.drop([\"driver_response\",\"order_gk\"],1).values\n",
    "y = data[\"driver_response\"].values\n",
    "cv_scores=cross_val_score(xgb,X,y, scoring=\"roc_auc\",cv=skf,n_jobs=-1)\n",
    "cv_scores"
   ]
  },
  {
   "cell_type": "code",
   "execution_count": 28,
   "metadata": {},
   "outputs": [
    {
     "data": {
      "text/plain": [
       "0.74440039744150022"
      ]
     },
     "execution_count": 28,
     "metadata": {},
     "output_type": "execute_result"
    }
   ],
   "source": [
    "np.mean(cv_scores)"
   ]
  },
  {
   "cell_type": "code",
   "execution_count": 35,
   "metadata": {},
   "outputs": [
    {
     "data": {
      "text/plain": [
       "0.74161067527011892"
      ]
     },
     "execution_count": 35,
     "metadata": {},
     "output_type": "execute_result"
    }
   ],
   "source": [
    "np.mean(cv_scores)"
   ]
  },
  {
   "cell_type": "code",
   "execution_count": 36,
   "metadata": {},
   "outputs": [
    {
     "data": {
      "text/plain": [
       "array([ 0.74010933,  0.74063836,  0.74051927,  0.74351698,  0.74135037])"
      ]
     },
     "execution_count": 36,
     "metadata": {},
     "output_type": "execute_result"
    }
   ],
   "source": [
    "xgb = XGBClassifier(nthread=-1)\n",
    "skf = StratifiedKFold(n_splits=5,shuffle=True,random_state=777)\n",
    "X = data.drop([\"driver_response\",\"offer_gk\",\"order_gk\",\"driver_gk\",\\\n",
    "              \"origin_order_latitude\"],1).values\n",
    "y = data[\"driver_response\"].values\n",
    "cv_scores=cross_val_score(xgb,X,y, scoring=\"roc_auc\",cv=skf,n_jobs=-1)\n",
    "cv_scores"
   ]
  },
  {
   "cell_type": "code",
   "execution_count": 37,
   "metadata": {},
   "outputs": [
    {
     "data": {
      "text/plain": [
       "0.74122686076476563"
      ]
     },
     "execution_count": 37,
     "metadata": {},
     "output_type": "execute_result"
    }
   ],
   "source": [
    "np.mean(cv_scores)"
   ]
  },
  {
   "cell_type": "code",
   "execution_count": 38,
   "metadata": {},
   "outputs": [
    {
     "data": {
      "text/plain": [
       "array([ 0.73966204,  0.74130531,  0.74121669,  0.74414484,  0.74097012])"
      ]
     },
     "execution_count": 38,
     "metadata": {},
     "output_type": "execute_result"
    }
   ],
   "source": [
    "xgb = XGBClassifier(nthread=-1)\n",
    "skf = StratifiedKFold(n_splits=5,shuffle=True,random_state=777)\n",
    "X = data.drop([\"driver_response\",\"offer_gk\",\"order_gk\",\"driver_gk\",\\\n",
    "              \"driver_latitude\"],1).values\n",
    "y = data[\"driver_response\"].values\n",
    "cv_scores=cross_val_score(xgb,X,y, scoring=\"roc_auc\",cv=skf,n_jobs=-1)\n",
    "cv_scores"
   ]
  },
  {
   "cell_type": "code",
   "execution_count": 39,
   "metadata": {},
   "outputs": [
    {
     "data": {
      "text/plain": [
       "0.74145980119179256"
      ]
     },
     "execution_count": 39,
     "metadata": {},
     "output_type": "execute_result"
    }
   ],
   "source": [
    "np.mean(cv_scores)"
   ]
  },
  {
   "cell_type": "code",
   "execution_count": 40,
   "metadata": {},
   "outputs": [
    {
     "data": {
      "text/plain": [
       "array([ 0.73324438,  0.73408763,  0.73355855,  0.73776923,  0.73412893])"
      ]
     },
     "execution_count": 40,
     "metadata": {},
     "output_type": "execute_result"
    }
   ],
   "source": [
    "xgb = XGBClassifier(nthread=-1)\n",
    "skf = StratifiedKFold(n_splits=5,shuffle=True,random_state=777)\n",
    "X = data.drop([\"driver_response\",\"offer_gk\",\"order_gk\",\"driver_gk\",\\\n",
    "              \"driver_latitude\",\"origin_order_latitude\"],1).values\n",
    "y = data[\"driver_response\"].values\n",
    "cv_scores=cross_val_score(xgb,X,y, scoring=\"roc_auc\",cv=skf,n_jobs=-1)\n",
    "cv_scores"
   ]
  },
  {
   "cell_type": "code",
   "execution_count": 41,
   "metadata": {},
   "outputs": [
    {
     "data": {
      "text/plain": [
       "0.73455774646703054"
      ]
     },
     "execution_count": 41,
     "metadata": {},
     "output_type": "execute_result"
    }
   ],
   "source": [
    "np.mean(cv_scores)"
   ]
  },
  {
   "cell_type": "code",
   "execution_count": 330,
   "metadata": {
    "collapsed": true
   },
   "outputs": [],
   "source": [
    "poly = PolynomialFeatures(degree=2, include_bias=True)"
   ]
  },
  {
   "cell_type": "code",
   "execution_count": 331,
   "metadata": {},
   "outputs": [
    {
     "data": {
      "text/plain": [
       "array([ 0.76989549,  0.7721702 ,  0.77138301,  0.77457087,  0.77194418])"
      ]
     },
     "execution_count": 331,
     "metadata": {},
     "output_type": "execute_result"
    }
   ],
   "source": [
    "xgb = XGBClassifier(n_estimators=500,max_depth=6, nthread=-1,\\\n",
    "                   subsample=0.9, colsample_bytree=0.9, colsample_bylevel=0.9,\\\n",
    "                   seed=777)\n",
    "skf = StratifiedKFold(n_splits=5,shuffle=True,random_state=777)\n",
    "X = data.drop([\"driver_response\",\"offer_gk\",\"order_gk\",\"driver_gk\"],1).values\n",
    "X = poly.fit_transform(X)\n",
    "y = data[\"driver_response\"].values\n",
    "cv_scores=cross_val_score(xgb,X,y, scoring=\"roc_auc\",cv=skf,n_jobs=-1)\n",
    "cv_scores"
   ]
  },
  {
   "cell_type": "code",
   "execution_count": 332,
   "metadata": {},
   "outputs": [
    {
     "data": {
      "text/plain": [
       "0.77199274836756793"
      ]
     },
     "execution_count": 332,
     "metadata": {},
     "output_type": "execute_result"
    }
   ],
   "source": [
    "np.mean(cv_scores)"
   ]
  },
  {
   "cell_type": "markdown",
   "metadata": {},
   "source": [
    "## The Best:"
   ]
  },
  {
   "cell_type": "code",
   "execution_count": 327,
   "metadata": {},
   "outputs": [
    {
     "data": {
      "text/plain": [
       "array([ 0.76867485,  0.77064106,  0.76912883,  0.77246702,  0.7713453 ])"
      ]
     },
     "execution_count": 327,
     "metadata": {},
     "output_type": "execute_result"
    }
   ],
   "source": [
    "xgb = XGBClassifier(n_estimators=500,max_depth=6, nthread=-1,\\\n",
    "                   subsample=0.9, colsample_bytree=0.9, colsample_bylevel=0.9,\\\n",
    "                   seed=777)\n",
    "skf = StratifiedKFold(n_splits=5,shuffle=True,random_state=777)\n",
    "X = data.drop([\"driver_response\",\"offer_gk\",\"order_gk\",\"driver_gk\"],1).values\n",
    "#data.hour_key = data.hour_key.values // 8\n",
    "y = data[\"driver_response\"].values\n",
    "cv_scores=cross_val_score(xgb,X,y, scoring=\"roc_auc\",cv=skf,n_jobs=-1)\n",
    "cv_scores"
   ]
  },
  {
   "cell_type": "code",
   "execution_count": 328,
   "metadata": {},
   "outputs": [
    {
     "data": {
      "text/plain": [
       "0.77045141113350968"
      ]
     },
     "execution_count": 328,
     "metadata": {},
     "output_type": "execute_result"
    }
   ],
   "source": [
    "np.mean(cv_scores) "
   ]
  },
  {
   "cell_type": "code",
   "execution_count": 65,
   "metadata": {},
   "outputs": [],
   "source": [
    "le = LabelEncoder()\n",
    "le.fit([\"private\", \"affiliate\", \"SMB\", \"business\"])\n",
    "test_data.ride_type_desc = le.transform(test_data.ride_type_desc.values)\n",
    "le.fit([\"Test\", \"Economy\", \"Delivery\",\"Standard\",\"Kids\", \"XL\",\"Premium\",\"VIP\",\"VIP+\"])   \n",
    "test_data.offer_class_group = le.transform(test_data.offer_class_group.values)"
   ]
  },
  {
   "cell_type": "code",
   "execution_count": 79,
   "metadata": {},
   "outputs": [],
   "source": [
    "xgb.fit(X,y)\n",
    "y_pred = xgb.predict_proba(test_data.drop([\"driver_response\",\"offer_gk\",\"order_gk\",\"driver_gk\"],1).values)"
   ]
  },
  {
   "cell_type": "code",
   "execution_count": 84,
   "metadata": {},
   "outputs": [],
   "source": [
    "take_it = []\n",
    "for val in y_pred:\n",
    "    take_it+=[val[1]]"
   ]
  },
  {
   "cell_type": "code",
   "execution_count": 86,
   "metadata": {},
   "outputs": [],
   "source": [
    "take_it = np.array(take_it)"
   ]
  },
  {
   "cell_type": "markdown",
   "metadata": {},
   "source": [
    "## Submission"
   ]
  },
  {
   "cell_type": "code",
   "execution_count": 80,
   "metadata": {
    "collapsed": true
   },
   "outputs": [],
   "source": [
    "lana_first_submit = pd.read_csv(\"first_dana_submit.csv\")"
   ]
  },
  {
   "cell_type": "code",
   "execution_count": 94,
   "metadata": {},
   "outputs": [],
   "source": [
    "submission = pd.DataFrame()\n",
    "submission[\"offer_gk\"]=lana_first_submit.offer_gk.values\n",
    "submission[\"driver_response\"]=(0.75*lana_first_submit.driver_response.values + 0.25*take_it)/2\n",
    "submission.to_csv(\"simple_xgb_first_dana_kk_2.csv\", index=False)"
   ]
  },
  {
   "cell_type": "code",
   "execution_count": null,
   "metadata": {
    "collapsed": true
   },
   "outputs": [],
   "source": []
  }
 ],
 "metadata": {
  "kernelspec": {
   "display_name": "Python 3",
   "language": "python",
   "name": "python3"
  },
  "language_info": {
   "codemirror_mode": {
    "name": "ipython",
    "version": 3
   },
   "file_extension": ".py",
   "mimetype": "text/x-python",
   "name": "python",
   "nbconvert_exporter": "python",
   "pygments_lexer": "ipython3",
   "version": "3.6.1"
  }
 },
 "nbformat": 4,
 "nbformat_minor": 2
}
