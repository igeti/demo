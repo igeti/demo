{
 "cells": [
  {
   "cell_type": "markdown",
   "metadata": {
    "deletable": true,
    "editable": true
   },
   "source": [
    "## Семинар 1 \"Полносвязные нейронные сети\""
   ]
  },
  {
   "cell_type": "markdown",
   "metadata": {
    "deletable": true,
    "editable": true
   },
   "source": [
    "ФИО: Крылов Иван Николаевич"
   ]
  },
  {
   "cell_type": "markdown",
   "metadata": {
    "deletable": true,
    "editable": true
   },
   "source": [
    "В этом задании вам предстоит реализовать проход \"вперед\" для полносвязной нейронную сети. В дальнейшем мы реализуем процедуру обучения и научим сеть распознавать рукописные цифры.\n",
    "\n",
    "На первой лекции мы познакомились с тем, что такое нейронные сети, и изучили три слоя: линейный, сигмоида и SoftMax. Из этих слоев можно составлять глубокие архитектуры и обучать их при помощи градиентного спуска. Чтобы конструировать сложные архитектуры, можно реализовать каждый тип слоя как отдельный \"кирпичик\" и затем собирать полную архитектуру как конструктор. Это мы и попробуем сделать на первом и втором семинарах."
   ]
  },
  {
   "cell_type": "markdown",
   "metadata": {
    "deletable": true,
    "editable": true
   },
   "source": [
    "Каждый тип слоя мы будем реализовывать при помощи класса, который будет поддерживать три функции: forward, которая будет применять функцию, реализуемую слоем, к входной матрице, backward, которая будет вычислять градиенты, и step, которая будет обновлять веса. Чтобы не применять функцию к каждому объекту в отдельности, мы будем подавать на вход слою матрицу размера (N, d), где N — количество объектов, а d — размерность каждого объекта."
   ]
  },
  {
   "cell_type": "markdown",
   "metadata": {
    "deletable": true,
    "editable": true
   },
   "source": [
    "Функция forward будет вычислять по $x$ значение $y$, backward — по $\\frac{\\partial L}{\\partial y}$ вычислять $\\frac{\\partial L}{\\partial x}$ и обновлять внутри себя $\\frac{\\partial L}{\\partial w}$."
   ]
  },
  {
   "cell_type": "code",
   "execution_count": 1,
   "metadata": {
    "collapsed": true,
    "deletable": true,
    "editable": true
   },
   "outputs": [],
   "source": [
    "import matplotlib.pyplot as plt\n",
    "import numpy as np\n",
    "%matplotlib inline"
   ]
  },
  {
   "cell_type": "markdown",
   "metadata": {
    "deletable": true,
    "editable": true
   },
   "source": [
    "### Часть 1: Линейный слой\n"
   ]
  },
  {
   "cell_type": "code",
   "execution_count": 2,
   "metadata": {
    "collapsed": false,
    "deletable": true,
    "editable": true
   },
   "outputs": [],
   "source": [
    "class Linear:\n",
    "    def __init__(self, input_size, output_size):\n",
    "        '''\n",
    "        Creates weights and biases for linear layer.\n",
    "        Dimension of inputs is *input_size*, of output: *output_size*.\n",
    "        '''\n",
    "        #### Create weights, initialize them with samples from N(0, 0.1).\n",
    "        # We have `output_size` neurons, each consumes the same `input_size` inputs.\n",
    "        # One more column of 1s will be added to account for the bias.\n",
    "        # Therefore, we need `input_size+1`x`output_size` weights.\n",
    "        self.w = np.random.normal(0,0.1, (input_size+1, output_size))\n",
    "        self.b = np.zeros(output_size)\n",
    "    \n",
    "    def forward(self, X):\n",
    "        '''\n",
    "        Passes objects through this layer.\n",
    "        X is np.array of size (N, d)\n",
    "        '''\n",
    "        #### Apply layer to input\n",
    "        # Column of 1s accounts for bias\n",
    "        self.X = np.append(X, np.ones((X.shape[0],1)), axis=1)\n",
    "        # (number_of_objects, input_size) * (input_size, output_size) -> (number_of_objects, output_size)\n",
    "        self.y = np.dot(self.X, self.w)\n",
    "        return self.y\n",
    "    \n",
    "    def backward(self, dLdy):\n",
    "        '''\n",
    "        1. Compute dLdw and dLdx.\n",
    "        2. Store dLdw for step() call\n",
    "        3. Return dLdx\n",
    "        '''\n",
    "        # given:\n",
    "        # X: matrix of shape (number_of_objects, input_size)\n",
    "        # y: matrix of shape (number_of_objects, output_size)\n",
    "        # w: matrix of shape (input_size, output_size)\n",
    "        # dLdy: matrix of shape (number_of_objects, output_size) (scalar by matrix)\n",
    "        # y := X * w\n",
    "\n",
    "        # dLdw: matrix of shape (input_size, output_size)\n",
    "        self.dLdw = np.dot(self.X.T, dLdy)\n",
    "        # dLdx: matrix of shape (number_of_objects, input_size)\n",
    "        self.dLdx = np.dot(dLdy, self.w.T)\n",
    "        \n",
    "        # oh, and that last \"x\" was an 1 I'd added to account for the bias -- keep quiet about it\n",
    "        return self.dLdx[:,0:(self.X.shape[1]-1)]\n",
    "    \n",
    "    def step(self, learning_rate):\n",
    "        '''\n",
    "        1. Apply gradient dLdw to network:\n",
    "        w <- w - l*dLdw\n",
    "        '''\n",
    "        self.w = self.w - learning_rate*self.dLdw"
   ]
  },
  {
   "cell_type": "markdown",
   "metadata": {
    "deletable": true,
    "editable": true
   },
   "source": [
    "### Часть 2: Сигмоида"
   ]
  },
  {
   "cell_type": "code",
   "execution_count": 3,
   "metadata": {
    "collapsed": false,
    "deletable": true,
    "editable": true
   },
   "outputs": [],
   "source": [
    "class Sigmoid:\n",
    "    def __init__(self):\n",
    "        pass\n",
    "    \n",
    "    def forward(self, X):\n",
    "        '''\n",
    "        Passes objects through this layer.\n",
    "        X is np.array of size (N, d)\n",
    "        '''\n",
    "        #### Apply layer to input\n",
    "        self.X = X #.sum(axis=1) # turns out, I don't need to sum...?\n",
    "        self.y = 1/(1+np.exp(-self.X))\n",
    "        return self.y\n",
    "    \n",
    "    def backward(self, dLdy):\n",
    "        '''\n",
    "        1. Compute dLdx.\n",
    "        2. Return dLdx\n",
    "        '''\n",
    "        # dL/dx = dL/dy * dy/dx\n",
    "        self.dLdx = dLdy * np.exp(-self.X)/(np.exp(-self.X) + 1)**2\n",
    "        return self.dLdx\n",
    "    \n",
    "    def step(self, learning_rate):\n",
    "        # no weights to optimize here, move along\n",
    "        pass"
   ]
  },
  {
   "cell_type": "markdown",
   "metadata": {
    "deletable": true,
    "editable": true
   },
   "source": [
    "### Часть 3: Функция потерь"
   ]
  },
  {
   "cell_type": "markdown",
   "metadata": {
    "deletable": true,
    "editable": true
   },
   "source": [
    "Как мы увидели на семинаре, вычисление производной для связки SoftMax + Negative log-likelihood проще чем для этих двух слоев по отдельности. Поэтому мы реализуем их как один класс. Важное замечание: на проходе \"вперед\" важно воспользоваться трюком <a href=\"https://hips.seas.harvard.edu/blog/2013/01/09/computing-log-sum-exp/\">log-sum-exp</a>, чтобы не столкнуться с численными неустойчивостями."
   ]
  },
  {
   "cell_type": "markdown",
   "metadata": {
    "deletable": true,
    "editable": true
   },
   "source": [
    "$$ {\\mathrm L} \\equiv \\sum_c {\\mathrm I} [c=t] \\log  p_c $$\n",
    "$$ p_c \\equiv \\frac{e^{y_c}}{\\sum_k e^{y_k}} $$\n",
    "$$ {\\mathrm L} = y_t - \\log \\sum_k e^{y_k} $$\n",
    "$$ \\frac{\\partial L}{\\partial y_c} =   \\begin{cases}\n",
    "    1 - \\frac{e^{y_c}}{\\sum_k e^{y_k}}, & k=t \\\\\n",
    "    - \\frac{e^{y_c}}{\\sum_k e^{y_k}}, & \\text{otherwise }\n",
    "  \\end{cases} $$ \n",
    "$$ \\frac{e^{y_c}}{\\sum_k e^{y_k}} = \\exp \\left( y_c - \\log \\sum_k e^{y_k} \\right) \n",
    "= \\exp \\left( y_c - \\max_k y_k - \\log \\sum_k \\left( y_k - \\max_k y_k \\right) \\right)\n",
    "$$"
   ]
  },
  {
   "cell_type": "code",
   "execution_count": 10,
   "metadata": {
    "collapsed": false,
    "deletable": true,
    "editable": true
   },
   "outputs": [],
   "source": [
    "class NLLLoss:\n",
    "    def __init__(self):\n",
    "        '''\n",
    "        Applies Softmax operation to inputs and computes NLL loss\n",
    "        '''\n",
    "        pass\n",
    "    \n",
    "    def forward(self, X, y):\n",
    "        '''\n",
    "        Passes objects through this layer.\n",
    "        X is np.array of size (N, d)\n",
    "        y is np.array of size (N), contains correct labels\n",
    "        '''\n",
    "        #### Apply layer to input\n",
    "        self.X = X\n",
    "        Xmax = np.max(X,axis=1) # keep axis 0 (different points) intact\n",
    "        self.L = X[range(X.shape[0]),y] - Xmax - np.log( # trigger NumPy's \"smart indexing\" by feeding both array-like\n",
    "            np.sum( # log-sum-exp to avoid floating overflows\n",
    "                np.exp(\n",
    "                    (X.T-Xmax).T # hooray for NumPy broadcasting\n",
    "                ),\n",
    "                axis=1\n",
    "            )\n",
    "        )\n",
    "        self.L = -self.L # *negative* LL\n",
    "        return self.L\n",
    "    \n",
    "    def backward(self):\n",
    "        '''\n",
    "        Note that here dLdy = 1 since L = y\n",
    "        1. Compute dLdx\n",
    "        2. Return dLdx\n",
    "        '''\n",
    "        # same as above: tricks to adhere to broadcasting and smart indexing rules; also, log-sum-exp\n",
    "        local_max = np.max(self.X,axis=1)\n",
    "        self.dLdx = -np.exp(\n",
    "            self.X.T - local_max - np.log(\n",
    "                np.sum(\n",
    "                    np.exp(self.X.T-local_max),\n",
    "                    axis=0\n",
    "                )\n",
    "            )\n",
    "        ).T\n",
    "        self.dLdx[range(X.shape[0]),y] += 1\n",
    "        self.dLdx = -self.dLdx # *negative*\n",
    "        return self.dLdx"
   ]
  },
  {
   "cell_type": "markdown",
   "metadata": {
    "deletable": true,
    "editable": true
   },
   "source": [
    "### Часть 4, нейронная сеть"
   ]
  },
  {
   "cell_type": "markdown",
   "metadata": {
    "deletable": true,
    "editable": true
   },
   "source": [
    "Теперь, когда у нас есть \"кирпичики\", мы можем написать класс, который будет собирать всю сеть вместе "
   ]
  },
  {
   "cell_type": "code",
   "execution_count": 5,
   "metadata": {
    "collapsed": true,
    "deletable": true,
    "editable": true
   },
   "outputs": [],
   "source": [
    "class NeuralNetwork:\n",
    "    def __init__(self, modules):\n",
    "        '''\n",
    "        Constructs network with *modules* as its layers\n",
    "        '''\n",
    "        self.layers = modules\n",
    "        pass\n",
    "    \n",
    "    def forward(self, X):\n",
    "        #### Apply layers to input\n",
    "        y = X\n",
    "        for layer in self.layers:\n",
    "            y = layer.forward(y)\n",
    "        return y\n",
    "    \n",
    "    def backward(self, dLdy):\n",
    "        '''\n",
    "        dLdy here is a gradient from loss function\n",
    "        '''\n",
    "        dLdx = dLdy\n",
    "        for i in reversed(xrange(len(self.layers))):\n",
    "            dLdx = self.layers[i].backward(dLdx)\n",
    "        \n",
    "        return dLdx\n",
    "    \n",
    "    def step(self, learning_rate):\n",
    "        for layer in self.layers:\n",
    "            layer.step(learning_rate)"
   ]
  },
  {
   "cell_type": "markdown",
   "metadata": {
    "deletable": true,
    "editable": true
   },
   "source": [
    "### Часть 5, обучение на простых данных"
   ]
  },
  {
   "cell_type": "code",
   "execution_count": 48,
   "metadata": {
    "collapsed": false,
    "deletable": true,
    "editable": true
   },
   "outputs": [
    {
     "name": "stdout",
     "output_type": "stream",
     "text": [
      "(346, 2)\n"
     ]
    },
    {
     "data": {
      "image/png": "[encoded data removed]",
      "text/plain": [
       "<matplotlib.figure.Figure at 0x7f30f2c66490>"
      ]
     },
     "metadata": {},
     "output_type": "display_data"
    }
   ],
   "source": [
    "data = np.load('data.npz')\n",
    "X, y = data['arr_0'], data['arr_1']\n",
    "print X.shape\n",
    "plt.scatter(X[:, 0], X[:, 1], c=y)\n",
    "plt.axis('equal')\n",
    "plt.show()"
   ]
  },
  {
   "cell_type": "markdown",
   "metadata": {
    "deletable": true,
    "editable": true
   },
   "source": [
    "Обучите архитектуру вида 2 -> 10 -> 10 -> 3:\n",
    "* Linear(2, 10)\n",
    "* Sigmoid()\n",
    "* Linear(10, 10)\n",
    "* Sigmoid()\n",
    "* Linear(10, 3)\n",
    "\n",
    "В качестве функции потерь используйте NLLLoss.\n",
    "1. Создайте сеть, в цикле запускайте forward, backward, step (используйте learning rate 0.01). \n",
    "2. Нарисуйте график сходимости (изменение NLL со временем).\n",
    "3. Нарисуйте разделяющую поверхность"
   ]
  },
  {
   "cell_type": "markdown",
   "metadata": {
    "deletable": true,
    "editable": true
   },
   "source": [
    "Отличная визуализация: http://playground.tensorflow.org/"
   ]
  },
  {
   "cell_type": "code",
   "execution_count": 49,
   "metadata": {
    "collapsed": false,
    "deletable": true,
    "editable": true
   },
   "outputs": [
    {
     "name": "stdout",
     "output_type": "stream",
     "text": [
      "CPU times: user 604 ms, sys: 8 ms, total: 612 ms\n",
      "Wall time: 610 ms\n"
     ]
    }
   ],
   "source": [
    "%%time\n",
    "learning_rate = .01\n",
    "iterations = 500\n",
    "loss = np.empty((iterations,X.shape[0]))\n",
    "\n",
    "NN = NeuralNetwork((Linear(2,10),Sigmoid(),Linear(10,10),Sigmoid(),Linear(10,3)))\n",
    "nll = NLLLoss()\n",
    "\n",
    "for i in xrange(iterations):\n",
    "    loss[i] = nll.forward(NN.forward(X),y)\n",
    "    NN.backward(nll.backward())\n",
    "    NN.step(learning_rate)"
   ]
  },
  {
   "cell_type": "code",
   "execution_count": 50,
   "metadata": {
    "collapsed": false,
    "deletable": true,
    "editable": true
   },
   "outputs": [
    {
     "data": {
      "text/plain": [
       "[<matplotlib.lines.Line2D at 0x7f30f03c7b50>]"
      ]
     },
     "execution_count": 50,
     "metadata": {},
     "output_type": "execute_result"
    },
    {
     "data": {
      "image/png": "[encoded data removed]",
      "text/plain": [
       "<matplotlib.figure.Figure at 0x7f30f24d0590>"
      ]
     },
     "metadata": {},
     "output_type": "display_data"
    }
   ],
   "source": [
    "plt.plot(range(iterations),loss.mean(axis=1))"
   ]
  },
  {
   "cell_type": "code",
   "execution_count": 88,
   "metadata": {
    "collapsed": false
   },
   "outputs": [
    {
     "data": {
      "text/plain": [
       "<matplotlib.collections.PathCollection at 0x7f30f0054650>"
      ]
     },
     "execution_count": 88,
     "metadata": {},
     "output_type": "execute_result"
    },
    {
     "data": {
      "image/png": "[encoded data removed]",
      "text/plain": [
       "<matplotlib.figure.Figure at 0x7f30f1f0b890>"
      ]
     },
     "metadata": {},
     "output_type": "display_data"
    }
   ],
   "source": [
    "points = 200\n",
    "xx = np.linspace(min(X[:,0]),max(X[:,0]),points)\n",
    "yy = np.linspace(min(X[:,1]),max(X[:,1]),points)\n",
    "xx, yy = np.meshgrid(xx,yy)\n",
    "Xgrid=np.array((xx.ravel(), yy.ravel())).T\n",
    "plt.scatter(xx,yy,c=NN.forward(Xgrid).argmax(axis=1),marker=\",\",cmap=\"Accent\")\n",
    "plt.scatter(X[:,0],X[:,1],c=y)"
   ]
  },
  {
   "cell_type": "code",
   "execution_count": 123,
   "metadata": {
    "collapsed": false,
    "deletable": true,
    "editable": true
   },
   "outputs": [
    {
     "name": "stdout",
     "output_type": "stream",
     "text": [
      "Gradient RMSE = 5.46227318202e-11\n"
     ]
    },
    {
     "data": {
      "image/png": "[encoded data removed]",
      "text/plain": [
       "<matplotlib.figure.Figure at 0x7f30f0495950>"
      ]
     },
     "metadata": {},
     "output_type": "display_data"
    }
   ],
   "source": [
    "# the only gradient we can check is NLL loss function by a single input weight\n",
    "weights = NN.forward(X) # let's get a reasonable weight value\n",
    "\n",
    "my_epsilon = np.zeros(weights.shape[1])\n",
    "# these are changeable\n",
    "idx = 0\n",
    "my_epsilon[idx] = 1e-6\n",
    "\n",
    "nll.forward(weights,y) # compute L...\n",
    "grad_my = nll.backward()[:,idx] # ...and dL/dx\n",
    "\n",
    "# then estimate it numerically from L\n",
    "grad_est = (nll.forward(weights+my_epsilon,y)-nll.forward(weights-my_epsilon,y))/(2*my_epsilon[idx])\n",
    "plt.scatter(grad_my,grad_est)\n",
    "print \"Gradient RMSE =\", np.sqrt(np.mean(((grad_my-grad_est)**2)))"
   ]
  },
  {
   "cell_type": "code",
   "execution_count": null,
   "metadata": {
    "collapsed": true
   },
   "outputs": [],
   "source": []
  }
 ],
 "metadata": {
  "kernelspec": {
   "display_name": "Python 2",
   "language": "python",
   "name": "python2"
  },
  "language_info": {
   "codemirror_mode": {
    "name": "ipython",
    "version": 2
   },
   "file_extension": ".py",
   "mimetype": "text/x-python",
   "name": "python",
   "nbconvert_exporter": "python",
   "pygments_lexer": "ipython2",
   "version": "2.7.13"
  }
 },
 "nbformat": 4,
 "nbformat_minor": 2
}
