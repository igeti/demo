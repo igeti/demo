{
 "cells": [
  {
   "cell_type": "markdown",
   "metadata": {},
   "source": [
    "## Семинар 10: \"Генерация текстов\""
   ]
  },
  {
   "cell_type": "markdown",
   "metadata": {},
   "source": [
    "ФИО: Полыковский Даниил Александрович"
   ]
  },
  {
   "cell_type": "code",
   "execution_count": 1,
   "metadata": {
    "collapsed": true
   },
   "outputs": [],
   "source": [
    "import numpy as np\n",
    "import re\n",
    "from torch import nn\n",
    "from torch.autograd import Variable\n",
    "import matplotlib.pyplot as plt\n",
    "import torch\n",
    "from torch.utils.data import Dataset, DataLoader\n",
    "import sys\n",
    "import tqdm\n",
    "import progressbar\n",
    "%matplotlib inline"
   ]
  },
  {
   "cell_type": "markdown",
   "metadata": {},
   "source": [
    "Этот семинар посвящен чат-ботам. Вам предстоит реализовать модель, генерирующую определенные тексты. В качестве текстов можно взять сборник цитат умных людей, предсказаний и т.д. На семинаре мы используем данные https://github.com/alvations/Quotables/blob/master/author-quote.txt\n",
    "\n",
    "При реализации задания вы можете пользоваться кодом из этого примера: <a href=https://github.com/spro/practical-pytorch/blob/master/char-rnn-generation/char-rnn-generation.ipynb>Generating Shakespeare with a Character-Level RNN</a>"
   ]
  },
  {
   "cell_type": "markdown",
   "metadata": {},
   "source": [
    "### Часть 1: подготовка данных"
   ]
  },
  {
   "cell_type": "markdown",
   "metadata": {},
   "source": [
    "Реализуйте датасет для дальнейшего обучения (будем использовать batch size=1)"
   ]
  },
  {
   "cell_type": "code",
   "execution_count": 98,
   "metadata": {
    "collapsed": false
   },
   "outputs": [
    {
     "name": "stdout",
     "output_type": "stream",
     "text": [
      "A. A. Milne\tIf you live to be a hundred, I want to live to be a hundred minus one day so I never have to live without you.\r\n",
      "A. A. Milne\tPromise me you'll always remember: You're braver than you believe, and stronger than you seem, and smarter than you think.\r\n"
     ]
    }
   ],
   "source": [
    "! head -n 2 author-quote.txt"
   ]
  },
  {
   "cell_type": "code",
   "execution_count": 99,
   "metadata": {
    "collapsed": false
   },
   "outputs": [],
   "source": [
    "lines = [x.split('\\t')[1].strip() for x in open('author-quote.txt').readlines()]"
   ]
  },
  {
   "cell_type": "code",
   "execution_count": 100,
   "metadata": {
    "collapsed": false
   },
   "outputs": [
    {
     "data": {
      "image/png": "[encoded data removed]",
      "text/plain": [
       "<matplotlib.figure.Figure at 0x1132e8510>"
      ]
     },
     "metadata": {},
     "output_type": "display_data"
    }
   ],
   "source": [
    "plt.hist(map(len, lines), bins=100);"
   ]
  },
  {
   "cell_type": "code",
   "execution_count": 101,
   "metadata": {
    "collapsed": true
   },
   "outputs": [],
   "source": [
    "line = lines[11]"
   ]
  },
  {
   "cell_type": "code",
   "execution_count": 102,
   "metadata": {
    "collapsed": false
   },
   "outputs": [
    {
     "data": {
      "text/plain": [
       "'One of the advantages of being disorderly is that one is constantly making exciting discoveries.'"
      ]
     },
     "execution_count": 102,
     "metadata": {},
     "output_type": "execute_result"
    }
   ],
   "source": [
    "line"
   ]
  },
  {
   "cell_type": "code",
   "execution_count": null,
   "metadata": {
    "collapsed": true
   },
   "outputs": [],
   "source": []
  },
  {
   "cell_type": "code",
   "execution_count": 103,
   "metadata": {
    "collapsed": true
   },
   "outputs": [],
   "source": [
    "lines = filter(lambda x: len(x) <= 50, lines)"
   ]
  },
  {
   "cell_type": "code",
   "execution_count": 104,
   "metadata": {
    "collapsed": true
   },
   "outputs": [],
   "source": [
    "class Vocabulary:\n",
    "    def __init__(self, sentences):\n",
    "        all_characters = set()\n",
    "        for line in sentences:\n",
    "            all_characters |= set(line)\n",
    "        all_characters = list(all_characters)+['<eos>', '<go>']\n",
    "        self.char_to_id = {x[1]:x[0] for x in enumerate(all_characters)}\n",
    "        self.id_to_char = {x[0]:x[1] for x in enumerate(all_characters)}\n",
    "        self.size = len(all_characters)\n",
    "        \n",
    "\n",
    "    def encode(self, line):\n",
    "        return np.array([self.char_to_id[x] for x in line])\n",
    "    \n",
    "    def decode(self, tokens):\n",
    "        return ''.join([self.id_to_char[x] for x in tokens])"
   ]
  },
  {
   "cell_type": "code",
   "execution_count": 105,
   "metadata": {
    "collapsed": false
   },
   "outputs": [],
   "source": [
    "vocab = Vocabulary(lines)"
   ]
  },
  {
   "cell_type": "code",
   "execution_count": 106,
   "metadata": {
    "collapsed": false
   },
   "outputs": [
    {
     "data": {
      "text/plain": [
       "75"
      ]
     },
     "execution_count": 106,
     "metadata": {},
     "output_type": "execute_result"
    }
   ],
   "source": [
    "vocab.size"
   ]
  },
  {
   "cell_type": "code",
   "execution_count": 107,
   "metadata": {
    "collapsed": true
   },
   "outputs": [],
   "source": [
    "assert vocab.decode(vocab.encode(lines[0])) == lines[0]"
   ]
  },
  {
   "cell_type": "code",
   "execution_count": 108,
   "metadata": {
    "collapsed": true
   },
   "outputs": [],
   "source": [
    "class Quotes(Dataset):\n",
    "    def __init__(self, sentences, vocab):\n",
    "        # Construct vocabulary + EOS & GO tokens\n",
    "        self.sentences = sentences\n",
    "        self.vocab = vocab\n",
    "        \n",
    "    def __len__(self):\n",
    "        return len(self.sentences)\n",
    "        \n",
    "    def __getitem__(self, idx):\n",
    "        input = self.vocab.encode(['<go>'] + list(self.sentences[idx]))\n",
    "        output = self.vocab.encode(list(self.sentences[idx])+['<eos>'])\n",
    "        return input, output"
   ]
  },
  {
   "cell_type": "code",
   "execution_count": 109,
   "metadata": {
    "collapsed": false
   },
   "outputs": [],
   "source": [
    "dataset = Quotes(lines, vocab)"
   ]
  },
  {
   "cell_type": "code",
   "execution_count": 110,
   "metadata": {
    "collapsed": true
   },
   "outputs": [],
   "source": [
    "dataloader = DataLoader(dataset, shuffle=True)"
   ]
  },
  {
   "cell_type": "markdown",
   "metadata": {},
   "source": [
    "### Часть 2: определение модели"
   ]
  },
  {
   "cell_type": "code",
   "execution_count": 113,
   "metadata": {
    "collapsed": false
   },
   "outputs": [],
   "source": [
    "class Oracle(nn.Module):\n",
    "    def __init__(self, vocabulary_size, embedding_size=128, hidden_size=256, layers=2):\n",
    "        super(Oracle, self).__init__()\n",
    "        self.embedding_size = embedding_size\n",
    "        self.layers = layers\n",
    "        self.hidden_size = hidden_size\n",
    "        self.embedding = nn.Embedding(vocabulary_size, embedding_size)\n",
    "        self.generator = nn.GRU(embedding_size, hidden_size, layers, batch_first=True)\n",
    "        self.classifier = nn.Linear(hidden_size, vocabulary_size)\n",
    "    \n",
    "    def forward(self, input):\n",
    "        embedding = self.embedding(input)\n",
    "        h = Variable(torch.Tensor(self.layers, 1, self.hidden_size).normal_(), requires_grad=False)*0\n",
    "        output, _ = self.generator(embedding, (h))\n",
    "        classes = self.classifier(output[0])\n",
    "        return classes\n",
    "    \n",
    "    def generate(self, vocab, max_len=50):\n",
    "        h = Variable(torch.Tensor(self.layers, 1, self.hidden_size).normal_(), requires_grad=False)*0\n",
    "        current_token = '<go>'\n",
    "        line = ''\n",
    "        while (current_token != '<eos>') and len(line) < max_len:\n",
    "            token = torch.Tensor([[vocab.char_to_id[current_token]]]).long()\n",
    "            token_id = Variable(token, volatile=True)\n",
    "            embedding = self.embedding(token_id)\n",
    "            output, (h) = self.generator(embedding, (h))\n",
    "            classes = self.classifier(output[0])\n",
    "            new_token_id = np.argmax(classes.data.numpy())\n",
    "            current_token = vocab.id_to_char[new_token_id]\n",
    "            line = line + current_token\n",
    "        return line"
   ]
  },
  {
   "cell_type": "code",
   "execution_count": 114,
   "metadata": {
    "collapsed": false
   },
   "outputs": [],
   "source": [
    "oracle = Oracle(vocab.size, embedding_size=128, hidden_size=256, layers=1)"
   ]
  },
  {
   "cell_type": "markdown",
   "metadata": {},
   "source": [
    "### Часть 3: обучение модели"
   ]
  },
  {
   "cell_type": "code",
   "execution_count": 115,
   "metadata": {
    "collapsed": false
   },
   "outputs": [],
   "source": [
    "optimizer = torch.optim.Adam(oracle.parameters(), lr=0.01)"
   ]
  },
  {
   "cell_type": "code",
   "execution_count": 116,
   "metadata": {
    "collapsed": true
   },
   "outputs": [],
   "source": [
    "criterion = nn.CrossEntropyLoss()"
   ]
  },
  {
   "cell_type": "code",
   "execution_count": 117,
   "metadata": {
    "collapsed": true
   },
   "outputs": [],
   "source": [
    "losses = []"
   ]
  },
  {
   "cell_type": "code",
   "execution_count": 118,
   "metadata": {
    "collapsed": false,
    "scrolled": true
   },
   "outputs": [
    {
     "name": "stderr",
     "output_type": "stream",
     "text": [
      "\r",
      "  0%|          | 0/1000 [00:00<?, ?it/s]"
     ]
    },
    {
     "name": "stdout",
     "output_type": "stream",
     "text": [
      "4.34620046616 Conquer,  t t t t t t t t t t t t t t t t t t t t \n",
      "4.03282737732 Con t  t    t     t     t     t     t     t     t \n",
      "3.21023035049 I oneeereeereeereeereeereeereeereeereeereeereeeree\n",
      "3.08896446228 I ansss.<eos>\n",
      "2.91508030891 I allline alline allline alline allline alline all\n",
      "2.40798807144 I the to the tore tore tore tore tore tore tore to\n",
      "2.74886322021 I the to to to to to to to to to to to to to to to\n",
      "2.21255111694 I the the the the the the the the the to the the t\n",
      "2.3000998497 I an the an the an the an the an the an the an the\n",
      "2.33908605576 I'm an ang ang ang ang ang ang ang ang ang ang ang\n",
      "2.50449705124 I'm and and ang and ang ang and ang ang ang ang an\n",
      "1.99529409409 I'm a le all all all all all ally and is and is an\n",
      "2.30130910873 Whe is se is se is se is se is se is se is se is s\n",
      "2.57564973831 I he is son is son is son is son is son is son is \n",
      "2.29140877724 I hof the in the in the in the in the in the in th\n",
      "2.44019579887 I a be ar the a the ar the ar the ar the ar the ar\n",
      "2.65351390839 I a the a the the the the the the the a the the th\n",
      "2.41259026527 I a the a the a the a the a the a the a the a the \n",
      "2.49591946602 I a mane a the a the a the a de a the a the a mean\n",
      "2.34734535217 I man the a man the a man the a man the a man the \n",
      "2.45363211632 I man a man an the a man an the a man an the a man\n",
      "2.27681732178 I man an the an the an the an the an the an the an\n",
      "2.21557641029 I han the a preating is an the an the an the an th\n",
      "2.54346823692 I have to han to han to han to han to han to han t\n",
      "2.02418828011 Are a life is the is the is the is the is the is t\n",
      "1.48783445358 A life is the the a life is the a life a can the t\n",
      "1.98957574368 A life is the won the the the the the the the the \n",
      "2.15839290619 I wave the a wond be a wond be a wond be a wond be\n",
      "2.51713037491 I wom a be a be a be a be a be a bear the a be a b\n",
      "1.85681152344 I a love is a love is a love is a love is a love i\n",
      "2.16151309013 I mou mour a mour a mour a mour a mour a mour a mo\n",
      "1.95129430294 I man the a more is the a more is the a more is th\n",
      "2.46041083336 I love is the the the the the the the the the the \n",
      "1.77803993225 I love is the the the the the the the the the the \n",
      "1.98431897163 I love is a was a was a was a was a was a was a wa\n",
      "2.19072031975 I a was a was a was a was a was a was a was a was \n",
      "1.87425673008 I an a beart a beart a beart a beart a beart and a\n",
      "2.03518867493 I an a beart and and and and and and and and and a\n",
      "2.02848315239 I an a live is a love in the and in the and in the\n",
      "2.21050071716 I love in the my for my for my for my for my for m\n",
      "1.37116825581 I love is not the my for my for my for my for my f\n",
      "1.80406010151 I'm not to be to be the to be the to be the to be \n",
      "1.76815629005 I'm a wort a do a do a do a do a do a do a do a do\n",
      "1.94728136063 I work the a come a come a comes a comes a comes a\n",
      "2.43725061417 I a can is a can is a can is a can is a can is a c\n",
      "1.90226304531 I a can is a can is a can is a can is a can is a c\n",
      "1.8969322443 I have an a with a with a with a with a with a wit\n",
      "2.31558203697 I have and I have and I have and I have and I have\n",
      "1.6155397892 I wan the with the with the with the with the with\n",
      "2.07555961609 I want to be the to be the to be the to be the to \n",
      "1.80155098438 I want to be to be to be to be to be to be to be t\n",
      "1.22645676136 I was to be to be to be to be to be to be to be to\n",
      "2.20350837708 I don't do be the be the be the to be the to be th\n",
      "1.62137186527 I don't don't don't don't don't don't don't don't \n",
      "1.9093682766 There is a shore is a streater is a streater is a \n",
      "2.14558076859 There is a show is a show is a show a stread is a \n",
      "1.69496786594 I don't don't don't don't don't don't don't don't \n",
      "1.99269509315 I don't have the to be a porest a porest a pored.<eos>\n",
      "2.07033324242 I love the the the the the the the the the the the\n",
      "1.60282623768 I love the for a play.<eos>\n",
      "1.79436731339 I love the for a people and I don't have the for a\n",
      "2.28706216812 I don't have the the the the the the the the the t\n",
      "1.38013279438 I don't with with with with with with with a place\n",
      "1.49651277065 I don't with with with with with with with with th\n",
      "1.86314499378 I don't with the the the the the the the the the t\n",
      "2.03412723541 I don't the the the the the the the the the the th\n",
      "1.65423226357 I don't the the the seed the the the the the the t\n",
      "2.01305913925 I am a sind is a good is a good is a good is a goo\n",
      "1.75656986237 I am a sing a good of a good of a good of a good o\n",
      "2.24267745018 I am a seat who like the for who like the for who \n",
      "1.42456650734 I like the for who like the for who like the for w\n",
      "1.82390213013 I like the for like the for like the for like the \n",
      "1.76702940464 I like to be the perce compors a prom of like to b\n",
      "1.68150937557 I am a prot and a prot and and and and and and and\n",
      "1.63804936409 I am a partion of the my have to be and and and an\n",
      "1.79886364937 I have to be is no be and and and and and and and \n",
      "1.86547136307 I don't don't don't the have the have the have the\n",
      "1.64253008366 I was no be is a don't the was the was the was the\n",
      "1.65578472614 I was the stane is the stane is the was the stane.\n",
      "2.30932641029 I was the stane is the starting is the stane.<eos>\n",
      "1.79281818867 I love to be a good to be a good a good a good a g\n",
      "1.6780077219 I love to be a good a good a good a good a good a \n",
      "1.84671354294 I love a good a good a good a good a good a good a\n",
      "1.91967916489 I love a comple.<eos>\n",
      "1.75709581375 I love a complestant.<eos>\n",
      "2.21275186539 I like the real my like the real my like the real \n",
      "1.77954769135 I'm not a beater in the be a beater.<eos>\n",
      "1.31790685654 I'm not a beater in the be and be the be the be th\n",
      "1.96938323975 I was be what you was be what you was be what you \n",
      "2.24380207062 I was be what what what what what what what what w\n",
      "1.99959683418 I do and I do and I do and I do and I do and to be\n",
      "1.41034603119 I do a such a such a such.<eos>\n",
      "1.46627771854 I do a song the soul the soul the soul.<eos>\n",
      "1.52792024612 I do a song the soul the soul the soul the soul.<eos>\n",
      "1.84197890759 I like the soul the more the more the more the mor\n",
      "1.97011220455 I like the more the more the more the more the mor\n",
      "1.82328939438 I like to more my are my are my are my are my are \n",
      "1.39071774483 I like to me and to me and to me.<eos>\n",
      "1.46496069431 I live and be want to be want to be want to be wan\n",
      "1.77352523804 I like want be want be want be want be want be wan\n",
      "1.35185587406 I love be want to be want to be want to be want.<eos>\n",
      "2.21511769295 I have a can a can a come of the be a can do.<eos>\n",
      "1.82211840153 I have a can do not a can do not a can do.<eos>\n",
      "1.99560523033 I have a come a come of the more.<eos>\n",
      "1.34933960438 I am a do not a come the more.<eos>\n",
      "1.62495410442 I am a do not a more the more.<eos>\n",
      "1.42246520519 I am a more the more the more the more the more.<eos>\n",
      "1.60142683983 I was a go to be a go do not a got to be a got the\n",
      "1.87550973892 I was a with to be a got and I was a with to be a \n",
      "2.00294303894 I was a was a was a was a was a was a was a was a \n",
      "1.70527243614 I was a good the was a good the when I was a good \n",
      "1.58977484703 I was a like the what you good the what you good t\n",
      "1.5443944931 I like the be a like the what you can do and I can\n",
      "1.72233295441 I don't the believer to be a like the be a chally \n"
     ]
    },
    {
     "name": "stderr",
     "output_type": "stream",
     "text": [
      "\r",
      "  0%|          | 1/1000 [06:45<112:29:31, 405.38s/it]"
     ]
    },
    {
     "name": "stdout",
     "output_type": "stream",
     "text": [
      "1.70173752308 I don't the to be to be to be to be to be the be a\n",
      "1.55716586113 I don't the to be to be to be to be to be to be to\n",
      "2.39717912674 I don't the be a can of the be a can of the be a c\n",
      "2.24338364601 I don't the was a can a but the was a can a can a \n",
      "2.03453397751 I don't was a can and I am a can and I am a can an\n",
      "1.74268496037 I don't win should be a be an and I am a but a can\n",
      "1.62136113644 I don't have a be an one the passion of a good the\n",
      "1.6836540699 I'm a past and I am a good the people the people.<eos>\n",
      "1.73562204838 I'm a compassion is the people.<eos>\n",
      "1.65840530396 I'm a lot of the proment of the people the people \n",
      "1.94950246811 I don't like the work with life to be a lot of the\n",
      "1.26132106781 I don't like the work win with life.<eos>\n",
      "2.20607829094 I don't like the work win win win win win win win \n",
      "1.38567912579 I don't like to be a love being a lot of the work.\n",
      "1.56911301613 I don't the been bean being a work.<eos>\n",
      "1.75234496593 I don't the believe the beate the beate the believ\n",
      "1.94666755199 I don't the believe a good to be a good to be a go\n",
      "1.54106628895 I don't the hat I have a good to be a good to be a\n",
      "1.62305855751 I don't the didn't know the the the the the the th\n",
      "1.81927776337 I don't the dead to dead to dead to dead to dead t\n",
      "1.6791472435 I love to dead show to dead to do a good to show t\n",
      "1.69000017643 I am a sone to seed people in the soul.<eos>\n",
      "1.86295866966 I am a sone the sould a prossed of a prong to be t\n",
      "1.51620781422 I was a sone to be the be a soul.<eos>\n",
      "1.46963560581 I was be the be the be the be the be the be the be\n",
      "1.74356770515 I was a soul more one one one the more one one one\n",
      "1.43286883831 I am a sound of the for a find.<eos>\n",
      "1.62770926952 I am a lot of a many do a from a lot.<eos>\n",
      "1.9437032938 I am a lot of a lot of a lot.<eos>\n",
      "1.59673845768 I like the are a lot of a lot of a lot.<eos>\n",
      "1.67206788063 I love the love the change is the music.<eos>\n",
      "2.00555491447 I love the people a pressing is the prock.<eos>\n",
      "2.00247979164 I love the music is the music.<eos>\n",
      "1.43994367123 I am a prock on the music.<eos>\n",
      "1.91225850582 I am a prock of the music a pression.<eos>\n",
      "1.90897667408 I am a soul me no make my make my makes a make my \n",
      "1.61104643345 I am a soul the music a soul.<eos>\n",
      "1.80378055573 I am a soul the makes a success.<eos>\n",
      "1.85563182831 I am a success and and and and and and and and and\n",
      "1.44144558907 I am a soul the world and and and and and and and \n",
      "2.04690170288 I am a soul the world and and and and and and and \n",
      "1.93017315865 I'm a born and a big a part and a part.<eos>\n",
      "1.76624119282 I'm a born and a part and a part and a part.<eos>\n",
      "1.66342115402 I'm a part and a perting a person.<eos>\n",
      "1.89154946804 I'm a TV life.<eos>\n",
      "1.58638691902 I love the get the stay for the stay for the stay.\n",
      "1.82579028606 I love the stant to deather the stay for my life.<eos>\n",
      "1.70638203621 I love the end of life the stant to desing an an a\n",
      "1.88250744343 I love the end of a person.<eos>\n",
      "1.19014275074 I am a get an an an an an an an an an an an an an \n",
      "1.95776116848 I am a get an an an an an an an an an an an an an \n",
      "2.00811362267 I am a get an and be a being and I am a get to be \n",
      "1.25420188904 I want to be a get and hard to be a get to be a ge\n",
      "1.23857343197 I have a get a get to be a get to be a get to be a\n",
      "1.70087063313 I have a get a get to be faith the some.<eos>\n",
      "1.9312980175 I have a get the some the some.<eos>\n",
      "1.79963648319 I like a good of the shoot of the some.<eos>\n",
      "1.71809971333 I like a good of the some to be a stant to be a st\n",
      "1.29898107052 I don't like a be a start of the some to be a star\n",
      "1.83030700684 I don't desing a don't be a deather a destent to b\n",
      "1.54488575459 I don't deep is a be a deather in Brook.<eos>\n",
      "1.79744374752 I don't was a deather will in Brourt is to be a de\n",
      "1.81212198734 I don't was a deather when I was a was a was a was\n",
      "1.54737043381 I was the when I was a was a was a was a was a was\n",
      "1.48028492928 I don't was a part of the good the who who the who\n",
      "1.4751073122 I don't was a part of the good the see the good th\n",
      "1.6963173151 I don't was a long the soul for makes an out and I\n",
      "1.66550815105 I don't love to do not and and and and and and and\n",
      "1.61929810047 I don't always and and and and and and and and and\n",
      "2.08614587784 I don't contry and and and and and and and and and\n",
      "1.48878133297 I don't want to be a bad and be and and and and an\n",
      "1.71314692497 I like the so live.<eos>\n",
      "1.38068711758 I live the so live the so live the so live the so \n",
      "1.74092841148 I live the so live the so live the so live the so \n",
      "1.803794384 I live the short a change to move you move to man.\n",
      "1.55623745918 I live the play to good to man is not a work to ma\n",
      "1.96508049965 I love to have a more to man is not a work my want\n",
      "1.53678894043 I live and I was a work and a change and with a wo\n",
      "1.74859678745 I live and a chole and a change are and a distron.\n",
      "1.80944824219 I don't want to be a distron't a differ.<eos>\n",
      "1.58691751957 I don't want to be a distron't a differ.<eos>\n",
      "1.76597964764 I don't want to be discorter to be discont.<eos>\n",
      "1.16748464108 I don't want to be do a do a do a do a do a do a d\n",
      "2.6353020668 I love the some the state is a comple is a comple.\n",
      "1.54288363457 I love the some the some the some the some the for\n",
      "1.86583042145 I have a contrating is a contration.<eos>\n",
      "1.84783446789 I have a bad any things the some.<eos>\n",
      "1.3399477005 I have a bad a contration.<eos>\n",
      "2.24669146538 I have a man is a make a make a man.<eos>\n",
      "2.08437609673 I was a some the world what I was a passing and a \n",
      "1.43787503242 I was a passing and a passing and a passing and a \n",
      "1.35326206684 I love the best to be a best to be a best to be a \n",
      "1.60587620735 I love to be a past to be a past.<eos>\n",
      "1.71133935452 I love is a past.<eos>\n",
      "0.894383251667 I was a past the be a past.<eos>\n",
      "1.8359413147 I want to be a past.<eos>\n",
      "1.28196454048 I want to be a man is a past.<eos>\n",
      "1.59082829952 I want to be a man is the more the more the more t\n",
      "1.86447775364 I want to be for my man in my man in my man in my \n",
      "1.36115479469 I have a preation of the have a preation of the ha\n",
      "2.06282711029 I love to be a preation of the beging.<eos>\n",
      "1.91931056976 I love to be a prower.<eos>\n",
      "2.37466931343 I like to be a prower.<eos>\n",
      "1.47093653679 I like to be a passion a life.<eos>\n",
      "1.97067546844 I am a life is a love any happiness.<eos>\n",
      "2.03932070732 I am a prows are the are the prood to be a prows.<eos>\n",
      "1.59391438961 I am a man is a prows are the man.<eos>\n",
      "1.90595185757 I am a man is a man is a man is a man in my man in\n",
      "1.76568889618 I am a man is a man is a man is a man in my man in\n",
      "1.6570161581 I am not a big to be a man.<eos>\n",
      "1.56249332428 I am not a big to be a child.<eos>\n",
      "2.03174853325 I am not a big to be a big to be a big to be a big\n",
      "1.74137544632 I have a big the sportance of the sportant.<eos>\n",
      "2.4019908905 I am a bit of free.<eos>\n"
     ]
    },
    {
     "name": "stderr",
     "output_type": "stream",
     "text": [
      "\r",
      "  0%|          | 2/1000 [13:18<110:42:43, 399.36s/it]"
     ]
    },
    {
     "name": "stdout",
     "output_type": "stream",
     "text": [
      "1.83954203129 I am a spart of pretty is a show I have a such of \n",
      "1.66697144508 I am a spart of pretty.<eos>\n",
      "1.71996068954 I am a spart a spart a girl.<eos>\n",
      "2.02933597565 I am a spart a will with a spart.<eos>\n",
      "1.68651163578 I am a will with a will with a woman.<eos>\n",
      "1.45513689518 I am a work and I want to make to many.<eos>\n",
      "1.48870933056 I like to the world it in the world.<eos>\n",
      "1.68888878822 I love to the to to to to to to to to to to to to \n",
      "1.53022217751 I love the good to the to do.<eos>\n",
      "1.19624865055 I don't have the the the the the the the the the t\n",
      "1.61190164089 I don't have a people and I don't have the really.\n",
      "1.28155219555 I don't have a started the really the really.<eos>\n",
      "1.26655471325 I don't have a started to day a star.<eos>\n",
      "1.25089943409 I don't have a past a past a past a part and a suc\n",
      "1.41307806969 I don't have a past and a paint of a big the only \n",
      "1.41937398911 I love and be a pasing and be and be a more.<eos>\n",
      "1.89218664169 I love to be a more to be a more.<eos>\n",
      "1.19553530216 I love to be happy to be a more.<eos>\n",
      "1.6198887825 I love the more the more the more the more the mor\n",
      "1.79183840752 I love the people in the can be a comes.<eos>\n",
      "1.7053078413 I love the prople the prople the prople.<eos>\n",
      "1.32997536659 I like the seed to be a part like a lot of life.<eos>\n",
      "1.01223611832 I like the sone and I like a beauty in a life.<eos>\n",
      "1.39724242687 I like the song a be a big the song a beauty in a \n",
      "1.54384028912 I don't don't be the song to be a big to be a big \n",
      "2.1207575798 I don't be the truth a big to be a big to be a boo\n",
      "1.1218072176 I think a big to be a movers a movier.<eos>\n",
      "1.59815454483 I want to be a good to be a movies.<eos>\n",
      "1.3849490881 I want to be a good the good the good the moves.<eos>\n",
      "1.78715097904 I want to be a good the good the world.<eos>\n",
      "1.59218358994 I have a comple is not a pretty complation.<eos>\n",
      "1.33791792393 I was a pretty good fasted to be a pretty is a pre\n",
      "1.84044992924 I am a pretty a born for get of the first.<eos>\n",
      "1.07866227627 I am a lot of a player for for for for for for for\n",
      "1.36323106289 I love and I am a life.<eos>\n",
      "2.28476047516 I love the soul the sork life.<eos>\n",
      "1.49855554104 I like the soul the sick the soul.<eos>\n",
      "1.81200039387 I like the sick the more the more the more the mor\n",
      "1.73715221882 I don't like the more the more the more the more t\n",
      "1.68131864071 I don't like the more the more the more the more t\n",
      "1.88098287582 I am a presies an and and and and and and and and \n",
      "1.39249455929 I am a play and a comes are and and and and and an\n",
      "1.77360439301 I am a play and a control.<eos>\n",
      "1.77415919304 I am a play is a presider.<eos>\n",
      "1.85727846622 I like to be a presign.<eos>\n",
      "1.68735206127 I like to be a part.<eos>\n",
      "1.61405336857 I like to be a child I was be be be be be be be be\n",
      "1.44862639904 I'm a big be up of the best really.<eos>\n",
      "1.80133163929 I'm a big the find the best the sing.<eos>\n",
      "1.57146203518 I like to be a strage.<eos>\n",
      "2.20445919037 I like to love to love to love to love to love to \n",
      "1.8894149065 I like to love to love to love to love to love to \n",
      "2.25642418861 I want to be a so love to love to love to love to \n",
      "2.05608868599 I want to be a good to me.<eos>\n",
      "2.08431982994 I want to me is a good to me.<eos>\n",
      "1.12762880325 I was a good to me is the most the most the most t\n",
      "1.84591507912 I have a good to me is the most the some.<eos>\n",
      "1.73690080643 I have a good to be a good to be the some.<eos>\n",
      "1.88754320145 I have a good to be a TV are a TV.<eos>\n",
      "1.9363168478 I am a good to a passion.<eos>\n",
      "1.3067637682 I am a part of a TV a passion.<eos>\n",
      "1.43862497807 I do be a TV a part of a prock of a prock of a pro\n",
      "1.88673007488 I do be life is a prock to do.<eos>\n",
      "1.48793709278 I don't do work do what I do way to do.<eos>\n",
      "1.77191483974 I don't live in life.<eos>\n",
      "1.50435936451 I love the loness the something is the some.<eos>\n",
      "1.7449297905 I love the something is the some.<eos>\n",
      "1.39686000347 I love the something to be love the some.<eos>\n",
      "2.44195985794 I love the art than a good the art of the art than\n",
      "1.95054674149 I am a good the art a good a good the art a good a\n",
      "1.49761521816 I am a good a lot and I am a good a lot and I am a\n",
      "2.45073008537 I am all I good a lot and I am a good and I am a g\n",
      "1.30942726135 I have all I get $50 more all I was a lot and I wa\n",
      "1.7191464901 I was a love in the some the some.<eos>\n",
      "1.45877575874 I was a like in the seed of the seets who we hell \n",
      "1.90566205978 I was a some the seets an and I was 11 knowledge i\n",
      "1.42659246922 I was a some the parity is not the seets who was a\n",
      "1.60165190697 I don't a some to be a part.<eos>\n",
      "1.24398386478 I don't a bad a start to be a some.<eos>\n",
      "1.68087017536 I don't don't a bad a bad a bad a bad a start.<eos>\n",
      "1.27343964577 I don't can't be really a bad a bad a bad a be.<eos>\n",
      "1.47251904011 I don't complay is the more the best the complain.\n",
      "1.86180520058 I am a beginess.<eos>\n",
      "1.11039161682 I like the more the more the more the more the mor\n",
      "1.37734925747 I like to be a man is the more the more the more t\n",
      "1.93931758404 I like to be a man in a good a like to be a being \n",
      "1.55962872505 I like to be a man in a being a being a being a be\n",
      "1.46405375004 I am a being a being a being a being a being a bei\n",
      "1.6708086729 I am a being any don't have a bear and I am.<eos>\n",
      "1.36964190006 I don't like to be a minutes.<eos>\n",
      "1.54841375351 I don't the time to be a big a bear and I am.<eos>\n",
      "1.43065261841 I don't tell the more the series a big to be a com\n",
      "1.95731627941 I don't the time to be a comportal.<eos>\n",
      "1.53425562382 I don't can be a comportal to be a comportal.<eos>\n",
      "1.45697283745 I didn't can be a controm it is not a controm.<eos>\n",
      "2.37804722786 I don't like to do not a controm.<eos>\n",
      "1.46940016747 I don't have a good a contraity.<eos>\n",
      "1.32142221928 I don't have a good a not a song one the song one \n",
      "1.62350344658 I like to be a little.<eos>\n",
      "1.56195092201 I love the best no much of the sex.<eos>\n",
      "1.43953585625 I have a feel one the fan.<eos>\n",
      "1.10133862495 I have a feel of the fan.<eos>\n",
      "1.80347132683 I don't have a some to be a contraction.<eos>\n",
      "1.60731554031 I am success are and are and are and are and are a\n",
      "1.72220134735 I am a competition.<eos>\n",
      "1.44789338112 I am a woman be and world.<eos>\n",
      "2.27281451225 I am a wisn't be and world.<eos>\n",
      "1.59984719753 I am a complet.<eos>\n",
      "1.67082107067 I am a consent the world.<eos>\n",
      "1.27084684372 I love the wise in the best the best the best the \n",
      "1.32431864738 I love the people in the sexisted is the sex.<eos>\n",
      "1.34451806545 I love the man is the more life.<eos>\n",
      "1.55079078674 I love the money is the more life.<eos>\n",
      "1.25890851021 I love the money a life is a good to be a life.<eos>\n"
     ]
    },
    {
     "name": "stderr",
     "output_type": "stream",
     "text": [
      "\r",
      "  0%|          | 3/1000 [19:41<109:06:53, 394.00s/it]"
     ]
    },
    {
     "name": "stdout",
     "output_type": "stream",
     "text": [
      "1.06891560555 I love a good to love a life I love a good to be a\n",
      "1.76630175114 I love a good to be a moration.<eos>\n",
      "1.87262141705 I like to love a man is a good to be.<eos>\n",
      "1.48143053055 I like a great a contry it.<eos>\n",
      "1.32732176781 I like a controm a contry.<eos>\n",
      "1.77999138832 I like a contry in the best the best.<eos>\n",
      "1.46744310856 I am a contry in the best the best the best the be\n",
      "1.41868627071 I don't want to be a pretty in the best the best t\n",
      "1.41373586655 I don't want to be a pret to be a preced.<eos>\n",
      "1.09394323826 I don't want to be a pretty controm to be a part.<eos>\n",
      "1.52953767776 I don't want to be a preced up to be a part.<eos>\n",
      "1.79872512817 I want to be a precenture to be a passion.<eos>\n",
      "1.36779868603 I don't want to be a precenture.<eos>\n",
      "1.44829940796 I don't know I'm a will find of the best.<eos>\n",
      "1.16985845566 I am a fine for find of for for for 10 you can.<eos>\n",
      "1.50307369232 I am a fine for for 10 you can.<eos>\n",
      "1.44662821293 I am a big for the best is a proble.<eos>\n",
      "1.18429517746 I am a big for the best the probles are the best.<eos>\n",
      "1.34770619869 I am a strage the simple.<eos>\n",
      "1.69287240505 I was the probles are the proble is the proder to \n",
      "1.76155221462 I was a strage and not a straight.<eos>\n",
      "1.14225554466 I was a stragesting and be a straight.<eos>\n",
      "1.92326402664 I was a strage is a straight.<eos>\n",
      "1.39587163925 I don't want to be a success.<eos>\n",
      "1.73569047451 I don't always to be a success.<eos>\n",
      "1.61988222599 I love to be a great my life.<eos>\n",
      "1.69323825836 I like the fan of the fan.<eos>\n",
      "1.83683729172 I like the fan of the fan.<eos>\n",
      "1.28404915333 I have a huge the fan of factics and fate fate.<eos>\n",
      "1.82734119892 I have a hor heart for the fear the work.<eos>\n",
      "1.68082940578 I want to be a more who want to be fear the work.<eos>\n",
      "1.04211997986 I want to be a so maker believe.<eos>\n",
      "1.14013957977 I like to be a comportance.<eos>\n",
      "1.34227263927 I like to be a stark.<eos>\n",
      "1.78330171108 I like to be a stark.<eos>\n",
      "1.95648038387 I like the start to be a star.<eos>\n",
      "1.36045336723 I like the sing of the state.<eos>\n",
      "1.57249605656 I am a sing of the sing of the sing.<eos>\n",
      "1.57742667198 I like the sing of the sing of the sing.<eos>\n",
      "1.64578962326 I like the most prove it of my life is a sing.<eos>\n",
      "1.41435015202 I don't like the most prove being a proud.<eos>\n",
      "1.42404794693 I love the most proved bood.<eos>\n",
      "1.59385561943 I love the fan of my friend.<eos>\n",
      "1.38130664825 I love the to the fan of the fan.<eos>\n",
      "1.58542227745 I love the to the fan of the fan.<eos>\n",
      "1.44486904144 I love the fast to love the fast.<eos>\n",
      "1.85237765312 I love the fast and I am a lot a fan.<eos>\n",
      "1.19755291939 I love the fate all in a sex.<eos>\n",
      "1.74679851532 I like the fate is a straight.<eos>\n",
      "1.34818065166 I want to be a sing of a sing.<eos>\n",
      "1.03643453121 I want to be a big not an action.<eos>\n",
      "1.39384973049 I want to be a child I want to be a child I want t\n",
      "1.59873199463 I want to be a child I don't believe to be anythin\n",
      "1.81339335442 I want to be a child Juracter.<eos>\n",
      "1.45736062527 I want to be a compleater to be a child Juracter.<eos>\n",
      "1.6024980545 I like to be a completing of the fear.<eos>\n",
      "1.70681381226 I like to do so like to be a comple.<eos>\n",
      "1.61025071144 I like the famoral life is a part.<eos>\n",
      "1.32586228848 I like the people and I love the fash.<eos>\n",
      "1.31390023232 I love that I am a was a part.<eos>\n",
      "1.39884209633 I love that I am a was a way.<eos>\n",
      "2.09403538704 I have a part of a compart.<eos>\n",
      "1.5361301899 I have a bad acting of my life.<eos>\n",
      "1.53143548965 I have a beauty of the work be a big to be a chara\n",
      "1.61352622509 I can't be the work be a child I am.<eos>\n",
      "1.52685844898 I can't be the work be a child I am.<eos>\n",
      "1.64269578457 I can't be the work be a child I am.<eos>\n",
      "1.53654289246 I was a child any fine to the start.<eos>\n",
      "2.40011739731 I was a clow and I am a play and words.<eos>\n",
      "1.52613592148 I am a play and I am a play and I am.<eos>\n",
      "1.25152111053 I am a play and I am a play and I am.<eos>\n",
      "1.550765872 I am a pain and I'm a saver.<eos>\n",
      "1.06822860241 I have a lot of a pais for may be a play of a lot \n",
      "1.93317055702 I have a lot of a lot of a lot of a lot of a lot o\n",
      "1.38618910313 I have a good of the more the forted the more the \n",
      "1.39098358154 I don't have a genter that I am the more the more \n",
      "1.31365931034 I don't like the more the reading the most the die\n",
      "1.39289224148 I don't don't like the see the die go than on out \n",
      "2.27020049095 I don't like a did to be a lot of the die.<eos>\n",
      "1.44483697414 I like a good well anything.<eos>\n",
      "1.38711547852 I like an art an art anything.<eos>\n",
      "1.98682117462 I like an are anything.<eos>\n",
      "1.53844022751 I like anything is a lot anything.<eos>\n",
      "1.53341388702 I like anything is a sex.<eos>\n",
      "1.69878673553 I like the born stered.<eos>\n",
      "1.68228304386 I have to be a made is the born.<eos>\n",
      "1.40025377274 I have to be a big and the best.<eos>\n",
      "1.11338758469 I have to be a TV and the best.<eos>\n",
      "1.63467228413 I'm a TV and the best a friend.<eos>\n",
      "1.59027194977 I'm a TV and God when I'm not a feel.<eos>\n",
      "1.44734370708 I'm not a lot of a lot of people.<eos>\n",
      "2.69721293449 I love the sent the sundies the life.<eos>\n",
      "1.74364542961 I love to love to love the silent to be a lot of l\n",
      "1.37649989128 I love to love to love to love to love to love to \n",
      "1.70548021793 I love to be a great my faith.<eos>\n",
      "1.56211054325 I love to be a by a bad a bad a bad a bad a bad a \n",
      "2.03000473976 I am a borth a bad a bad a bad a bad a bad a bad a\n",
      "1.45619690418 I am a borth a contronger the art a conting a bad \n",
      "1.45260834694 I can be a borth a contront the sure the surcentic\n",
      "2.22340965271 I can't be a borth a controled to be a Day.<eos>\n",
      "1.33671855927 I love the sure the surced to be a Day.<eos>\n",
      "1.81521546841 I love the sure the success.<eos>\n",
      "1.99469792843 I do not a passion is a past to do way.<eos>\n",
      "1.84896206856 I do not a passion is a passion.<eos>\n",
      "1.85500454903 I love the dead in When I do not always go of anyt\n",
      "1.30001008511 I love the disciple.<eos>\n",
      "1.85358798504 I love the best in the best a dificure.<eos>\n",
      "1.61395394802 I love the person is the pretty of the person.<eos>\n",
      "1.85059273243 I love the pretsion is the pretty of the pretty of\n",
      "1.65257251263 I love to be a man's a man's a man's a man's a man\n",
      "2.17687249184 I love the song to contron the pretty of a man.<eos>\n",
      "1.41182112694 I love the song the song of a man's a man.<eos>\n",
      "2.06702446938 I love and I am a man in the song of a man.<eos>\n",
      "1.46538615227 I don't like a day.<eos>\n"
     ]
    },
    {
     "name": "stderr",
     "output_type": "stream",
     "text": [
      "\r",
      "  0%|          | 4/1000 [26:26<109:42:48, 396.55s/it]"
     ]
    },
    {
     "name": "stdout",
     "output_type": "stream",
     "text": [
      "1.37567424774 I don't like a good a good of a good.<eos>\n",
      "1.63630628586 I don't like a good only life.<eos>\n",
      "1.18670475483 I don't like the difer.<eos>\n",
      "1.34119081497 I don't had the good that I do not the diferact.<eos>\n",
      "1.38792729378 I don't have to be a great to be a great to be a g\n",
      "1.55357587337 I do not to be a great to be a great to be a great\n",
      "1.70382714272 I do not to be a great to me a great art as all.<eos>\n",
      "1.52494931221 I was a people art as a part.<eos>\n",
      "2.01821327209 I want to man is a part and to be a part.<eos>\n",
      "1.39450883865 I want to man is a part.<eos>\n",
      "1.31354367733 I want to me a part.<eos>\n",
      "1.05456376076 I have a work for the man in the speed.<eos>\n",
      "1.48802018166 I have a chect of my favories.<eos>\n",
      "1.28335487843 I love to do on the speed of the sparing.<eos>\n",
      "1.54272842407 I love to do on the speed of the sparine.<eos>\n",
      "1.26598274708 I love the spart of the spart.<eos>\n",
      "1.2396235466 I love the spare a die the girls and I am a passio\n",
      "1.52764976025 I love the part of a great and I am a passion.<eos>\n",
      "1.87260532379 I like the part and the passion.<eos>\n",
      "1.18758332729 I like to be a passion.<eos>\n",
      "1.41978180408 I like to be a part.<eos>\n",
      "1.6228313446 I love to make a part anything.<eos>\n",
      "1.33840167522 I love to be from for the world.<eos>\n",
      "1.60350680351 I love to the world a lot of the world.<eos>\n",
      "2.07258987427 I love to the some the world.<eos>\n",
      "1.24563455582 I love to be a good to be a lot of the girl.<eos>\n",
      "1.30562782288 I don't have a lot of a good.<eos>\n",
      "1.39447796345 I don't have a good the some of the soul.<eos>\n",
      "1.7859493494 I don't have a good a good a good a good a good a \n",
      "1.38803803921 I don't have a but I don't have a good a good a gr\n",
      "1.40638649464 I don't have a but a but a but a but a but a but a\n",
      "2.12066960335 I don't was a but a but a but a but a but a but a \n",
      "1.39470744133 I don't was a bad a but a big a but a but a but a \n",
      "1.38718700409 I like to be really want to be really want to be r\n",
      "1.68381917477 I live in the world you want to be real.<eos>\n"
     ]
    },
    {
     "name": "stderr",
     "output_type": "stream",
     "text": [
      "\n"
     ]
    },
    {
     "ename": "KeyboardInterrupt",
     "evalue": "",
     "output_type": "error",
     "traceback": [
      "\u001b[0;31m---------------------------------------------------------------------------\u001b[0m",
      "\u001b[0;31mKeyboardInterrupt\u001b[0m                         Traceback (most recent call last)",
      "\u001b[0;32m<ipython-input-118-bf0928de49cd>\u001b[0m in \u001b[0;36m<module>\u001b[0;34m()\u001b[0m\n\u001b[1;32m      7\u001b[0m         \u001b[0mprediction\u001b[0m \u001b[0;34m=\u001b[0m \u001b[0moracle\u001b[0m\u001b[0;34m(\u001b[0m\u001b[0mbatch\u001b[0m\u001b[0;34m)\u001b[0m\u001b[0;34m\u001b[0m\u001b[0m\n\u001b[1;32m      8\u001b[0m         \u001b[0mloss\u001b[0m \u001b[0;34m=\u001b[0m \u001b[0mcriterion\u001b[0m\u001b[0;34m(\u001b[0m\u001b[0mprediction\u001b[0m\u001b[0;34m,\u001b[0m \u001b[0mtarget\u001b[0m\u001b[0;34m)\u001b[0m\u001b[0;34m\u001b[0m\u001b[0m\n\u001b[0;32m----> 9\u001b[0;31m         \u001b[0mloss\u001b[0m\u001b[0;34m.\u001b[0m\u001b[0mbackward\u001b[0m\u001b[0;34m(\u001b[0m\u001b[0;34m)\u001b[0m\u001b[0;34m\u001b[0m\u001b[0m\n\u001b[0m\u001b[1;32m     10\u001b[0m         \u001b[0;32mif\u001b[0m \u001b[0mi\u001b[0m\u001b[0;34m%\u001b[0m\u001b[0;36m32\u001b[0m \u001b[0;34m==\u001b[0m \u001b[0;36m0\u001b[0m\u001b[0;34m:\u001b[0m \u001b[0;31m# aka batch\u001b[0m\u001b[0;34m\u001b[0m\u001b[0m\n\u001b[1;32m     11\u001b[0m             \u001b[0moptimizer\u001b[0m\u001b[0;34m.\u001b[0m\u001b[0mstep\u001b[0m\u001b[0;34m(\u001b[0m\u001b[0;34m)\u001b[0m\u001b[0;34m\u001b[0m\u001b[0m\n",
      "\u001b[0;32m/Users/igor/anaconda/lib/python2.7/site-packages/torch/autograd/variable.pyc\u001b[0m in \u001b[0;36mbackward\u001b[0;34m(self, gradient, retain_graph, create_graph, retain_variables)\u001b[0m\n\u001b[1;32m    154\u001b[0m                 \u001b[0mVariable\u001b[0m\u001b[0;34m.\u001b[0m\u001b[0;34m\u001b[0m\u001b[0m\n\u001b[1;32m    155\u001b[0m         \"\"\"\n\u001b[0;32m--> 156\u001b[0;31m         \u001b[0mtorch\u001b[0m\u001b[0;34m.\u001b[0m\u001b[0mautograd\u001b[0m\u001b[0;34m.\u001b[0m\u001b[0mbackward\u001b[0m\u001b[0;34m(\u001b[0m\u001b[0mself\u001b[0m\u001b[0;34m,\u001b[0m \u001b[0mgradient\u001b[0m\u001b[0;34m,\u001b[0m \u001b[0mretain_graph\u001b[0m\u001b[0;34m,\u001b[0m \u001b[0mcreate_graph\u001b[0m\u001b[0;34m,\u001b[0m \u001b[0mretain_variables\u001b[0m\u001b[0;34m)\u001b[0m\u001b[0;34m\u001b[0m\u001b[0m\n\u001b[0m\u001b[1;32m    157\u001b[0m \u001b[0;34m\u001b[0m\u001b[0m\n\u001b[1;32m    158\u001b[0m     \u001b[0;32mdef\u001b[0m \u001b[0mregister_hook\u001b[0m\u001b[0;34m(\u001b[0m\u001b[0mself\u001b[0m\u001b[0;34m,\u001b[0m \u001b[0mhook\u001b[0m\u001b[0;34m)\u001b[0m\u001b[0;34m:\u001b[0m\u001b[0;34m\u001b[0m\u001b[0m\n",
      "\u001b[0;32m/Users/igor/anaconda/lib/python2.7/site-packages/torch/autograd/__init__.pyc\u001b[0m in \u001b[0;36mbackward\u001b[0;34m(variables, grad_variables, retain_graph, create_graph, retain_variables)\u001b[0m\n\u001b[1;32m     96\u001b[0m \u001b[0;34m\u001b[0m\u001b[0m\n\u001b[1;32m     97\u001b[0m     Variable._execution_engine.run_backward(\n\u001b[0;32m---> 98\u001b[0;31m         variables, grad_variables, retain_graph)\n\u001b[0m\u001b[1;32m     99\u001b[0m \u001b[0;34m\u001b[0m\u001b[0m\n\u001b[1;32m    100\u001b[0m \u001b[0;34m\u001b[0m\u001b[0m\n",
      "\u001b[0;31mKeyboardInterrupt\u001b[0m: "
     ]
    }
   ],
   "source": [
    "for epoch in tqdm.tqdm(xrange(1000)):\n",
    "    bar = progressbar.ProgressBar()\n",
    "    \n",
    "    for i, (batch, target) in enumerate(dataloader):\n",
    "        batch = Variable(batch)\n",
    "        target = Variable(target, requires_grad=False)[0]\n",
    "        prediction = oracle(batch)\n",
    "        loss = criterion(prediction, target)\n",
    "        loss.backward()\n",
    "        if i%32 == 0: # aka batch\n",
    "            optimizer.step()\n",
    "            oracle.zero_grad()\n",
    "            losses.append(loss.data[0])\n",
    "            print loss.data[0], oracle.generate(vocab)"
   ]
  },
  {
   "cell_type": "code",
   "execution_count": 119,
   "metadata": {
    "collapsed": false
   },
   "outputs": [
    {
     "data": {
      "text/plain": [
       "'I live in the world you want to be real.<eos>'"
      ]
     },
     "execution_count": 119,
     "metadata": {},
     "output_type": "execute_result"
    }
   ],
   "source": [
    "oracle.generate(vocab)"
   ]
  },
  {
   "cell_type": "code",
   "execution_count": 137,
   "metadata": {
    "collapsed": false
   },
   "outputs": [],
   "source": [
    "a = Vocabulary([''])"
   ]
  },
  {
   "cell_type": "code",
   "execution_count": 138,
   "metadata": {
    "collapsed": false
   },
   "outputs": [
    {
     "ename": "KeyError",
     "evalue": "51",
     "output_type": "error",
     "traceback": [
      "\u001b[0;31m---------------------------------------------------------------------------\u001b[0m",
      "\u001b[0;31mKeyError\u001b[0m                                  Traceback (most recent call last)",
      "\u001b[0;32m<ipython-input-138-205f9b91ea12>\u001b[0m in \u001b[0;36m<module>\u001b[0;34m()\u001b[0m\n\u001b[0;32m----> 1\u001b[0;31m \u001b[0moracle\u001b[0m\u001b[0;34m.\u001b[0m\u001b[0mgenerate\u001b[0m\u001b[0;34m(\u001b[0m\u001b[0ma\u001b[0m\u001b[0;34m)\u001b[0m\u001b[0;34m\u001b[0m\u001b[0m\n\u001b[0m",
      "\u001b[0;32m<ipython-input-113-4dc1b20dbf0a>\u001b[0m in \u001b[0;36mgenerate\u001b[0;34m(self, vocab, max_len)\u001b[0m\n\u001b[1;32m     27\u001b[0m             \u001b[0mclasses\u001b[0m \u001b[0;34m=\u001b[0m \u001b[0mself\u001b[0m\u001b[0;34m.\u001b[0m\u001b[0mclassifier\u001b[0m\u001b[0;34m(\u001b[0m\u001b[0moutput\u001b[0m\u001b[0;34m[\u001b[0m\u001b[0;36m0\u001b[0m\u001b[0;34m]\u001b[0m\u001b[0;34m)\u001b[0m\u001b[0;34m\u001b[0m\u001b[0m\n\u001b[1;32m     28\u001b[0m             \u001b[0mnew_token_id\u001b[0m \u001b[0;34m=\u001b[0m \u001b[0mnp\u001b[0m\u001b[0;34m.\u001b[0m\u001b[0margmax\u001b[0m\u001b[0;34m(\u001b[0m\u001b[0mclasses\u001b[0m\u001b[0;34m.\u001b[0m\u001b[0mdata\u001b[0m\u001b[0;34m.\u001b[0m\u001b[0mnumpy\u001b[0m\u001b[0;34m(\u001b[0m\u001b[0;34m)\u001b[0m\u001b[0;34m)\u001b[0m\u001b[0;34m\u001b[0m\u001b[0m\n\u001b[0;32m---> 29\u001b[0;31m             \u001b[0mcurrent_token\u001b[0m \u001b[0;34m=\u001b[0m \u001b[0mvocab\u001b[0m\u001b[0;34m.\u001b[0m\u001b[0mid_to_char\u001b[0m\u001b[0;34m[\u001b[0m\u001b[0mnew_token_id\u001b[0m\u001b[0;34m]\u001b[0m\u001b[0;34m\u001b[0m\u001b[0m\n\u001b[0m\u001b[1;32m     30\u001b[0m             \u001b[0mline\u001b[0m \u001b[0;34m=\u001b[0m \u001b[0mline\u001b[0m \u001b[0;34m+\u001b[0m \u001b[0mcurrent_token\u001b[0m\u001b[0;34m\u001b[0m\u001b[0m\n\u001b[1;32m     31\u001b[0m         \u001b[0;32mreturn\u001b[0m \u001b[0mline\u001b[0m\u001b[0;34m\u001b[0m\u001b[0m\n",
      "\u001b[0;31mKeyError\u001b[0m: 51"
     ]
    }
   ],
   "source": [
    "oracle.generate(a)"
   ]
  },
  {
   "cell_type": "markdown",
   "metadata": {},
   "source": [
    "### Часть 4: оценивание модели"
   ]
  },
  {
   "cell_type": "markdown",
   "metadata": {},
   "source": [
    "<i> Приведите примеры сгенерированных предложений </i>"
   ]
  },
  {
   "cell_type": "code",
   "execution_count": 122,
   "metadata": {
    "collapsed": false
   },
   "outputs": [
    {
     "data": {
      "text/plain": [
       "[<matplotlib.lines.Line2D at 0x10f1f3310>]"
      ]
     },
     "execution_count": 122,
     "metadata": {},
     "output_type": "execute_result"
    },
    {
     "data": {
      "image/png": "[encoded data removed]",
      "text/plain": [
       "<matplotlib.figure.Figure at 0x10f6dccd0>"
      ]
     },
     "metadata": {},
     "output_type": "display_data"
    }
   ],
   "source": [
    "plt.plot(losses)"
   ]
  },
  {
   "cell_type": "markdown",
   "metadata": {},
   "source": [
    "#### Feedback (опционально)"
   ]
  },
  {
   "cell_type": "markdown",
   "metadata": {},
   "source": [
    "Здесь вы можете оставить список опечаток из лекции или семинара:"
   ]
  },
  {
   "cell_type": "raw",
   "metadata": {},
   "source": []
  },
  {
   "cell_type": "markdown",
   "metadata": {},
   "source": [
    "Здесь вы можете оставить комментарии по лекции или семинару:"
   ]
  },
  {
   "cell_type": "raw",
   "metadata": {},
   "source": []
  }
 ],
 "metadata": {
  "kernelspec": {
   "display_name": "Python 2",
   "language": "python",
   "name": "python2"
  },
  "language_info": {
   "codemirror_mode": {
    "name": "ipython",
    "version": 2
   },
   "file_extension": ".py",
   "mimetype": "text/x-python",
   "name": "python",
   "nbconvert_exporter": "python",
   "pygments_lexer": "ipython2",
   "version": "2.7.13"
  },
  "latex_envs": {
   "bibliofile": "biblio.bib",
   "cite_by": "apalike",
   "current_citInitial": 1,
   "eqLabelWithNumbers": true,
   "eqNumInitial": 0
  }
 },
 "nbformat": 4,
 "nbformat_minor": 1
}
