{
 "cells": [
  {
   "cell_type": "markdown",
   "metadata": {},
   "source": [
    "## Семинар 2 \"Распознавание рукописных цифр\""
   ]
  },
  {
   "cell_type": "markdown",
   "metadata": {},
   "source": [
    "ФИО: Галицкий Игорь Олегович"
   ]
  },
  {
   "cell_type": "markdown",
   "metadata": {},
   "source": [
    "В этом задании мы используем нейронную сеть из предыдущего семинара для распознавания рукописных цифр. Также мы исследуем как влияет выбор нелинейности и предобработка данных на качество классификации. \n",
    "\n",
    "Чтобы не тратить время на подготовку данных, мы прилагаем готовый код с примером использования для получения обучающей и тестовой выборок. Для запуска скрипта вам понадобится библиотека PyTorch (инструкции по установке можно найти на сайте <a href=\"http://pytorch.org\">pytorch.org</a>)"
   ]
  },
  {
   "cell_type": "code",
   "execution_count": 17,
   "metadata": {
    "collapsed": true
   },
   "outputs": [],
   "source": [
    "import matplotlib.pyplot as plt\n",
    "from torch.utils.data import DataLoader\n",
    "from torchvision.datasets import MNIST\n",
    "from torchvision import transforms\n",
    "import numpy as np\n",
    "%matplotlib inline\n",
    "\n"
   ]
  },
  {
   "cell_type": "code",
   "execution_count": 18,
   "metadata": {
    "collapsed": true
   },
   "outputs": [],
   "source": [
    "import numpy as np\n",
    "\n",
    "class Linear:\n",
    "    def __init__(self, input_size, output_size):        \n",
    "        '''\n",
    "        Creates weights and biases for linear layer.\n",
    "        Dimention of inputs is *input_size*, of output: *output_size*.\n",
    "        '''\n",
    "        #### YOUR CODE HERE\n",
    "        #### Create weights, initialize them with samples from N(0, 0.1).\n",
    "        \n",
    "        self.w = np.random.normal(0,0.1, (input_size+1, output_size))\n",
    "        \n",
    "    \n",
    "    def forward(self, X):\n",
    "        '''\n",
    "        Passes objects through this layer.\n",
    "        X is np.array of size (N, input_size)\n",
    "        '''\n",
    "        #### YOUR CODE HERE\n",
    "        #### Apply layer to input\n",
    "        self.X = np.append(X, np.ones((X.shape[0],1)), axis=1)\n",
    "        \n",
    "        self.y = np.dot(self.X, self.w)\n",
    "        return self.y\n",
    "    \n",
    "    def backward(self, dLdy):\n",
    "        '''\n",
    "        dLdy [N, output_size]\n",
    "        '''\n",
    "        '''\n",
    "        1. Compute dLdw and dLdx.\n",
    "        2. Store dLdw for step() call\n",
    "        3. Return dLdx\n",
    "        '''\n",
    "        #### YOUR CODE HERE\n",
    "        self.dLdw = np.dot(self.X.T, dLdy)\n",
    "        self.dLdx = np.dot(dLdy, self.w.T)\n",
    "\n",
    "        return self.dLdx[:,:(self.X.shape[1]-1)]\n",
    "    \n",
    "    def step(self, learning_rate):\n",
    "        '''\n",
    "        1. Apply gradient dLdw to network:\n",
    "        w <- w - l*dLdw\n",
    "        '''\n",
    "        #### YOUR CODE HERE\n",
    "        \n",
    "        self.w = self.w - learning_rate * self.dLdw"
   ]
  },
  {
   "cell_type": "code",
   "execution_count": 19,
   "metadata": {
    "collapsed": true
   },
   "outputs": [],
   "source": [
    "class Sigmoid:\n",
    "    def __init__(self):\n",
    "        \n",
    "        pass\n",
    "    \n",
    "    def forward(self, X):\n",
    "        '''\n",
    "        Passes objects through this layer.\n",
    "        X is np.array of size (N, d)\n",
    "        '''\n",
    "        #### YOUR CODE HERE\n",
    "        self.X = np.array(X)\n",
    "        self.sig = 1 / (1 + np.exp(-self.X))\n",
    "        return self.sig\n",
    "        \n",
    "       \n",
    "    def backward(self, dLdy):\n",
    "        '''\n",
    "        1. Compute dLdx.\n",
    "        2. Return dLdx\n",
    "        '''\n",
    "        #### YOUR CODE HERE\n",
    "        \n",
    "        return dLdy * self.sig * (1 - self.sig)\n",
    "    \n",
    "    def step(self, learning_rate):\n",
    "        pass"
   ]
  },
  {
   "cell_type": "code",
   "execution_count": 20,
   "metadata": {
    "collapsed": true
   },
   "outputs": [],
   "source": [
    "class NLLLoss:\n",
    "    def __init__(self):\n",
    "        '''\n",
    "        Applies Softmax operation to inputs and computes NLL loss\n",
    "        '''\n",
    "        #### YOUR CODE HERE\n",
    "        #### (Hint: No code is expected here, just joking)\n",
    "        pass\n",
    "    \n",
    "    def forward(self, X, y):\n",
    "        '''\n",
    "        Passes objects through this layer.\n",
    "        X is np.array of size (N, d)\n",
    "        y is np.array of size (N,), contains correct labels\n",
    "        '''\n",
    "        #### YOUR CODE HERE\n",
    "        #### Apply layer to input\n",
    "        self.X = X\n",
    "        Xmax = np.max(X,axis=1) # keep axis 0 (different points) intact\n",
    "        self.L = X[range(X.shape[0]),y] - Xmax - np.log( # trigger NumPy's \"smart indexing\" by feeding both array-like\n",
    "            np.sum( # log-sum-exp to avoid floating overflows\n",
    "                np.exp(\n",
    "                    (X.T-Xmax).T # hooray for NumPy broadcasting\n",
    "                ),\n",
    "                axis=1\n",
    "            )\n",
    "        )\n",
    "        \n",
    "        return -self.L\n",
    "        \n",
    "          \n",
    "    def backward(self):\n",
    "        '''\n",
    "        Note that here dLdy = 1 since L = y\n",
    "        1. Compute dLdx\n",
    "        2. Return dLdx\n",
    "        '''\n",
    "        #### YOUR CODE HERE\n",
    "        local_max = np.max(self.X,axis=1)\n",
    "        self.dLdx = -np.exp(\n",
    "            self.X.T - local_max - np.log(\n",
    "                np.sum(\n",
    "                    np.exp(self.X.T-local_max),\n",
    "                    axis=0\n",
    "                )\n",
    "            )\n",
    "        ).T\n",
    "        self.dLdx[range(X.shape[0]),y] += 1\n",
    "        self.dLdx = -self.dLdx # *negative*\n",
    "        \n",
    "        return self.dLdx\n",
    "        "
   ]
  },
  {
   "cell_type": "code",
   "execution_count": 21,
   "metadata": {
    "collapsed": true
   },
   "outputs": [],
   "source": [
    "class NeuralNetwork:\n",
    "    def __init__(self, modules):\n",
    "        '''\n",
    "        Constructs network with *modules* as its layers\n",
    "        '''\n",
    "        #### YOUR CODE HERE\n",
    "\n",
    "        self.list = []\n",
    "        for m in modules:\n",
    "            self.list.append(m)\n",
    "    \n",
    "    def forward(self, X):\n",
    "        #### YOUR CODE HERE\n",
    "        #### Apply layers to input\n",
    "        XX = np.array(X)\n",
    "        for i in self.list:\n",
    "            XX = i.forward(XX)\n",
    "        return XX\n",
    "    \n",
    "    def backward(self, dLdy):\n",
    "        '''\n",
    "        dLdy here is a gradient from loss function\n",
    "        '''\n",
    "        #### YOUR CODE HERE\n",
    "        QQ = dLdy\n",
    "        for i in self.list[::-1]:\n",
    "            QQ = i.backward(QQ)\n",
    "        return QQ\n",
    "    \n",
    "    def step(self, learning_rate):\n",
    "        for l in self.list:\n",
    "            l.step(learning_rate)\n",
    "            "
   ]
  },
  {
   "cell_type": "code",
   "execution_count": 22,
   "metadata": {
    "collapsed": false
   },
   "outputs": [],
   "source": [
    "to_numpy = lambda x: x.numpy()\n",
    "transform = transforms.Compose([\n",
    "                       transforms.ToTensor(),\n",
    "                       transforms.Normalize((0.1307,), (0.3081,))\n",
    "                    ])\n",
    "train_dataset = MNIST('.', train=True, download=True, transform=transform)\n",
    "test_dataset = MNIST('.', train=False, transform=transform)\n",
    "\n",
    "train_loader = DataLoader(train_dataset, batch_size=32, shuffle=True)\n",
    "test_loader = DataLoader(test_dataset, batch_size=32, shuffle=True)"
   ]
  },
  {
   "cell_type": "code",
   "execution_count": 23,
   "metadata": {
    "collapsed": false
   },
   "outputs": [],
   "source": [
    "## Usage example:\n",
    "for X, y in train_loader:\n",
    "    X = X.view(X.size(0), -1)\n",
    "    X = X.numpy() ### Converts torch.Tensor to numpy array\n",
    "    y = y.numpy()\n",
    "    pass"
   ]
  },
  {
   "cell_type": "code",
   "execution_count": 24,
   "metadata": {
    "collapsed": false
   },
   "outputs": [
    {
     "data": {
      "image/png": "[encoded data removed]",
      "text/plain": [
       "<matplotlib.figure.Figure at 0x118140450>"
      ]
     },
     "metadata": {},
     "output_type": "display_data"
    }
   ],
   "source": [
    "plt.figure(figsize=(6, 7))\n",
    "for i in range(25):\n",
    "    plt.subplot(5, 5, i+1)\n",
    "    plt.imshow(X[i].reshape(28, 28), cmap=plt.cm.Greys_r)\n",
    "    plt.title(y[i])\n",
    "    plt.axis('off')"
   ]
  },
  {
   "cell_type": "markdown",
   "metadata": {},
   "source": [
    "### Часть 1: MNIST\n",
    "Обучите полносвязную нейронную сеть с архитектурой 784-100-100-10 и сигмоидой в качестве нелинейности. Какую точность классификации удалось получить? Нарисуйте график сходимости на обучающей и тестовой выборках. В качестве темпа обучения (learning rate) возьмите 0.01"
   ]
  },
  {
   "cell_type": "code",
   "execution_count": 25,
   "metadata": {
    "collapsed": false
   },
   "outputs": [],
   "source": [
    "def train(train_loader, model, lr = 0.01):\n",
    "    lr = 0.01\n",
    "    loss = NLLLoss()\n",
    "    losts = []\n",
    "    for X, y in train_loader:\n",
    "        X = X.view(X.size(0), -1)\n",
    "        X = X.numpy() ### Converts torch.Tensor to numpy array\n",
    "        y = y.numpy()\n",
    "        luz = model.forward(X)\n",
    "        losts.append(loss.forward(luz, y))\n",
    "        model.backward(loss.backward())\n",
    "        model.step(lr)\n",
    "\n",
    "    losts = np.array(losts).mean(axis=1)\n",
    "    plt.plot(losts)\n",
    "    plt.show()"
   ]
  },
  {
   "cell_type": "code",
   "execution_count": 26,
   "metadata": {
    "collapsed": false
   },
   "outputs": [],
   "source": [
    "lr = 0.01\n",
    "terminator = NeuralNetwork([Linear(784,100), Sigmoid(), Linear(100,100), Sigmoid(), Linear(100,10)])\n",
    "loss = NLLLoss()\n",
    "losts = []\n",
    "\n",
    "for X, y in train_loader:\n",
    "    X = X.view(X.size(0), -1)\n",
    "    X = X.numpy() ### Converts torch.Tensor to numpy array\n",
    "    y = y.numpy()\n",
    "    luz = terminator.forward(X)\n",
    "    losts.append(loss.forward(luz, y))\n",
    "    terminator.backward(loss.backward())\n",
    "    terminator.step(lr)\n"
   ]
  },
  {
   "cell_type": "code",
   "execution_count": null,
   "metadata": {
    "collapsed": false
   },
   "outputs": [],
   "source": []
  },
  {
   "cell_type": "code",
   "execution_count": 27,
   "metadata": {
    "collapsed": false
   },
   "outputs": [
    {
     "data": {
      "image/png": "[encoded data removed]",
      "text/plain": [
       "<matplotlib.figure.Figure at 0x11c450290>"
      ]
     },
     "metadata": {},
     "output_type": "display_data"
    }
   ],
   "source": [
    "losts = np.array(losts).mean(axis=1)\n",
    "plt.plot(losts)\n",
    "plt.show()"
   ]
  },
  {
   "cell_type": "code",
   "execution_count": 28,
   "metadata": {
    "collapsed": false
   },
   "outputs": [],
   "source": [
    "answer =[]\n",
    "answer = np.array(answer)\n",
    "\n",
    "y_ans = []\n",
    "y_ans = np.array(y_ans)\n",
    "\n",
    "for T,y_hat in test_loader:\n",
    "    \n",
    "    T = T.view(T.size(0), -1)\n",
    "    T = T.numpy() ### Converts torch.Tensor to numpy array\n",
    "    y_hat = y_hat.numpy()\n",
    "    ans = terminator.forward(T)\n",
    "    ans = ans.argmax(axis=1)\n",
    "    answer = np.hstack((answer,ans))\n",
    "    y_ans = np.hstack((y_ans,y_hat))\n",
    "    \n",
    "    \n"
   ]
  },
  {
   "cell_type": "code",
   "execution_count": 29,
   "metadata": {
    "collapsed": false
   },
   "outputs": [],
   "source": [
    "from collections import Counter\n",
    "\n",
    "def accuracy(x,y):\n",
    "    num = Counter(x).most_common(1)[0][0]\n",
    "    x_1 = np.array(map(lambda x: int(x==num), x))\n",
    "    y_1 = np.array(map(lambda x: int(x==num), y))\n",
    "    not_x = np.array(map(lambda x: int(x!=num), x))\n",
    "    not_y = np.array(map(lambda x: int(x!=num), y))\n",
    "\n",
    "    an = float(sum(x_1*y_1) + sum(not_x*not_y)) / float(x.shape[0])\n",
    "    return an"
   ]
  },
  {
   "cell_type": "code",
   "execution_count": 30,
   "metadata": {
    "collapsed": false
   },
   "outputs": [
    {
     "data": {
      "text/plain": [
       "0.94499999999999995"
      ]
     },
     "execution_count": 30,
     "metadata": {},
     "output_type": "execute_result"
    }
   ],
   "source": [
    "from sklearn.metrics import accuracy_score\n",
    "\n",
    "accuracy_score(answer, y_ans)"
   ]
  },
  {
   "cell_type": "markdown",
   "metadata": {},
   "source": [
    "### Часть 2: Нелинейности"
   ]
  },
  {
   "cell_type": "markdown",
   "metadata": {},
   "source": [
    "Обучите нейронную сеть с другими нелинейностями: ReLU и ELU. Сравните скорости сходимости и качество классификации с различными функциями активации."
   ]
  },
  {
   "cell_type": "markdown",
   "metadata": {},
   "source": [
    "# ReLU"
   ]
  },
  {
   "cell_type": "code",
   "execution_count": 31,
   "metadata": {
    "collapsed": false
   },
   "outputs": [],
   "source": [
    "class ReLU:\n",
    "    def __init__(self):\n",
    "        \n",
    "        pass\n",
    "    \n",
    "    def forward(self, X):\n",
    "        '''\n",
    "        Passes objects through this layer.\n",
    "        X is np.array of size (N, d)\n",
    "        '''\n",
    "        #### YOUR CODE HERE\n",
    "        self.X = np.array(X)\n",
    "        \n",
    "        \n",
    "    \n",
    "        self.Relu = np.maximum(self.X, 0)\n",
    "        \n",
    "        return self.Relu\n",
    "        \n",
    "       \n",
    "    def backward(self, dLdy):\n",
    "        '''\n",
    "        1. Compute dLdx.\n",
    "        2. Return dLdx\n",
    "        '''\n",
    "        #### YOUR CODE HERE\n",
    "        A = self.Relu \n",
    "        A[A>0] = 1\n",
    "        return dLdy * A\n",
    "\n",
    "    \n",
    "    def step(self, learning_rate):\n",
    "        pass"
   ]
  },
  {
   "cell_type": "code",
   "execution_count": 32,
   "metadata": {
    "collapsed": false
   },
   "outputs": [],
   "source": [
    "lr = 0.01\n",
    "terminatorRelu = NeuralNetwork([Linear(784,100), ReLU(), Linear(100,100), ReLU(), Linear(100,10)])\n",
    "loss = NLLLoss()\n",
    "losts = []\n",
    "\n",
    "for X, y in train_loader:\n",
    "    X = X.view(X.size(0), -1)\n",
    "    X = X.numpy() ### Converts torch.Tensor to numpy array\n",
    "    y = y.numpy()\n",
    "    luz = terminatorRelu.forward(X)\n",
    "    losts.append(loss.forward(luz, y))\n",
    "    terminatorRelu.backward(loss.backward())\n",
    "    terminatorRelu.step(lr)\n",
    "\n"
   ]
  },
  {
   "cell_type": "code",
   "execution_count": 33,
   "metadata": {
    "collapsed": false
   },
   "outputs": [
    {
     "data": {
      "image/png": "[encoded data removed]",
      "text/plain": [
       "<matplotlib.figure.Figure at 0x117fa18d0>"
      ]
     },
     "metadata": {},
     "output_type": "display_data"
    }
   ],
   "source": [
    "losts = np.array(losts).mean(axis=1)\n",
    "plt.plot(losts)\n",
    "plt.show()"
   ]
  },
  {
   "cell_type": "code",
   "execution_count": 34,
   "metadata": {
    "collapsed": true
   },
   "outputs": [],
   "source": [
    "answer =[]\n",
    "answer = np.array(answer)\n",
    "\n",
    "y_ans = []\n",
    "y_ans = np.array(y_ans)\n",
    "\n",
    "for T,y_hat in test_loader:\n",
    "    \n",
    "    T = T.view(T.size(0), -1)\n",
    "    T = T.numpy() ### Converts torch.Tensor to numpy array\n",
    "    y_hat = y_hat.numpy()\n",
    "    ans = terminatorRelu.forward(T)\n",
    "    ans = ans.argmax(axis=1)\n",
    "    answer = np.hstack((answer,ans))\n",
    "    y_ans = np.hstack((y_ans,y_hat))\n",
    "    \n",
    "\n"
   ]
  },
  {
   "cell_type": "code",
   "execution_count": 35,
   "metadata": {
    "collapsed": false
   },
   "outputs": [
    {
     "data": {
      "text/plain": [
       "0.95199999999999996"
      ]
     },
     "execution_count": 35,
     "metadata": {},
     "output_type": "execute_result"
    }
   ],
   "source": [
    "from sklearn.metrics import accuracy_score\n",
    "\n",
    "accuracy_score(answer, y_ans)"
   ]
  },
  {
   "cell_type": "markdown",
   "metadata": {},
   "source": [
    "# ELU"
   ]
  },
  {
   "cell_type": "code",
   "execution_count": 41,
   "metadata": {
    "collapsed": false
   },
   "outputs": [],
   "source": [
    "class ELU:\n",
    "    def __init__(self):\n",
    "        \n",
    "        pass\n",
    "    \n",
    "    def forward(self, X):\n",
    "        '''\n",
    "        Passes objects through this layer.\n",
    "        X is np.array of size (N, d)\n",
    "        '''\n",
    "        #### YOUR CODE HERE\n",
    "        self.alpha = 1\n",
    "        self.X = np.array(X)\n",
    "        \n",
    "        A = self.X\n",
    "        A[A<=0] = self.alpha*(np.exp(A[A<0])-1)\n",
    "        \n",
    "        self.ELU = A\n",
    "        \n",
    "        return self.ELU\n",
    "        \n",
    "       \n",
    "    def backward(self, dLdy):\n",
    "        '''\n",
    "        1. Compute dLdx.\n",
    "        2. Return dLdx\n",
    "        '''\n",
    "        #### YOUR CODE HERE\n",
    "        A = self.ELU\n",
    "        A[A>0] = 1\n",
    "        A[A<=0]+= self.alpha\n",
    "        return dLdy * A\n",
    "\n",
    "    \n",
    "    def step(self, learning_rate):\n",
    "        pass"
   ]
  },
  {
   "cell_type": "code",
   "execution_count": null,
   "metadata": {
    "collapsed": false
   },
   "outputs": [],
   "source": [
    "\n",
    "lr = 0.01\n",
    "terminatorElu = NeuralNetwork([Linear(784,100), ELU(), Linear(100,100), ELU(), Linear(100,10)])\n",
    "loss = NLLLoss()\n",
    "losts = []\n",
    "\n",
    "for X, y in train_loader:\n",
    "    X = X.view(X.size(0), -1)\n",
    "    X = X.numpy() ### Converts torch.Tensor to numpy array\n",
    "    y = y.numpy()\n",
    "    luz = terminatorElu.forward(X)\n",
    "    losts.append(loss.forward(luz, y))\n",
    "    terminatorElu.backward(loss.backward())\n",
    "    terminatorElu.step(lr)\n",
    "\n"
   ]
  },
  {
   "cell_type": "code",
   "execution_count": null,
   "metadata": {
    "collapsed": false
   },
   "outputs": [],
   "source": [
    "losts = np.array(losts).mean(axis=1)\n",
    "plt.plot(losts)\n",
    "plt.show()"
   ]
  },
  {
   "cell_type": "code",
   "execution_count": null,
   "metadata": {
    "collapsed": false
   },
   "outputs": [],
   "source": [
    "answer =[]\n",
    "answer = np.array(answer)\n",
    "\n",
    "y_ans = []\n",
    "y_ans = np.array(y_ans)\n",
    "\n",
    "for T,y_hat in test_loader:\n",
    "    \n",
    "    T = T.view(T.size(0), -1)\n",
    "    T = T.numpy() ### Converts torch.Tensor to numpy array\n",
    "    y_hat = y_hat.numpy()\n",
    "    ans = terminatorElu.forward(T)\n",
    "    ans = ans.argmax(axis=1)\n",
    "    answer = np.hstack((answer,ans))\n",
    "    y_ans = np.hstack((y_ans,y_hat))\n",
    "    "
   ]
  },
  {
   "cell_type": "code",
   "execution_count": null,
   "metadata": {
    "collapsed": false
   },
   "outputs": [],
   "source": [
    "from sklearn.metrics import accuracy_score\n",
    "\n",
    "accuracy_score(answer, y_ans)"
   ]
  },
  {
   "cell_type": "markdown",
   "metadata": {},
   "source": [
    "Accuracy для различных методов:\n",
    "1) sigmoid = 0.94720000000000004\n",
    "2) ReLU = 0.94589999999999996\n",
    "3) ELU = 0.9466"
   ]
  },
  {
   "cell_type": "markdown",
   "metadata": {},
   "source": [
    "### Часть 3: Предобработка данных"
   ]
  },
  {
   "cell_type": "markdown",
   "metadata": {},
   "source": [
    "Посчитайте на всей обучающей выборке матрицу ковариации и среднее. Нормализуйте данные по схеме: вычесть среднее, декоррелировать, нормировать дисперсию. Сравните графики обучения на одной и той же архитектуре с и без предобработки."
   ]
  },
  {
   "cell_type": "code",
   "execution_count": 45,
   "metadata": {
    "collapsed": false
   },
   "outputs": [],
   "source": [
    "# берем первые 200 бачей\n",
    "\n",
    "i = 0\n",
    "for X, y in train_loader:\n",
    "   \n",
    "    X = X.view(X.size(0), -1)\n",
    "    X = X.numpy() ### Converts torch.Tensor to numpy array\n",
    "    y = y.numpy()\n",
    "    if i == 0:\n",
    "        X_all = X\n",
    "        y_all = y\n",
    "    else:\n",
    "        X_all = np.vstack((X_all,X))\n",
    "        y_all = np.hstack((y_all,y))\n",
    "    i+=1\n",
    "    if i == 100:\n",
    "        break\n"
   ]
  },
  {
   "cell_type": "code",
   "execution_count": 46,
   "metadata": {
    "collapsed": false
   },
   "outputs": [],
   "source": [
    "X_all_1 = X_all - X_all.mean(axis=0)\n"
   ]
  },
  {
   "cell_type": "code",
   "execution_count": 47,
   "metadata": {
    "collapsed": false
   },
   "outputs": [],
   "source": [
    "Cov = np.cov(X_all_1)"
   ]
  },
  {
   "cell_type": "code",
   "execution_count": 28,
   "metadata": {
    "collapsed": false
   },
   "outputs": [],
   "source": [
    "#Cov += 0.7*np.ones(Cov.shape)"
   ]
  },
  {
   "cell_type": "code",
   "execution_count": 48,
   "metadata": {
    "collapsed": false
   },
   "outputs": [],
   "source": [
    "INV = np.linalg.inv(Cov)"
   ]
  },
  {
   "cell_type": "code",
   "execution_count": 50,
   "metadata": {
    "collapsed": false
   },
   "outputs": [],
   "source": [
    "import scipy\n",
    "half = scipy.linalg.sqrtm(INV)"
   ]
  },
  {
   "cell_type": "code",
   "execution_count": 114,
   "metadata": {
    "collapsed": true
   },
   "outputs": [],
   "source": [
    "X_hat = half.dot(X_all_1)"
   ]
  },
  {
   "cell_type": "code",
   "execution_count": 115,
   "metadata": {
    "collapsed": false
   },
   "outputs": [
    {
     "name": "stdout",
     "output_type": "stream",
     "text": [
      "[[ 30585.45711138  30585.93811175  -4131.15913524 ...,  -7088.25203745\n",
      "   21471.45792017   6459.59355403]\n",
      " [ 30585.93811175  40054.05680945  -8571.5544394  ...,  -7760.59154183\n",
      "   14625.76577464   8030.12885919]\n",
      " [ -4131.15913524  -8571.5544394   10606.23162414 ...,  -4709.42552306\n",
      "   -1811.85724598  -4838.42319868]\n",
      " ..., \n",
      " [ -7088.25203745  -7760.59154183  -4709.42552306 ...,  10006.78779574\n",
      "   -3132.69729425   3877.45475222]\n",
      " [ 21471.45792017  14625.76577464  -1811.85724598 ...,  -3132.69729425\n",
      "   27561.30629452   4800.54685065]\n",
      " [  6459.59355403   8030.12885919  -4838.42319868 ...,   3877.45475222\n",
      "    4800.54685065   7600.70748754]]\n"
     ]
    }
   ],
   "source": [
    "print np.cov(X_hat)"
   ]
  },
  {
   "cell_type": "code",
   "execution_count": 104,
   "metadata": {
    "collapsed": false
   },
   "outputs": [],
   "source": [
    "X_hat = X_hat/(X_hat.std(axis=0))"
   ]
  },
  {
   "cell_type": "code",
   "execution_count": 105,
   "metadata": {
    "collapsed": false
   },
   "outputs": [],
   "source": [
    "lr = 0.01\n",
    "terminator_not_cor = NeuralNetwork([Linear(784,100), Sigmoid(), Linear(100,100), Sigmoid(), Linear(100,10)])\n",
    "loss = NLLLoss()\n",
    "losts_not_cor = []\n",
    "i = 0\n",
    "for X, y in train_loader:\n",
    "    \n",
    "    X = X.view(X.size(0), -1)\n",
    "    X = X.numpy() ### Converts torch.Tensor to numpy array\n",
    "    y = y.numpy()\n",
    "    \n",
    "    luz = terminator_not_cor.forward(X)\n",
    "    losts_not_cor.append(loss.forward(luz, y))\n",
    "    terminator_not_cor.backward(loss.backward())\n",
    "    terminator_not_cor.step(lr)\n",
    "    if i == 200:\n",
    "        break\n",
    "    i+=1"
   ]
  },
  {
   "cell_type": "code",
   "execution_count": 106,
   "metadata": {
    "collapsed": false
   },
   "outputs": [],
   "source": [
    "lr = 0.01\n",
    "terminator_cor = NeuralNetwork([Linear(784,100), Sigmoid(), Linear(100,100), Sigmoid(), Linear(100,10)])\n",
    "loss = NLLLoss()\n",
    "losts_cor = []\n",
    "y_all = y_all\n",
    "\n",
    "for i in range(1,100):\n",
    "    \n",
    "    X = X_hat[(i-1)*32:i*32,:]\n",
    "    \n",
    "    y = y_all[(i-1)*32:i*32]\n",
    "    \n",
    "    luz = terminator_cor.forward(X)\n",
    "    losts_cor.append(loss.forward(luz, y))\n",
    "    terminator_cor.backward(loss.backward())\n",
    "    terminator_cor.step(lr)\n",
    "    "
   ]
  },
  {
   "cell_type": "code",
   "execution_count": 107,
   "metadata": {
    "collapsed": false
   },
   "outputs": [
    {
     "data": {
      "image/png": "[encoded data removed]",
      "text/plain": [
       "<matplotlib.figure.Figure at 0x11d46a850>"
      ]
     },
     "metadata": {},
     "output_type": "display_data"
    }
   ],
   "source": [
    "losts_not_cor = np.array(losts_not_cor).mean(axis=1)\n",
    "losts_cor = np.array(losts_cor).mean(axis=1)\n",
    "plt.plot(losts_not_cor)\n",
    "plt.plot(losts_cor)\n",
    "plt.legend(['not cor',\n",
    "            'cor'],    \n",
    "            loc='upper left') \n",
    "plt.show()"
   ]
  },
  {
   "cell_type": "markdown",
   "metadata": {},
   "source": [
    "### Часть 4: Выводы\n",
    "Опишите полученные результаты: как влияют выбор нелинейности и предобработка данных на скорость сходимости и итоговое качество?"
   ]
  },
  {
   "cell_type": "code",
   "execution_count": null,
   "metadata": {
    "collapsed": true
   },
   "outputs": [],
   "source": []
  },
  {
   "cell_type": "code",
   "execution_count": null,
   "metadata": {
    "collapsed": true
   },
   "outputs": [],
   "source": []
  }
 ],
 "metadata": {
  "kernelspec": {
   "display_name": "Python 2",
   "language": "python",
   "name": "python2"
  },
  "language_info": {
   "codemirror_mode": {
    "name": "ipython",
    "version": 2
   },
   "file_extension": ".py",
   "mimetype": "text/x-python",
   "name": "python",
   "nbconvert_exporter": "python",
   "pygments_lexer": "ipython2",
   "version": "2.7.13"
  }
 },
 "nbformat": 4,
 "nbformat_minor": 2
}
