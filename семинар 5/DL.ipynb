{
 "cells": [
  {
   "cell_type": "markdown",
   "metadata": {},
   "source": [
    "## Семинар 5: \"Улучшение сходимости нейросетей\""
   ]
  },
  {
   "cell_type": "markdown",
   "metadata": {},
   "source": [
    "ФИО: Галицкий Игорь Олегович"
   ]
  },
  {
   "cell_type": "code",
   "execution_count": 1,
   "metadata": {
    "collapsed": false
   },
   "outputs": [
    {
     "name": "stderr",
     "output_type": "stream",
     "text": [
      "/Users/igor/anaconda/lib/python2.7/site-packages/sklearn/cross_validation.py:44: DeprecationWarning: This module was deprecated in version 0.18 in favor of the model_selection module into which all the refactored classes and functions are moved. Also note that the interface of the new CV iterators are different from that of this module. This module will be removed in 0.20.\n",
      "  \"This module will be removed in 0.20.\", DeprecationWarning)\n"
     ]
    }
   ],
   "source": [
    "import numpy as np\n",
    "from sklearn.datasets import fetch_mldata\n",
    "from sklearn.cross_validation import train_test_split\n",
    "import matplotlib.pyplot as plt\n",
    "import torch\n",
    "from torch import nn\n",
    "from torch.autograd import Variable\n",
    "from torch.utils.data import DataLoader\n",
    "from torchvision.datasets import MNIST\n",
    "from torchvision import transforms\n",
    "\n",
    "\n",
    "%matplotlib inline"
   ]
  },
  {
   "cell_type": "markdown",
   "metadata": {},
   "source": [
    "На этом семинаре мы попробуем улучшить результаты, полученные на предыдущем занятии\n",
    "Для этого нам понадобятся следующие вещи:\n",
    "* Dropout\n",
    "* Batch Normalization\n",
    "* Инициализация весов"
   ]
  },
  {
   "cell_type": "markdown",
   "metadata": {},
   "source": [
    "### Часть 1: Инициализация весов"
   ]
  },
  {
   "cell_type": "markdown",
   "metadata": {},
   "source": [
    "На лекции доказывалось, что при инициализации He и Glorot дисперсия активаций градиентов в каждом слое будут примерно равны. Давайте проверим это. "
   ]
  },
  {
   "cell_type": "code",
   "execution_count": 2,
   "metadata": {
    "collapsed": false
   },
   "outputs": [],
   "source": [
    "# Dataloader\n",
    "to_numpy = lambda x: x.numpy()\n",
    "transform = transforms.Compose([\n",
    "                       transforms.ToTensor(),\n",
    "                       transforms.Normalize((0.1307,), (0.3081,))\n",
    "                    ])\n",
    "train_dataset = MNIST('.', train=True, download=True, transform=transform)\n",
    "test_dataset = MNIST('.', train=False, transform=transform)\n",
    "\n",
    "train_loader = DataLoader(train_dataset, batch_size=32, shuffle=True)\n",
    "test_loader = DataLoader(test_dataset, batch_size=32, shuffle=True)"
   ]
  },
  {
   "cell_type": "code",
   "execution_count": 3,
   "metadata": {
    "collapsed": true
   },
   "outputs": [],
   "source": [
    "mnist = fetch_mldata('MNIST original')\n",
    "images = mnist['data']\n",
    "images = images.reshape(images.shape[0], 1, 28, 28)\n",
    "labels = mnist['target'].astype(int)\n",
    "np.random.seed(1)\n",
    "images_train, images_test, labels_train, labels_test = train_test_split(images, labels)\n",
    "images_train = torch.from_numpy(images_train).type(torch.FloatTensor)\n",
    "images_test = torch.from_numpy(images_test).type(torch.FloatTensor)\n",
    "labels_train = torch.from_numpy(labels_train)\n",
    "labels_test = torch.from_numpy(labels_test)"
   ]
  },
  {
   "cell_type": "code",
   "execution_count": 4,
   "metadata": {
    "collapsed": true
   },
   "outputs": [],
   "source": [
    "## Usage example:\n",
    "for X, y in train_loader:\n",
    "    X = X.view(X.size(0), -1)\n",
    "    X = X.numpy() ### Converts torch.Tensor to numpy array\n",
    "    y = y.numpy()\n",
    "    pass"
   ]
  },
  {
   "cell_type": "code",
   "execution_count": 5,
   "metadata": {
    "collapsed": false
   },
   "outputs": [
    {
     "data": {
      "image/png": "[encoded data removed]",
      "text/plain": [
       "<matplotlib.figure.Figure at 0x117ceebd0>"
      ]
     },
     "metadata": {},
     "output_type": "display_data"
    }
   ],
   "source": [
    "plt.figure(figsize=(6, 7))\n",
    "for i in range(25):\n",
    "    plt.subplot(5, 5, i+1)\n",
    "    plt.imshow(X[i].reshape(28, 28), cmap=plt.cm.Greys_r)\n",
    "    plt.title(y[i])\n",
    "    plt.axis('off')"
   ]
  },
  {
   "cell_type": "markdown",
   "metadata": {},
   "source": [
    "<i> 1.1 </i> Инициализируйте полносвязную сеть нормальным шумом N(0, 0.1) с архитектурой 784 -> 500 x (10 раз) -> 10. В качестве активации возьмите tanh"
   ]
  },
  {
   "cell_type": "code",
   "execution_count": 6,
   "metadata": {
    "collapsed": true
   },
   "outputs": [],
   "source": [
    "def init_layer(layer, mean=0.0, std=1.0):\n",
    "    # Тут надо быть аккуратным — можно случайно создать копию и менять значения у копии\n",
    "    weight = layer.state_dict()['weight']\n",
    "    bias = layer.state_dict()['bias']\n",
    "    bias.zero_()\n",
    "    weight.normal_(mean=0.0, std=0.1)\n",
    "\n",
    "def forward_hook(self, input_, output):\n",
    "        std = input_[0].std().data[0]\n",
    "        print 'forward', std\n",
    "\n",
    "def backward_hook(self, grad_input, grad_output):\n",
    "        if grad_input[1] is not None:\n",
    "            std = grad_input[1].std().data[0]\n",
    "            print 'backward', std\n",
    "\n",
    "    \n",
    "# пример:\n",
    "layer = nn.Linear(28*28, 10)\n",
    "layer.register_forward_hook(forward_hook)\n",
    "layer.register_backward_hook(backward_hook)\n",
    "init_layer(layer, 0.0, 0.1) # сюда надо подставить другие параметры"
   ]
  },
  {
   "cell_type": "markdown",
   "metadata": {},
   "source": [
    "<i>1.2 Пропустите батч изображений через нейронную сеть и вычислите дисперсию активаций. Затем вычислите градиент и получите дисперсию градиентов. Сравните эти значения между собой для разных слоев.</i>"
   ]
  },
  {
   "cell_type": "code",
   "execution_count": 7,
   "metadata": {
    "collapsed": true
   },
   "outputs": [],
   "source": [
    "def fully_connected(init_func, arc):\n",
    "    layers = []\n",
    "    for i in range(len(arc)-1):\n",
    "        layer = nn.Linear(arc[i], arc[i+1])\n",
    "        layer.register_forward_hook(forward_hook)\n",
    "        layer.register_backward_hook(backward_hook)\n",
    "        init_func(layer)\n",
    "        layers.append(layer)\n",
    "        layers.append(nn.Tanh())\n",
    "    layer = nn.Linear(500, 10)\n",
    "    layer.register_forward_hook(forward_hook)\n",
    "    layer.register_backward_hook(backward_hook)\n",
    "    init_func(layer)\n",
    "    layers.append(layer)\n",
    "    layers.append(nn.Tanh())\n",
    "    return nn.Sequential(*layers)"
   ]
  },
  {
   "cell_type": "code",
   "execution_count": 8,
   "metadata": {
    "collapsed": true
   },
   "outputs": [],
   "source": [
    "model = fully_connected(init_layer, [28*28,500]*5)"
   ]
  },
  {
   "cell_type": "code",
   "execution_count": 9,
   "metadata": {
    "collapsed": false
   },
   "outputs": [
    {
     "name": "stdout",
     "output_type": "stream",
     "text": [
      "forward 81.8368148804\n",
      "forward 0.998436152935\n",
      "forward 0.816687703133\n",
      "forward 0.819084644318\n",
      "forward 0.77959394455\n",
      "forward 0.813497304916\n",
      "forward 0.777141928673\n",
      "forward 0.81576526165\n",
      "forward 0.778333961964\n",
      "forward 0.817522466183\n",
      "backward 0.00175055896398\n",
      "backward 0.00187461473979\n",
      "backward 0.00273959431797\n",
      "backward 0.00304101174697\n",
      "backward 0.00451916689053\n",
      "backward 0.0049547040835\n",
      "backward 0.0072302329354\n",
      "backward 0.00791541580111\n",
      "backward 0.0106745604426\n"
     ]
    }
   ],
   "source": [
    "n_objects = 32\n",
    "X = Variable(images_train[:n_objects], requires_grad=False).view(n_objects, -1)\n",
    "y = Variable(labels_train[:n_objects], requires_grad=False)\n",
    "activations = model(X)\n",
    "loss_fn = torch.nn.NLLLoss()\n",
    "optimizer = torch.optim.Adam(model.parameters(), lr=0.001) \n",
    "loss = loss_fn(activations, y)\n",
    "loss.backward()"
   ]
  },
  {
   "cell_type": "markdown",
   "metadata": {},
   "source": [
    "<i>1.3 Повторите эксперимент для инициализаций He и Xavier (формулы есть в лекции).</i>"
   ]
  },
  {
   "cell_type": "markdown",
   "metadata": {},
   "source": [
    "# Xavier"
   ]
  },
  {
   "cell_type": "code",
   "execution_count": 10,
   "metadata": {
    "collapsed": true
   },
   "outputs": [],
   "source": [
    "##### YOUR CODE HERE #####\n",
    "def init_layer_Xavier(layer):\n",
    "    weight = layer.state_dict()['weight']\n",
    "    n_out,n_in = weight.size()\n",
    "    bias = layer.state_dict()['bias']\n",
    "    bias.zero_()\n",
    "    weight.uniform_(-np.sqrt(6)/(np.sqrt(n_in  + n_out)),np.sqrt(6)/(np.sqrt(n_in  + n_out)))"
   ]
  },
  {
   "cell_type": "code",
   "execution_count": 11,
   "metadata": {
    "collapsed": false
   },
   "outputs": [],
   "source": [
    "model = fully_connected(init_layer_Xavier, [28*28,500]*5)"
   ]
  },
  {
   "cell_type": "code",
   "execution_count": 12,
   "metadata": {
    "collapsed": false
   },
   "outputs": [
    {
     "name": "stdout",
     "output_type": "stream",
     "text": [
      "forward 81.8368148804\n",
      "forward 0.995974838734\n",
      "forward 0.58789563179\n",
      "forward 0.492781668901\n",
      "forward 0.374601304531\n",
      "forward 0.357266098261\n",
      "forward 0.288118332624\n",
      "forward 0.292538702488\n",
      "forward 0.244674578309\n",
      "forward 0.251155674458\n",
      "backward 0.00182205147576\n",
      "backward 0.00152899476234\n",
      "backward 0.00160666566808\n",
      "backward 0.00130320352037\n",
      "backward 0.00132340472192\n",
      "backward 0.00104204542004\n",
      "backward 0.000995956361294\n",
      "backward 0.000704227713868\n",
      "backward 0.000559665611945\n"
     ]
    }
   ],
   "source": [
    "n_objects = 32\n",
    "X = Variable(images_train[:n_objects], requires_grad=False).view(n_objects, -1)\n",
    "y = Variable(labels_train[:n_objects], requires_grad=False)\n",
    "activations = model(X)\n",
    "loss_fn = torch.nn.NLLLoss()\n",
    "optimizer = torch.optim.Adam(model.parameters(), lr=0.001) \n",
    "loss = loss_fn(activations, y)\n",
    "loss.backward()"
   ]
  },
  {
   "cell_type": "code",
   "execution_count": 13,
   "metadata": {
    "collapsed": true
   },
   "outputs": [],
   "source": [
    "def init_layer_He(layer):\n",
    "    weight = layer.state_dict()['weight']\n",
    "    n_out,n_in = weight.size()\n",
    "    bias = layer.state_dict()['bias']\n",
    "    bias.zero_()\n",
    "    weight.normal_(mean=0.,std=np.sqrt(2.)/n_out)"
   ]
  },
  {
   "cell_type": "code",
   "execution_count": 14,
   "metadata": {
    "collapsed": false
   },
   "outputs": [],
   "source": [
    "model = fully_connected(init_layer_He, [28*28,500]*5)"
   ]
  },
  {
   "cell_type": "code",
   "execution_count": 15,
   "metadata": {
    "collapsed": false
   },
   "outputs": [
    {
     "name": "stdout",
     "output_type": "stream",
     "text": [
      "forward 81.8368148804\n",
      "forward 0.936750292778\n",
      "forward 0.0376567877829\n",
      "forward 0.00299851107411\n",
      "forward 0.000121260382002\n",
      "forward 9.75641978584e-06\n",
      "forward 3.94203141241e-07\n",
      "forward 3.10933749859e-08\n",
      "forward 1.23588161927e-09\n",
      "forward 9.61232621277e-11\n",
      "backward 0.00443448219448\n",
      "backward 0.000280395935988\n",
      "backward 1.41047530633e-05\n",
      "backward 9.00159818684e-07\n",
      "backward 4.54687594242e-08\n",
      "backward 2.86218204693e-09\n",
      "backward 1.4542086979e-10\n",
      "backward 9.26207114477e-12\n",
      "backward 4.59936505114e-13\n"
     ]
    }
   ],
   "source": [
    "n_objects = 32\n",
    "X = Variable(images_train[:n_objects], requires_grad=False).view(n_objects, -1)\n",
    "y = Variable(labels_train[:n_objects], requires_grad=False)\n",
    "activations = model(X)\n",
    "loss_fn = torch.nn.NLLLoss()\n",
    "optimizer = torch.optim.Adam(model.parameters(), lr=0.001) \n",
    "loss = loss_fn(activations, y)\n",
    "loss.backward()"
   ]
  },
  {
   "cell_type": "markdown",
   "metadata": {},
   "source": [
    "<i> 1.4 Сделайте выводы по первой части </i>"
   ]
  },
  {
   "cell_type": "raw",
   "metadata": {},
   "source": [
    "Вывод: \n",
    "В отличие от обычной инициализации нормальным распределением N(0, 0.1), инициализация с помощью Xavier дает уменьшении дисперсии для каждого последубщего слоя, а использование He приводит к быстрой сходимости."
   ]
  },
  {
   "cell_type": "markdown",
   "metadata": {},
   "source": [
    "### Часть 2: Dropout"
   ]
  },
  {
   "cell_type": "markdown",
   "metadata": {},
   "source": [
    "Другим полезным слоем является Dropout. В нем с вероятностью 1-p зануляется выход каждого нейрона. Этот слой уже реализован в pyTorch, поэтому вновь реализовывать его не интересно. Давайте реализуем DropConnect — аналог Dropout. В нем с вероятностью 1-p зануляется каждый вес слоя."
   ]
  },
  {
   "cell_type": "markdown",
   "metadata": {},
   "source": [
    "<i> 2.1 Реализуйте линейный слой с DropConnect </i>"
   ]
  },
  {
   "cell_type": "code",
   "execution_count": 16,
   "metadata": {
    "collapsed": true
   },
   "outputs": [],
   "source": [
    "# полезная функция: .bernoulli_(p)\n",
    "# не забывайте делать requires_grad=False у маски\n",
    "# помните, что в вычислениях должны участвовать Variable, а не тензоры\n",
    "# не забывайте, что в pyTorch нету broadcasting (делайте .expand)\n",
    "\n",
    "\n",
    "class DropConnect(nn.Module):\n",
    "    def __init__(self, input_dim, output_dim, p=0.5):\n",
    "        super(DropConnect, self).__init__()\n",
    "        self.weight = torch.nn.Parameter(torch.Tensor(input_dim, output_dim).normal_(mean=0, std=0.01), requires_grad=True)\n",
    "        self.bias = torch.nn.Parameter(torch.Tensor(1, output_dim).zero_(), requires_grad=True)\n",
    "        self.p = p\n",
    "        self.n_in = input_dim\n",
    "        self.n_out = output_dim\n",
    "\n",
    "    def forward(self, x):\n",
    "        self.mask = Variable(torch.Tensor(self.n_in,self.n_out).bernoulli_(self.p),requires_grad=False)\n",
    "        batch_size = x.mm(self.weight*self.mask).size()[0]\n",
    "        output = x.mm(self.weight*self.mask) + self.bias.repeat(batch_size,1) ##### YOUR CODE HERE #####\n",
    "        return output"
   ]
  },
  {
   "cell_type": "markdown",
   "metadata": {},
   "source": [
    "<i> \n",
    "2.2 Сравните графики обучения нейроных сетей:\n",
    "1. 784 -> 200 -> 200 -> 10 с ReLU и Dropout между всеми слоями \n",
    "2. 784 -> 200 -> 200 -> 10 с ReLU DropConnect вместо всех линейных слоев\n",
    "</i>"
   ]
  },
  {
   "cell_type": "markdown",
   "metadata": {},
   "source": [
    "# 1 архитектура"
   ]
  },
  {
   "cell_type": "code",
   "execution_count": 54,
   "metadata": {
    "collapsed": false
   },
   "outputs": [],
   "source": [
    "network_dropout = nn.Sequential(\n",
    "                            nn.Linear(784,200),\n",
    "                            nn.Dropout(p=0.5),\n",
    "                            nn.ReLU(),\n",
    "                            nn.Linear(200,200),\n",
    "                            nn.Dropout(p=0.5),\n",
    "                            nn.ReLU(),\n",
    "                            nn.Linear(200,10)                        \n",
    ")\n",
    "loss_fn = nn.CrossEntropyLoss()\n",
    "optimizer = torch.optim.Adam(network_dropout.parameters(), lr=0.001)"
   ]
  },
  {
   "cell_type": "code",
   "execution_count": 55,
   "metadata": {
    "collapsed": false
   },
   "outputs": [
    {
     "name": "stderr",
     "output_type": "stream",
     "text": [
      "100%|██████████| 10/10 [00:27<00:00,  2.79s/it]\n"
     ]
    }
   ],
   "source": [
    "import tqdm\n",
    "batch_size = 100\n",
    "n_epochs = 10\n",
    "\n",
    "losses = [] \n",
    "for j in tqdm.tqdm(xrange(n_epochs)):\n",
    "    for i in xrange(0,20000, batch_size):\n",
    "        X = Variable(images_train[i:i+batch_size], requires_grad=False).view(batch_size, -1)\n",
    "        y = Variable(labels_train[i:i+batch_size], requires_grad=False)\n",
    "        activations = network_dropout(X)\n",
    "         \n",
    "        loss = loss_fn(activations, y)\n",
    "        losses.append(loss.data[0])\n",
    "        \n",
    "        optimizer.zero_grad()\n",
    "        loss.backward()\n",
    "        optimizer.step()"
   ]
  },
  {
   "cell_type": "markdown",
   "metadata": {},
   "source": [
    "# 2 архитектура"
   ]
  },
  {
   "cell_type": "code",
   "execution_count": 56,
   "metadata": {
    "collapsed": false
   },
   "outputs": [],
   "source": [
    "network_dropconnect = nn.Sequential(\n",
    "                            DropConnect(784,200),\n",
    "                            nn.ReLU(),\n",
    "                            DropConnect(200,200),\n",
    "                            nn.ReLU(),\n",
    "                            DropConnect(200,10),\n",
    ")\n",
    "loss_fn = nn.CrossEntropyLoss()\n",
    "optimizer = torch.optim.Adam(network_dropconnect.parameters(), lr=0.001)"
   ]
  },
  {
   "cell_type": "code",
   "execution_count": 57,
   "metadata": {
    "collapsed": false
   },
   "outputs": [
    {
     "name": "stderr",
     "output_type": "stream",
     "text": [
      "100%|██████████| 10/10 [01:22<00:00,  8.20s/it]\n"
     ]
    }
   ],
   "source": [
    "batch_size = 60\n",
    "n_epochs = 10\n",
    "\n",
    "losses_2 = [] \n",
    "for j in tqdm.tqdm(xrange(n_epochs)):\n",
    "    for i in xrange(0,20000,batch_size):\n",
    "        X = Variable(images_train[i:i+batch_size], requires_grad=False).view(batch_size, -1)\n",
    "        y = Variable(labels_train[i:i+batch_size], requires_grad=False)\n",
    "        activations = network_dropconnect(X)\n",
    "        loss = loss_fn(activations, y)\n",
    "        losses_2.append(loss.data[0])\n",
    "        \n",
    "        optimizer.zero_grad()\n",
    "        loss.backward()\n",
    "        optimizer.step()"
   ]
  },
  {
   "cell_type": "code",
   "execution_count": null,
   "metadata": {
    "collapsed": true
   },
   "outputs": [],
   "source": []
  },
  {
   "cell_type": "markdown",
   "metadata": {},
   "source": [
    "<i> 2.3 Сделайте выводы по третьей части </i>"
   ]
  },
  {
   "cell_type": "code",
   "execution_count": 58,
   "metadata": {
    "collapsed": false
   },
   "outputs": [
    {
     "data": {
      "text/plain": [
       "<matplotlib.legend.Legend at 0x12f3ad050>"
      ]
     },
     "execution_count": 58,
     "metadata": {},
     "output_type": "execute_result"
    },
    {
     "data": {
      "image/png": "[encoded data removed]",
      "text/plain": [
       "<matplotlib.figure.Figure at 0x12f01efd0>"
      ]
     },
     "metadata": {},
     "output_type": "display_data"
    }
   ],
   "source": [
    "plt.plot(losses[20:500],label='loss with Dropout')\n",
    "plt.plot(losses_2[20:500],label='loss with DropConnect')\n",
    "\n",
    "plt.legend()"
   ]
  },
  {
   "cell_type": "markdown",
   "metadata": {},
   "source": [
    "обучение хотябы происходит)"
   ]
  },
  {
   "cell_type": "markdown",
   "metadata": {},
   "source": [
    "В test-time стохастичность Dropout убирают и заменяют все веса на их ожидаемое значение: $\\mathbb{E}w = pw + (1-p)0 = pw$."
   ]
  },
  {
   "cell_type": "markdown",
   "metadata": {},
   "source": [
    "### Часть 3: Batch Normalization"
   ]
  },
  {
   "cell_type": "markdown",
   "metadata": {},
   "source": [
    "Наконец, давайте рассмотрим Batch Normalization. Этот слой вычитает среднее и делит на стандартное отклонение. Среднее и дисперсия вычисляются по батчу независимо для каждого нейрона. У этого слоя есть две важные проблемы: его нельзя использовать при обучении с размером батча 1 и он делает элементы батча зависимыми. Давайте реализуем аналог батч нормализации: <a href=https://arxiv.org/pdf/1607.06450.pdf>Layer normalization</a>. В layer normalization среднее и дисперсия вычисляются по активациям нейронов, независимо для каждого объекта."
   ]
  },
  {
   "cell_type": "markdown",
   "metadata": {},
   "source": [
    "<i> 3.1 Реализуйте Layer Normalization </i>"
   ]
  },
  {
   "cell_type": "code",
   "execution_count": 35,
   "metadata": {
    "collapsed": true
   },
   "outputs": [],
   "source": [
    "# полезные функции: .std(dim), .mean(dim)\n",
    "# не забывайте, что в pyTorch нету broadcasting (делайте .expand)\n",
    "\n",
    "class LayerNormalization(nn.Module):\n",
    "    def __init__(self):\n",
    "        super(LayerNormalization, self).__init__()\n",
    "        self.gamma = torch.nn.Parameter(torch.Tensor([1.0]))\n",
    "        self.beta = torch.nn.Parameter(torch.Tensor([0.0]))\n",
    "        \n",
    "    def forward(self, x):\n",
    "        batch_size,n_activations = x.size()\n",
    "        output = self.gamma.repeat(batch_size,n_activations)*(x - x.mean(1).repeat(1,n_activations))/x.std(1).repeat(1,n_activations) + self.beta.repeat(batch_size,n_activations)\n",
    "        return output"
   ]
  },
  {
   "cell_type": "markdown",
   "metadata": {},
   "source": [
    "<i> \n",
    "3.2 Сравните графики обучения нейроных сетей:\n",
    "1. 784 -> 200 -> 200 -> 10 с ReLU и Batch normalization между всеми слоями \n",
    "2. 784 -> 200 -> 200 -> 10 с ReLU и Layer normalization между всеми слоями \n",
    "</i>"
   ]
  },
  {
   "cell_type": "markdown",
   "metadata": {},
   "source": [
    "# Архитектура 1"
   ]
  },
  {
   "cell_type": "code",
   "execution_count": 31,
   "metadata": {
    "collapsed": true
   },
   "outputs": [],
   "source": [
    "nn_1 = nn.Sequential(nn.Linear(784,200),\n",
    "                     nn.ReLU(),\n",
    "                     nn.BatchNorm1d(200),\n",
    "                     nn.Linear(200,200),\n",
    "                     nn.ReLU(),\n",
    "                     nn.BatchNorm1d(200),\n",
    "                     nn.Linear(200,10),\n",
    "                     nn.BatchNorm1d(10),\n",
    "                    )\n",
    "loss_fn = nn.CrossEntropyLoss()\n",
    "optimizer = torch.optim.Adam(nn_1.parameters(), lr=0.001)"
   ]
  },
  {
   "cell_type": "code",
   "execution_count": 32,
   "metadata": {
    "collapsed": false
   },
   "outputs": [
    {
     "name": "stderr",
     "output_type": "stream",
     "text": [
      "100%|██████████| 10/10 [00:43<00:00,  4.38s/it]\n"
     ]
    }
   ],
   "source": [
    "batch_size = 60\n",
    "n_epochs = 10\n",
    "\n",
    "losses = [] \n",
    "for j in tqdm.tqdm(xrange(n_epochs)):\n",
    "    for i in xrange(0,20000,batch_size):\n",
    "        X = Variable(images_train[i:i+batch_size], requires_grad=False).view(batch_size, -1)\n",
    "        y = Variable(labels_train[i:i+batch_size], requires_grad=False)\n",
    "        activations = nn_1(X)\n",
    "         \n",
    "        loss = loss_fn(activations, y)\n",
    "        losses.append(loss.data[0])\n",
    "        \n",
    "        optimizer.zero_grad()\n",
    "        loss.backward()\n",
    "        optimizer.step()"
   ]
  },
  {
   "cell_type": "markdown",
   "metadata": {},
   "source": [
    "# Архитектура 2"
   ]
  },
  {
   "cell_type": "code",
   "execution_count": 37,
   "metadata": {
    "collapsed": false
   },
   "outputs": [],
   "source": [
    "nn_2 = nn.Sequential(nn.Linear(784,200),\n",
    "                     nn.ReLU(),\n",
    "                     LayerNormalization(),\n",
    "                     nn.Linear(200,200),\n",
    "                     nn.ReLU(),\n",
    "                     LayerNormalization(),\n",
    "                     nn.Linear(200,10),\n",
    "                     LayerNormalization(),\n",
    "                    )\n",
    "loss_fn = nn.CrossEntropyLoss()\n",
    "optimizer = torch.optim.Adam(nn_2.parameters(), lr=0.001)"
   ]
  },
  {
   "cell_type": "code",
   "execution_count": 39,
   "metadata": {
    "collapsed": false
   },
   "outputs": [
    {
     "name": "stderr",
     "output_type": "stream",
     "text": [
      "  0%|          | 0/10 [00:00<?, ?it/s]/Users/igor/anaconda/lib/python2.7/site-packages/torch/autograd/_functions/basic_ops.py:34: UserWarning: self and other not broadcastable, but have the same number of elements.  Falling back to deprecated pointwise behavior.\n",
      "  return a.sub(b)\n",
      "/Users/igor/anaconda/lib/python2.7/site-packages/torch/autograd/_functions/basic_ops.py:63: UserWarning: self and other not broadcastable, but have the same number of elements.  Falling back to deprecated pointwise behavior.\n",
      "  return a.div(b)\n",
      "/Users/igor/anaconda/lib/python2.7/site-packages/torch/autograd/_functions/basic_ops.py:48: UserWarning: self and other not broadcastable, but have the same number of elements.  Falling back to deprecated pointwise behavior.\n",
      "  return a.mul(b)\n",
      "100%|██████████| 10/10 [03:37<00:00, 21.72s/it]\n"
     ]
    }
   ],
   "source": [
    "batch_size = 60\n",
    "n_epochs = 10\n",
    "\n",
    "losses = [] \n",
    "for j in tqdm.tqdm(xrange(n_epochs)):\n",
    "    for i in xrange(0,20000,batch_size):\n",
    "        X = Variable(images_train[i:i+batch_size], requires_grad=False).view(batch_size, -1)\n",
    "        y = Variable(labels_train[i:i+batch_size], requires_grad=False)\n",
    "        activations = nn_2(X)\n",
    "         \n",
    "        loss = loss_fn(activations, y)\n",
    "        losses.append(loss.data[0])\n",
    "        \n",
    "        optimizer.zero_grad()\n",
    "        loss.backward()\n",
    "        optimizer.step()"
   ]
  },
  {
   "cell_type": "code",
   "execution_count": 40,
   "metadata": {
    "collapsed": false
   },
   "outputs": [
    {
     "data": {
      "text/plain": [
       "<matplotlib.legend.Legend at 0x115345e10>"
      ]
     },
     "execution_count": 40,
     "metadata": {},
     "output_type": "execute_result"
    },
    {
     "data": {
      "image/png": "[encoded data removed]",
      "text/plain": [
       "<matplotlib.figure.Figure at 0x125dcbb90>"
      ]
     },
     "metadata": {},
     "output_type": "display_data"
    }
   ],
   "source": [
    "plt.plot(losses,label='BatchNormalization')\n",
    "plt.plot(losses_2,label='LayerNormalization')\n",
    "plt.title('loss on train')\n",
    "plt.legend()"
   ]
  },
  {
   "cell_type": "markdown",
   "metadata": {},
   "source": [
    "<i> 3.3 Сделайте выводы по третьей части </i>"
   ]
  },
  {
   "cell_type": "raw",
   "metadata": {},
   "source": [
    "Batch нормализация показывает лучший результат."
   ]
  },
  {
   "cell_type": "markdown",
   "metadata": {},
   "source": [
    "#### Feedback (опционально)"
   ]
  },
  {
   "cell_type": "markdown",
   "metadata": {},
   "source": [
    "Здесь вы можете оставить список опечаток из лекции или семинара:"
   ]
  },
  {
   "cell_type": "raw",
   "metadata": {},
   "source": []
  },
  {
   "cell_type": "markdown",
   "metadata": {},
   "source": [
    "Здесь вы можете оставить комментарии по лекции или семинару:"
   ]
  },
  {
   "cell_type": "raw",
   "metadata": {},
   "source": []
  }
 ],
 "metadata": {
  "kernelspec": {
   "display_name": "Python 2",
   "language": "python",
   "name": "python2"
  },
  "language_info": {
   "codemirror_mode": {
    "name": "ipython",
    "version": 2
   },
   "file_extension": ".py",
   "mimetype": "text/x-python",
   "name": "python",
   "nbconvert_exporter": "python",
   "pygments_lexer": "ipython2",
   "version": "2.7.13"
  },
  "latex_envs": {
   "bibliofile": "biblio.bib",
   "cite_by": "apalike",
   "current_citInitial": 1,
   "eqLabelWithNumbers": true,
   "eqNumInitial": 0
  }
 },
 "nbformat": 4,
 "nbformat_minor": 1
}
